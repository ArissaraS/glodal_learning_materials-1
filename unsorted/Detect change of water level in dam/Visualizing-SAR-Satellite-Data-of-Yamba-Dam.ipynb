{
 "cells": [
  {
   "cell_type": "markdown",
   "id": "b4947d39",
   "metadata": {},
   "source": [
    "# Training Materials: Visualizing SAR Satellite Data of Yamba Dam"
   ]
  },
  {
   "cell_type": "markdown",
   "id": "3009f8a4",
   "metadata": {},
   "source": [
    "## Module 1: Introduction to SAR and ALOS-2"
   ]
  },
  {
   "cell_type": "markdown",
   "id": "76d33c0a",
   "metadata": {},
   "source": [
    "### 1.1 What is SAR?"
   ]
  },
  {
   "cell_type": "markdown",
   "id": "de562fb4",
   "metadata": {},
   "source": [
    "* Basic principles of Synthetic Aperture Radar (SAR)\n",
    "* Advantages of SAR for Earth observation (all-weather, day/night)\n",
    "* Common applications of SAR data"
   ]
  },
  {
   "cell_type": "markdown",
   "id": "990ae2f4",
   "metadata": {},
   "source": [
    "### 1.2 Introduction to ALOS-2 (Daichi-2)"
   ]
  },
  {
   "cell_type": "markdown",
   "id": "b3d4d100",
   "metadata": {},
   "source": [
    "* Overview of the ALOS-2 mission and its objectives (Reference 8.1.1 a & b)\n",
    "* Sensor specifications and capabilities (Reference 8.1.1 a & b)\n",
    "* Data availability and access (mention JAXA)"
   ]
  },
  {
   "cell_type": "markdown",
   "id": "fbb1753b",
   "metadata": {},
   "source": [
    "### 1.3 ALOS-2 Data Applications (Reference 8.1.1 c)"
   ]
  },
  {
   "cell_type": "markdown",
   "id": "cc52f95e",
   "metadata": {},
   "source": [
    "* Focus on Hydrology and Water Resource Management\n",
    "* Briefly mention other relevant applications (Disaster Monitoring)"
   ]
  },
  {
   "cell_type": "markdown",
   "id": "26c0ab65",
   "metadata": {},
   "source": [
    "## Module 2: Working with ALOS-2 Data in Python"
   ]
  },
  {
   "cell_type": "markdown",
   "id": "2af31f42",
   "metadata": {},
   "source": [
    "### 2.1 Introduction to Python and Required Libraries"
   ]
  },
  {
   "cell_type": "markdown",
   "id": "a88db52c",
   "metadata": {},
   "source": [
    "* Brief overview of Python for non-programmers (Reference 8.1.2 b)\n",
    "* Installation of necessary libraries (rasterio, matplotlib, numpy, geopandas, scikit-image, scipy) (Reference: Code examples throughout 8.1 and 8.2)"
   ]
  },
  {
   "cell_type": "code",
   "execution_count": null,
   "id": "9f170663",
   "metadata": {},
   "outputs": [],
   "source": [
    "!pip install rasterio matplotlib numpy geopandas scikit-image scipy"
   ]
  },
  {
   "cell_type": "markdown",
   "id": "7e359089",
   "metadata": {},
   "source": [
    "### 2.2 Reading and Visualizing ALOS-2 Data (Reference 8.1.2 f & g)"
   ]
  },
  {
   "cell_type": "markdown",
   "id": "ccf23537",
   "metadata": {},
   "source": [
    "* Understanding GeoTIFF format (Reference 8.1.2 a)\n",
    "* Loading ALOS-2 data using rasterio (Reference 8.1.2 g)\n",
    "* Basic visualization with matplotlib (Reference 8.1.2 g)\n",
    "* Applying colormaps for enhanced visualization (Reference 8.1.2 g)\n",
    "* Generating histograms of pixel values (Reference 8.1.2 g)"
   ]
  },
  {
   "cell_type": "code",
   "execution_count": null,
   "id": "7165befa",
   "metadata": {},
   "outputs": [],
   "source": [
    "import rasterio\n",
    "import matplotlib.pyplot as plt\n",
    "import numpy as np\n",
    "\n",
    "# Replace with your actual file path\n",
    "alos_file = 'IMG-HH-ALOS2310942880-200225-UBSR2.1GUD.tif'\n",
    "\n",
    "with rasterio.open(alos_file) as src:\n",
    "    alos_data = src.read(1)\n",
    "\n",
    "plt.figure(figsize=(10, 10))\n",
    "plt.imshow(alos_data, cmap='gray')\n",
    "plt.title('ALOS Data (Band 1)')\n",
    "plt.colorbar(label='Pixel values')\n",
    "plt.show()\n",
    "\n",
    "plt.figure(figsize=(10, 10))\n",
    "plt.imshow(alos_data, cmap='viridis')\n",
    "plt.title('ALOS Data (Band 1) with Viridis Colormap')\n",
    "plt.colorbar(label='Pixel values')\n",
    "plt.show()\n",
    "\n",
    "hist_values, bin_edges = np.histogram(alos_data, bins=256)\n",
    "plt.figure(figsize=(8, 6))\n",
    "plt.plot(bin_edges[:-1], hist_values, lw=2)\n",
    "plt.title('Histogram of ALOS Data (Band 1)')\n",
    "plt.xlabel('Pixel values')\n",
    "plt.ylabel('Frequency')\n",
    "plt.grid(True)\n",
    "plt.show()"
   ]
  }
 ],
 "metadata": {
  "kernelspec": {
   "display_name": "Python 3 (ipykernel)",
   "language": "python",
   "name": "python3"
  },
  "language_info": {
   "codemirror_mode": {
    "name": "ipython",
    "version": 3
   },
   "file_extension": ".py",
   "mimetype": "text/x-python",
   "name": "python",
   "nbconvert_exporter": "python",
   "pygments_lexer": "ipython3",
   "version": "3.11.6"
  }
 },
 "nbformat": 4,
 "nbformat_minor": 5
}
