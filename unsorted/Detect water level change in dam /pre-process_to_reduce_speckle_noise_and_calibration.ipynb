{
 "cells": [
  {
   "cell_type": "markdown",
   "id": "72e8b8f0",
   "metadata": {},
   "source": [
    "## Training Materials: ALOS-2 Data Preprocessing and Calibration"
   ]
  },
  {
   "cell_type": "markdown",
   "id": "8283e963",
   "metadata": {},
   "source": [
    "This notebook provides a practical guide to preprocessing ALOS-2 data, focusing on speckle noise reduction and radiometric calibration."
   ]
  },
  {
   "cell_type": "markdown",
   "id": "7876ee00",
   "metadata": {},
   "source": [
    "**I. Introduction to ALOS-2 Data and Preprocessing**"
   ]
  },
  {
   "cell_type": "markdown",
   "id": "c7040acd",
   "metadata": {},
   "source": [
    "* **1.1 ALOS-2**\n",
    "    * ALOS-2 (Advanced Land Observing Satellite-2) is a Japanese Earth observation satellite equipped with an L-band synthetic aperture radar (SAR).  It provides high-resolution imagery regardless of weather conditions, making it valuable for various applications.\n",
    "    * Preprocessing is crucial for enhancing the quality and interpretability of ALOS-2 data by mitigating inherent noise and ensuring accurate measurements."
   ]
  },
  {
   "cell_type": "markdown",
   "id": "a4312084",
   "metadata": {},
   "source": [
    "* **1.2 Common Preprocessing Steps:**\n",
    "    * **Speckle filtering:** Speckle noise, a granular interference pattern, is inherent in SAR imagery. Speckle filtering reduces this noise, improving image clarity.\n",
    "    * **Radiometric calibration:** Calibration converts digital pixel values to physical units (e.g., backscatter), enabling quantitative analysis."
   ]
  },
  {
   "cell_type": "markdown",
   "id": "623cd832",
   "metadata": {},
   "source": [
    "**II. Setting up the Environment**"
   ]
  },
  {
   "cell_type": "markdown",
   "id": "e1e646a8",
   "metadata": {},
   "source": [
    "* **2.1 Installing Necessary Libraries:**"
   ]
  },
  {
   "cell_type": "code",
   "execution_count": null,
   "id": "74af5216",
   "metadata": {},
   "outputs": [],
   "source": [
    "!pip install rasterio numpy geopandas matplotlib scipy scikit-image"
   ]
  },
  {
   "cell_type": "markdown",
   "id": "347dd48d",
   "metadata": {},
   "source": [
    "* **2.2 Data Acquisition:**\n",
    "    * ALOS-2 data can be obtained from the Japan Aerospace Exploration Agency (JAXA).\n",
    "    * Ensure the data is in GeoTIFF format for compatibility with the provided code."
   ]
  },
  {
   "cell_type": "markdown",
   "id": "33403160",
   "metadata": {},
   "source": [
    "* **2.3 Loading Data with Rasterio:**"
   ]
  },
  {
   "cell_type": "code",
   "execution_count": null,
   "id": "a6059d95",
   "metadata": {},
   "outputs": [],
   "source": [
    "import rasterio\n",
    "import numpy as np\n",
    "import geopandas as gpd\n",
    "import matplotlib.pyplot as plt\n",
    "from scipy.ndimage import uniform_filter\n",
    "from skimage.transform import resize\n",
    "from rasterio.mask import mask\n",
    "\n",
    "image_path = '/home/jovyan/shared/PCN/ALOS-2/ALOS-2 data/Alos_2_2015_HV.tif'  # Replace with your ALOS-2 image path\n",
    "aoifile = '/home/jovyan/shared/PCN/ALOS-2/ALOS-2 data/AOI_shapefile.shp'\n",
    "aoifile = gpd.read_file(aoifile)\n",
    "with rasterio.open(image_path) as src:\n",
    "    image_data = src.read(1) # Read the first band\n",
    "    metadata = src.meta\n",
    "    out_image, out_transform = mask.mask(src, aoifile.geometry, crop=True)\n",
    "    out_meta = src.meta.copy()\n",
    "out_meta.update({\"driver\": \"GTiff\",\n",
    "                \"height\": out_image.shape[1],\n",
    "                \"width\": out_image.shape[2],\n",
    "                \"transform\": out_transform})\n",
    "clipped_image = out_image[0]"
   ]
  },
  {
   "cell_type": "markdown",
   "id": "b09fea49",
   "metadata": {},
   "source": [
    "**III. Speckle Filtering**"
   ]
  },
  {
   "cell_type": "markdown",
   "id": "dc10acad",
   "metadata": {},
   "source": [
    "* **3.1 Introduction to Speckle Filtering Techniques:**\n",
    "    * Various speckle filters exist, including Lee, Frost, and Refined Lee.  The Lee filter is a commonly used adaptive filter."
   ]
  },
  {
   "cell_type": "markdown",
   "id": "7bc84eb1",
   "metadata": {},
   "source": [
    "* **3.2 Implementing the Lee Filter:**"
   ]
  },
  {
   "cell_type": "code",
   "execution_count": null,
   "id": "f17436b6",
   "metadata": {},
   "outputs": [],
   "source": [
    "def lee_filter(img, size=5):\n",
    "    img_mean = uniform_filter(img, (size, size))\n",
    "    img_sqr_mean = uniform_filter(img**2, (size, size))\n",
    "    img_variance = img_sqr_mean - img_mean**2\n",
    "    overall_variance = np.var(img)\n",
    "    img_noise_variance = np.maximum(img_variance - overall_variance, 0)\n",
    "    weights = img_noise_variance / (img_noise_variance + img_variance)\n",
    "    img_filtered = img_mean + weights * (img - img_mean)\n",
    "    return img_filtered\n",
    "\n",
    "filtered_image = lee_filter(clipped_image)"
   ]
  },
  {
   "cell_type": "markdown",
   "id": "7823abf7",
   "metadata": {},
   "source": [
    "* **3.3 Visualizing the Results:**"
   ]
  },
  {
   "cell_type": "code",
   "execution_count": null,
   "id": "a42604b3",
   "metadata": {},
   "outputs": [],
   "source": [
    "plt.figure(figsize=(10, 5))\n",
    "plt.subplot(1, 2, 1)\n",
    "plt.imshow(clipped_image, cmap='gray')\n",
    "plt.title('Original Image')\n",
    "plt.subplot(1, 2, 2)\n",
    "plt.imshow(filtered_image, cmap='gray')\n",
    "plt.title('Filtered Image')\n",
    "plt.show()"
   ]
  },
  {
   "cell_type": "markdown",
   "id": "132923e3",
   "metadata": {},
   "source": [
    "**IV. Radiometric Calibration**"
   ]
  },
  {
   "cell_type": "markdown",
   "id": "c4c44505",
   "metadata": {},
   "source": [
    "* **4.1 ALOS-2 Calibration Formula:**\n",
    "    * `calibrated_image = (10 * np.log10(image**2)) - 83`\n",
    "    * This formula converts pixel values to decibels, representing radar backscatter. The constants are specific to ALOS-2."
   ]
  },
  {
   "cell_type": "markdown",
   "id": "ce56099a",
   "metadata": {},
   "source": [
    "* **4.2 Applying Calibration:**"
   ]
  },
  {
   "cell_type": "code",
   "execution_count": null,
   "id": "52cf387d",
   "metadata": {},
   "outputs": [],
   "source": [
    "calibrated_image = (10 * np.log10(image**2)) - 83"
   ]
  },
  {
   "cell_type": "markdown",
   "id": "87dca3cc",
   "metadata": {},
   "source": [
    "* **4.3 Visualizing Calibrated Data:**"
   ]
  },
  {
   "cell_type": "code",
   "execution_count": null,
   "id": "0e8ddec1",
   "metadata": {},
   "outputs": [],
   "source": [
    "plt.figure(figsize=(10,5))\n",
    "plt.imshow(calibrated_image, cmap='gray')\n",
    "plt.title('Calibrated Image')\n",
    "plt.show()"
   ]
  },
  {
   "cell_type": "markdown",
   "id": "1eb2aa0a",
   "metadata": {},
   "source": [
    "**V. Saving Processed Data**"
   ]
  },
  {
   "cell_type": "markdown",
   "id": "1ce1716c",
   "metadata": {},
   "source": [
    "* **5.1 Writing GeoTIFFs with Rasterio:**"
   ]
  },
  {
   "cell_type": "code",
   "execution_count": null,
   "id": "c11fa391",
   "metadata": {},
   "outputs": [],
   "source": [
    "with rasterio.open('filtered_calibrated_image.tif', 'w', **out_meta) as dest:\n",
    "    dest.write(calibrated_image.astype(rasterio.float32), 1)"
   ]
  },
  {
   "cell_type": "markdown",
   "id": "016b5bcf",
   "metadata": {},
   "source": [
    "* **5.2 File Naming Conventions:**\n",
    "    * Use descriptive names including date, sensor, and processing steps."
   ]
  },
  {
   "cell_type": "code",
   "execution_count": null,
   "id": "cf31b036-98f6-480f-b6fd-72574dbcd99f",
   "metadata": {},
   "outputs": [],
   "source": []
  }
 ],
 "metadata": {
  "kernelspec": {
   "display_name": "Python 3 (ipykernel)",
   "language": "python",
   "name": "python3"
  },
  "language_info": {
   "codemirror_mode": {
    "name": "ipython",
    "version": 3
   },
   "file_extension": ".py",
   "mimetype": "text/x-python",
   "name": "python",
   "nbconvert_exporter": "python",
   "pygments_lexer": "ipython3",
   "version": "3.11.6"
  }
 },
 "nbformat": 4,
 "nbformat_minor": 5
}
