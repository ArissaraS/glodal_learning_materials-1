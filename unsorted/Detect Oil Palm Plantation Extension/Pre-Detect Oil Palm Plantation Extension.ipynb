{
 "cells": [
  {
   "cell_type": "markdown",
   "id": "b8f13e90",
   "metadata": {},
   "source": [
    "# Training Material: Detecting Oil Palm Plantation Extension with ALOS-2/PALSAR-2"
   ]
  },
  {
   "cell_type": "markdown",
   "id": "9ed0e4ad",
   "metadata": {},
   "source": [
    "## Module 1: Introduction to ALOS-2/PALSAR-2 and its Applications"
   ]
  },
  {
   "cell_type": "markdown",
   "id": "88e80374",
   "metadata": {},
   "source": [
    "### 1.1 What is ALOS-2/PALSAR-2 (Daichi-2)?"
   ]
  },
  {
   "cell_type": "markdown",
   "id": "1b67751b",
   "metadata": {},
   "source": [
    "* Overview of the satellite and its mission\n",
    "* PALSAR-2 sensor characteristics (L-band SAR)\n",
    "* Advantages of L-band SAR for vegetation monitoring"
   ]
  },
  {
   "cell_type": "markdown",
   "id": "a740bbf8",
   "metadata": {},
   "source": [
    "### 1.2 Applications of ALOS-2 Data"
   ]
  },
  {
   "cell_type": "markdown",
   "id": "008f213c",
   "metadata": {},
   "source": [
    "* Disaster monitoring\n",
    "* Land use/land cover mapping\n",
    "* Forest monitoring (deforestation, degradation)\n",
    "* **Focus:** Oil palm plantation mapping and change detection"
   ]
  },
  {
   "cell_type": "markdown",
   "id": "860d2b60",
   "metadata": {},
   "source": [
    "### 1.3 Data Access"
   ]
  },
  {
   "cell_type": "markdown",
   "id": "74c89cba",
   "metadata": {},
   "source": [
    "* JAXA's EORC website\n",
    "* Alaska Satellite Facility (ASF) DAAC"
   ]
  },
  {
   "cell_type": "markdown",
   "id": "9ee47a25",
   "metadata": {},
   "source": [
    "### 2.2 Working with Files"
   ]
  },
  {
   "cell_type": "markdown",
   "id": "4a2ff6b7",
   "metadata": {},
   "source": [
    "* Reading and writing text files\n",
    "* File paths and directories"
   ]
  },
  {
   "cell_type": "code",
   "execution_count": null,
   "id": "9c3ad320",
   "metadata": {},
   "outputs": [],
   "source": [
    "# Example file handling\n",
    "with open(\"example.txt\", \"w\") as f:\n",
    "    f.write(\"This is an example.\")\n",
    "\n",
    "with open(\"example.txt\", \"r\") as f:\n",
    "    content = f.read()\n",
    "    print(content)"
   ]
  },
  {
   "cell_type": "markdown",
   "id": "20b968f6",
   "metadata": {},
   "source": [
    "### 2.3 Data Structures"
   ]
  },
  {
   "cell_type": "markdown",
   "id": "61644826",
   "metadata": {},
   "source": [
    "* Lists, tuples, dictionaries\n",
    "* NumPy arrays for numerical computing"
   ]
  },
  {
   "cell_type": "code",
   "execution_count": null,
   "id": "8f55d658",
   "metadata": {},
   "outputs": [],
   "source": [
    "# Example data structures\n",
    "my_list = [1, 2, 3]\n",
    "my_tuple = (4, 5, 6)\n",
    "my_dict = {\"a\": 7, \"b\": 8}\n",
    "\n",
    "import numpy as np\n",
    "my_array = np.array([9, 10, 11])"
   ]
  },
  {
   "cell_type": "markdown",
   "id": "290b5c72",
   "metadata": {},
   "source": [
    "## Module 2: Visualization of ALOS-2/PALSAR-2 data using Python"
   ]
  },
  {
   "cell_type": "markdown",
   "id": "8f31d79d",
   "metadata": {},
   "source": [
    "### 2.1 Visualizing PALSAR-2 data of a tropical forest with oil palm plantations"
   ]
  },
  {
   "cell_type": "markdown",
   "id": "226bc8e6",
   "metadata": {},
   "source": [
    "* In this exercise, you will read and visualize ALOS-2 image data using Python.\r",
    "* \n",
    "For analysis of oil palm plantation expansion and deforestation, the ALOS-2 annual composite data is useful.* \r\n",
    "This exercise will be available on the JAXA ALOS-2 portal.Global PALSAR-2/PALSAR/JERS-1 mosaic and forest/non-forest maps"
   ]
  },
  {
   "cell_type": "markdown",
   "id": "0e5d5429",
   "metadata": {},
   "source": [
    "#### 2.1.1 Visualizing ALOS-2 Data with Matplotlib"
   ]
  },
  {
   "cell_type": "code",
   "execution_count": null,
   "id": "477f5cd6",
   "metadata": {},
   "outputs": [],
   "source": [
    "import matplotlib.pyplot as plt\n",
    "import numpy as np\n",
    "\n",
    "# Generate some example data\n",
    "data = np.random.rand(100, 100)\n",
    "\n",
    "plt.imshow(data, cmap='gray')\n",
    "plt.title('Example ALOS-2 Data')\n",
    "plt.colorbar(label='Pixel Value')\n",
    "plt.show()\n",
    "\n",
    "plt.hist(data.flatten(), bins=50)\n",
    "plt.title('Histogram of Pixel Values')\n",
    "plt.xlabel('Pixel Value')\n",
    "plt.ylabel('Frequency')\n",
    "plt.show()"
   ]
  },
  {
   "cell_type": "markdown",
   "id": "6e834ccf",
   "metadata": {},
   "source": [
    "#### 2.1.2. Color composite of multi-polarization SAR data HH and HV"
   ]
  },
  {
   "cell_type": "markdown",
   "id": "93920d92",
   "metadata": {},
   "source": [
    "* Create a color composite image with several years of HH and HV data.\r",
    "* \n",
    "Understand how to show the image characteristics of typical land cover and compare and interpret them with high-resolution images from Google."
   ]
  },
  {
   "cell_type": "markdown",
   "id": "ad45def4-30af-418f-ab66-481dae2e2e10",
   "metadata": {},
   "source": [
    "**Note**, For this exercise, we have prepared the data in advance to save time. 1-demo_data.zip is used.\r\n",
    "\r\n",
    "For this hands-on exercise, we have prepared the data to save you time. What you need to do is download the data from our ownCloud server to your working directory to practice the next steps in this exercise."
   ]
  },
  {
   "cell_type": "markdown",
   "id": "29208575-5010-428c-b05a-ef1abcf9920b",
   "metadata": {},
   "source": [
    "**Creation of RGB composite image**\n",
    "\r\n",
    "Assign PALSAR-2 HH/HV to RGB channels (red, green, blue) to analyze land cover and land use from features on the image. Follow the steps below to visualize a SAR image.\r\n",
    "\r\n",
    "Let's look at the HH and HV images respectively before color compositing. We deal with annual composite data for the years 2007 and 2010. Specify a file name in rasterio and load the image data."
   ]
  },
  {
   "cell_type": "code",
   "execution_count": null,
   "id": "90d1692a",
   "metadata": {},
   "outputs": [],
   "source": [
    "import rasterio\n",
    "\n",
    "# Replace with actual file path\n",
    "filepath = 'example.tif'\n",
    "\n",
    "with rasterio.open(filepath) as src:\n",
    "    data = src.read(1)\n",
    "    crs = src.crs\n",
    "    transform = src.transform\n",
    "\n",
    "print(data.shape)\n",
    "print(crs)\n",
    "print(transform)"
   ]
  },
  {
   "cell_type": "markdown",
   "id": "0464bfe3",
   "metadata": {},
   "source": [
    "* Basic plotting functions (imshow, colormaps)\n",
    "* Customizing plots (titles, labels, colorbars)\n",
    "* Generating histograms of pixel values"
   ]
  },
  {
   "cell_type": "markdown",
   "id": "309e6c0c",
   "metadata": {},
   "source": [
    "## Module 3: Interpreting ALOS-2 Imagery for Oil Palm Detection"
   ]
  },
  {
   "cell_type": "markdown",
   "id": "6bb1cbc3",
   "metadata": {},
   "source": [
    "### 3.1 Visual Characteristics of Oil Palm in SAR Imagery"
   ]
  },
  {
   "cell_type": "markdown",
   "id": "886ff408",
   "metadata": {},
   "source": [
    "* Backscatter characteristics of oil palm plantations (HH and HV polarization)\n",
    "* Identifying oil palm based on texture, shape, and context\n",
    "* Comparing ALOS-2 with optical imagery (e.g., Sentinel-2) for improved interpretation\n",
    "* Examples of visual interpretation using QGIS"
   ]
  },
  {
   "cell_type": "markdown",
   "id": "32258556",
   "metadata": {},
   "source": [
    "### 3.2 Example of typical land cover interpretation"
   ]
  },
  {
   "cell_type": "markdown",
   "id": "5b53ea27",
   "metadata": {},
   "source": [
    "Land cover can be interpreted from image patterns in ALOS-2/PALSAR-2 color composite images.Basic principles are explained in the linked explanation「Polarization and Scattering Mechanisms」for more information..Interpretation of image patterns can be used to determine the distribution of land use and land cover. An example of interpretation is shown below.\r\n",
    "\r\n",
    "In this exercise, The blue-white area represents the forest, Red areas are sparse vegetation,We note in particular that it represents an oil palm plantation."
   ]
  },
  {
   "cell_type": "markdown",
   "id": "d2fa786c",
   "metadata": {},
   "source": [
    "* Generating multi-temporal composites for visual comparison\n",
    "* Creating time-series plots of backscatter values at specific locations\n",
    "* Using the Temporal/Spectral Profile tool in QGIS"
   ]
  },
  {
   "cell_type": "markdown",
   "id": "10173125",
   "metadata": {},
   "source": [
    "## Module 4: Change detection analysis based on analysis of 2-time period data"
   ]
  },
  {
   "cell_type": "markdown",
   "id": "ad52ca3a-4bb6-4704-9527-43cd3f7a9d1d",
   "metadata": {},
   "source": [
    "In this section,By analyzing the HH/HV scattering intensities during the two periods with Change Vector Analysis, the procedure for detecting and analyzing changes will be practiced. In the previous section, we analyzed land cover and land use changes by comparing color tones and patterns in color composite images from year to year.\n",
    "\n",
    "Change vector analysisis a method used to analyze changes in 2D data points and is an effective method for analyzing HH/HV changes in PALSAR-2. In this section, we will deepen our understanding of the procedures and interpretations by analyzing the 2007 and 2010 annual composite data.[Reference 1](https://web.pdx.edu/~nauna/week5.pdf), [Reference 2](https://www.isprs.org/proceedings/xxxiv/part1/paper/00014.pdf)\n",
    "\n",
    "### 4.1. Conversion from DN values to backscatter coefficients\n",
    "\n",
    "In the previous section, the pixel value（DN; digital number）was used for visualization as is, but for rigorous data analysis, it is desirable to convert the pixel values ​​into backscattering coefficients. The conversion is done using the following formula:\n",
    "\n",
    "$$ \\gamma^{0} = 10 log_{10} <DN^2> + CF $$\n",
    "\n",
    "Note that, <> represents averaging for noise reduction and -83.0 dB is used for CF. [Global 25m Resolution PALSAR-2/PALSAR Mosaic (Ver. 2.4.0) Dataset Instructions](https://www.eorc.jaxa.jp/ALOS/jp/dataset/pdf/DatasetDescription_PALSAR2_Mosaic_ver240_ja.pdf). A coding example is shown below."
   ]
  },
  {
   "cell_type": "markdown",
   "id": "23538449",
   "metadata": {},
   "source": [
    "### 4.2 HH/HV change analysis\n",
    "\r\n",
    "Calculate the difference in image data to analyze the change from 2007 to 2010 for each HH/HV.\n"
   ]
  },
  {
   "cell_type": "markdown",
   "id": "1d0b474b",
   "metadata": {},
   "source": [
    "### 4.3 Change vector analysis (CVA) Data analysis\n",
    "\n",
    "The changes that appear in the difference image calculated in the previous section can be expressed as vectors in the two-dimensional space of HH/HV pairs for each pixel.The figure below shows an example where HV has decreased significantly while HH has decreased slightly. The following code cell calculates the length of the change vector at each pixel, expressed as magnitude, and the direction as angle."
   ]
  },
  {
   "cell_type": "markdown",
   "id": "32577f1a",
   "metadata": {},
   "source": [
    "* Identifying areas of oil palm expansion based on backscatter trends\n",
    "* Quantifying change using difference images or other change detection methods"
   ]
  },
  {
   "cell_type": "markdown",
   "id": "cc367fc4",
   "metadata": {},
   "source": [
    "### 4.4 Analysis of CVA analysis results\n",
    "\n",
    "Ideally, the data should be overlaid using a GIS or similar tool for analysis, but in this exercise, the result images will be compared for analysis."
   ]
  },
  {
   "cell_type": "markdown",
   "id": "d334579f-444c-4517-82fb-0546c6bf17cc",
   "metadata": {},
   "source": [
    "## Module 5: Advantages and Uses of this Exercise Procedure\n",
    "\n",
    "### Why go through  complicated steps when you can find it all on Google Earth?\r\n",
    "\r\n",
    "- In this exercise **Fortunately**, the images included are just for reference; for other periods and areas, they are purchased from MAXAR or Airbus.Even archiving costs 3,000-5,000 yen per kilometer, so it is not realistic to use it for large-area analysis such as oil palm plantations.If you want to analyze past transitions, the annual composite data used in this exercise is easy to use and can be used free of charge (Commercial use is also acceptable?).\r\n",
    "- Processing high-resolution images such as those included in Google Earth requires a lot of computer resources. The analysis procedure demonstrated in this exercise **is efficient and requires only minimal computation**.\r\n",
    "\r\n",
    "### Ideas for using the above benefits\r\n",
    "\r\n",
    "- Wide-area change detection screening: A system that continuously processes the latest observation data to detect changes and provides automatic notifications, unlike the method used in this exercise, which relies on past data.\r\n",
    "- Analysis of the management history of oil palm plantations: By analyzing past data,  we can identify when plantations were established, the growth of oil palms, and profile the history of a large number of plantations.\r\n"
   ]
  }
 ],
 "metadata": {
  "kernelspec": {
   "display_name": "Python 3 (ipykernel)",
   "language": "python",
   "name": "python3"
  },
  "language_info": {
   "codemirror_mode": {
    "name": "ipython",
    "version": 3
   },
   "file_extension": ".py",
   "mimetype": "text/x-python",
   "name": "python",
   "nbconvert_exporter": "python",
   "pygments_lexer": "ipython3",
   "version": "3.11.6"
  }
 },
 "nbformat": 4,
 "nbformat_minor": 5
}
