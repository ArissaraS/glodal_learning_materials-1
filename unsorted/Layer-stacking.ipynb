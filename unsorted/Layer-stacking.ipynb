{
 "cells": [
  {
   "cell_type": "markdown",
   "id": "e46860fb",
   "metadata": {},
   "source": [
    "# Training Material: ALOS-2 Layer Stacking"
   ]
  },
  {
   "cell_type": "markdown",
   "id": "2303754e",
   "metadata": {},
   "source": [
    "## I. Introduction to ALOS-2 Data (9.1.1)"
   ]
  },
  {
   "cell_type": "markdown",
   "id": "ebef9ca9",
   "metadata": {},
   "source": [
    "* **Overview of ALOS-2 Satellite:** ALOS-2, or Advanced Land Observing Satellite-2 (\"Daichi-2\" in Japanese), is an Earth observation satellite developed by the Japan Aerospace Exploration Agency (JAXA). Its primary mission is to acquire high-resolution land observation data for various applications.  It carries two main sensors:\n",
    "    * **PALSAR-2:**  A Phased Array type L-band Synthetic Aperture Radar (SAR). SAR transmits microwave signals and measures the backscattered energy to create images of the Earth's surface, regardless of weather or daylight conditions. L-band is particularly useful for penetrating vegetation and observing ground features.\n",
    "    * **CIRC:** Compact InfraRed Camera, a multi-spectral optical sensor capturing data in the visible and near-infrared wavelengths.  It's used for land cover classification, vegetation monitoring, and disaster assessment.\n",
    "\n",
    "For more detailed information, refer to the [ALOS Data Users Handbook](https://www.eorc.jaxa.jp/ALOS/en/doc/fdata/ALOS_HB_RevC_EN.pdf) and the [EO Portal ALOS-2 page](https://www.eoportal.org/satellite-missions/alos-2)."
   ]
  },
  {
   "cell_type": "markdown",
   "id": "246272e7",
   "metadata": {},
   "source": [
    "* **Key Applications:** ALOS-2 data is utilized in a wide range of applications, including:\n",
    "    * **Disaster Monitoring:** Assessing damage from earthquakes, floods, and other natural disasters.\n",
    "    * **Land and Agriculture Studies:** Monitoring crop growth, land use changes, and agricultural practices.\n",
    "    * **Natural Resource Exploration:** Mapping geological features and identifying potential resources.\n",
    "    * **Forest and Plantation Change Detection:**  ALOS-2's L-band SAR is particularly effective at penetrating forest canopies, making it ideal for detecting changes in forest cover, deforestation, and plantation development.  This capability is crucial for sustainable forest management and monitoring illegal logging activities.  See [Generating Large-Scale High-Quality SAR Mosaic Datasets](https://www.researchgate.net/publication/224183347_Generating_Large-Scale_High-Quality_SAR_Mosaic_Datasets_Application_to_PALSAR_Data_for_Global_Monitoring) for more information on large-scale SAR mosaics."
   ]
  },
  {
   "cell_type": "markdown",
   "id": "c8eaf107",
   "metadata": {},
   "source": [
    "## II. Reading and Visualizing ALOS-2 Data (9.1.2)"
   ]
  },
  {
   "cell_type": "markdown",
   "id": "8ac14d4d",
   "metadata": {},
   "source": [
    "* **Python Basics for EO Data:**"
   ]
  },
  {
   "cell_type": "markdown",
   "id": "fac3b0ba",
   "metadata": {},
   "source": [
    "    * **File I/O:** Python provides built-in functions for file input and output.  The `open()` function is used to open files, with modes like 'r' for reading, 'w' for writing, and 'a' for appending.  See the [Python documentation on file I/O](https://docs.python.org/3/tutorial/inputoutput.html#reading-and-writing-files)."
   ]
  },
  {
   "cell_type": "code",
   "execution_count": null,
   "id": "f59aee5f",
   "metadata": {},
   "outputs": [],
   "source": [
    "with open('example.txt', 'w') as f:\n",
    "    f.write('This is an example file.')\n",
    "\n",
    "with open('example.txt', 'r') as f:\n",
    "    content = f.read()\n",
    "    print(content)"
   ]
  },
  {
   "cell_type": "markdown",
   "id": "c26a9a64",
   "metadata": {},
   "source": [
    "    * **Data Structures:** Python offers several data structures: lists (mutable, ordered sequences), dictionaries (mutable, unordered key-value pairs), tuples (immutable, ordered sequences), and sets (mutable, unordered collections of unique elements).  Mutability refers to whether the structure can be changed after creation.  Refer to the [Python documentation on data structures](https://docs.python.org/3/tutorial/datastructures.html)."
   ]
  },
  {
   "cell_type": "code",
   "execution_count": null,
   "id": "00072231",
   "metadata": {},
   "outputs": [],
   "source": [
    "my_list = [1, 2, 3]\n",
    "my_dict = {'a': 1, 'b': 2}\n",
    "my_tuple = (1, 2, 3)\n",
    "my_set = {1, 2, 3}"
   ]
  },
  {
   "cell_type": "markdown",
   "id": "54cc36d0",
   "metadata": {},
   "source": [
    "    * **Functions:** Functions are blocks of reusable code. They improve code organization and readability.  They are defined using the `def` keyword."
   ]
  },
  {
   "cell_type": "code",
   "execution_count": null,
   "id": "5b78048d",
   "metadata": {},
   "outputs": [],
   "source": [
    "def add(x, y):\n",
    "    return x + y\n",
    "\n",
    "result = add(5, 3)\n",
    "print(result)"
   ]
  },
  {
   "cell_type": "markdown",
   "id": "9307d092",
   "metadata": {},
   "source": [
    "    * **Basic Data Manipulation (NumPy):** NumPy is essential for numerical operations in Python.  It provides powerful arrays and functions for data manipulation.  Slicing, indexing, and other operations are fundamental."
   ]
  },
  {
   "cell_type": "code",
   "execution_count": null,
   "id": "91170451",
   "metadata": {},
   "outputs": [],
   "source": [
    "import numpy as np\n",
    "\n",
    "arr = np.array([1, 2, 3, 4, 5])\n",
    "print(arr[1:4])  # Slicing\n",
    "print(arr[2])   # Indexing"
   ]
  },
  {
   "cell_type": "markdown",
   "id": "dc95b494",
   "metadata": {},
   "source": [
    " * **Loading ALOS-2 Data:**"
   ]
  },
  {
   "cell_type": "markdown",
   "id": "f2d93788",
   "metadata": {},
   "source": [
    "    * **Data Format:** ALOS-2 data is commonly provided in GeoTIFF format, a widely used format for georeferenced raster data. It contains both the image data and geospatial metadata (coordinates, projection)."
   ]
  },
  {
   "cell_type": "markdown",
   "id": "ba9981ac",
   "metadata": {},
   "source": [
    "    * **Rasterio Library:** `rasterio` is a Python library for reading and writing geospatial raster data. It simplifies working with GeoTIFFs and other formats."
   ]
  },
  {
   "cell_type": "code",
   "execution_count": null,
   "id": "e19dad37",
   "metadata": {},
   "outputs": [],
   "source": [
    "import rasterio\n",
    "\n",
    "# Replace with your actual file path\n",
    "image_path = 'example.tif' \n",
    "\n",
    "with rasterio.open(image_path) as src:\n",
    "    band1 = src.read(1)  # Read the first band\n",
    "    transform = src.transform  # Access geospatial transform\n",
    "    crs = src.crs  # Access coordinate reference system\n",
    "    print(band1.shape)\n",
    "    print(transform)\n",
    "    print(crs)"
   ]
  },
  {
   "cell_type": "markdown",
   "id": "cb998d9e",
   "metadata": {},
   "source": [
    "* **Visualizing ALOS-2 Data:**"
   ]
  },
  {
   "cell_type": "markdown",
   "id": "a24c4345",
   "metadata": {},
   "source": [
    "    * **Matplotlib Library:** `matplotlib` is a powerful plotting library in Python.  It's used to create various types of visualizations, including raster data display."
   ]
  },
  {
   "cell_type": "code",
   "execution_count": null,
   "id": "74a00878",
   "metadata": {},
   "outputs": [],
   "source": [
    "import matplotlib.pyplot as plt\n",
    "import numpy as np\n",
    "\n",
    "# Example data (replace with your ALOS-2 data)\n",
    "data = np.random.rand(100, 100)\n",
    "\n",
    "plt.figure(figsize=(8, 6))\n",
    "plt.imshow(data, cmap='gray')\n",
    "plt.colorbar(label='Pixel Value')\n",
    "plt.title('ALOS-2 Image Example')\n",
    "plt.xlabel('X Coordinate')\n",
    "plt.ylabel('Y Coordinate')\n",
    "plt.show()"
   ]
  },
  {
   "cell_type": "markdown",
   "id": "ac7b57ad",
   "metadata": {},
   "source": [
    "## III. Preprocessing ALOS-2 Data for Layer Stacking"
   ]
  },
  {
   "cell_type": "markdown",
   "id": "35427a16",
   "metadata": {},
   "source": [
    "* **Importance of Preprocessing:** Preprocessing steps like calibration and filtering are crucial for preparing ALOS-2 data for layer stacking. Calibration ensures consistent data values, while filtering reduces noise and enhances image quality."
   ]
  },
  {
   "cell_type": "markdown",
   "id": "2f7ca350",
   "metadata": {},
   "source": [
    "* **Radiometric Calibration:**"
   ]
  },
  {
   "cell_type": "markdown",
   "id": "a4adc6b6",
   "metadata": {},
   "source": [
    "    * **Purpose:** Radiometric calibration converts the digital numbers in the ALOS-2 data to physical units, typically sigma-naught (σ0), which represents the radar backscatter coefficient.  This is often expressed in decibels (dB)."
   ]
  },
  {
   "cell_type": "markdown",
   "id": "0136716a",
   "metadata": {},
   "source": [
    "    * **Implementation:** The calibration formula is applied using NumPy."
   ]
  },
  {
   "cell_type": "code",
   "execution_count": null,
   "id": "fdece61e",
   "metadata": {},
   "outputs": [],
   "source": [
    "import numpy as np\n",
    "\n",
    "# Example ALOS-2 data (replace with your data)\n",
    "dn = np.random.rand(100, 100) * 10000\n",
    "\n",
    "# Calibration formula (adjust constants as needed)\n",
    "sigma0 = (20 * np.log10(dn)) - 83\n",
    "print(sigma0)"
   ]
  },
  {
   "cell_type": "markdown",
   "id": "47782d90",
   "metadata": {},
   "source": [
    "* **Speckle Filtering:**"
   ]
  },
  {
   "cell_type": "markdown",
   "id": "1d7e05b9",
   "metadata": {},
   "source": [
    "    * **Purpose:** Speckle noise is inherent in SAR imagery, appearing as a grainy texture.  Filtering reduces this noise, improving image interpretation."
   ]
  },
  {
   "cell_type": "markdown",
   "id": "e5e95029",
   "metadata": {},
   "source": [
    "    * **Lee Filter:** The Lee filter is a commonly used adaptive filter for speckle reduction. It preserves edges while smoothing homogeneous areas."
   ]
  },
  {
   "cell_type": "markdown",
   "id": "78b9bf86",
   "metadata": {},
   "source": [
    "    * **Implementation:** The Lee filter implementation involves calculating local statistics (mean, variance) and applying weights based on these statistics."
   ]
  },
  {
   "cell_type": "code",
   "execution_count": null,
   "id": "cc2fd665",
   "metadata": {},
   "outputs": [],
   "source": [
    "from scipy.ndimage import uniform_filter\n",
    "import numpy as np\n",
    "\n",
    "def lee_filter(img, size=7):\n",
    "    img_mean = uniform_filter(img, (size, size))\n",
    "    img_sq_mean = uniform_filter(img**2, (size, size))\n",
    "    img_variance = img_sq_mean - img_mean**2\n",
    "\n",
    "    overall_variance = np.var(img)\n",
    "    img_noise_variance = np.maximum(img_variance - overall_variance, 0)\n",
    "\n",
    "    weights = img_noise_variance / (img_noise_variance + img_variance)\n",
    "    filtered_img = img_mean + weights * (img - img_mean)\n",
    "    return filtered_img\n",
    "\n",
    "# Example usage (replace with your data)\n",
    "img = np.random.rand(100, 100)\n",
    "filtered_img = lee_filter(img)\n",
    "print(filtered_img)"
   ]
  },
  {
   "cell_type": "markdown",
   "id": "6a45537c",
   "metadata": {},
   "source": [
    "* **Clipping to AOI (Optional):**"
   ]
  },
  {
   "cell_type": "markdown",
   "id": "db886862",
   "metadata": {},
   "source": [
    "    * **Purpose:** Clipping restricts processing to a specific Area of Interest (AOI), reducing processing time and focusing on the relevant region."
   ]
  },
  {
   "cell_type": "markdown",
   "id": "52743b71",
   "metadata": {},
   "source": [
    "    * **Geopandas:** `geopandas` is a library for working with vector data (points, lines, polygons) in Python. It's used to read shapefiles, which commonly define AOIs."
   ]
  },
  {
   "cell_type": "markdown",
   "id": "13517343",
   "metadata": {},
   "source": [
    "    * **Rasterio Masking:** `rasterio.mask` is used to clip a raster based on a shapefile."
   ]
  },
  {
   "cell_type": "code",
   "execution_count": null,
   "id": "462b4405",
   "metadata": {},
   "outputs": [],
   "source": [
    "import rasterio\n",
    "from rasterio.mask import mask\n",
    "import geopandas as gpd\n",
    "\n",
    "# Replace with your actual file paths\n",
    "image_path = 'example.tif'\n",
    "shapefile_path = 'aoi.shp'\n",
    "\n",
    "# Read the shapefile\n",
    "aoi = gpd.read_file(shapefile_path)\n",
    "\n",
    "# Clip the raster\n",
    "with rasterio.open(image_path) as src:\n",
    "    out_image, out_transform = mask(src, aoi.geometry, crop=True)\n",
    "    out_meta = src.meta.copy()\n",
    "\n",
    "    # Update metadata\n",
    "    out_meta.update({\n",
    "        \"driver\": \"GTiff\",\n",
    "        \"height\": out_image.shape[1],\n",
    "        \"width\": out_image.shape[2],\n",
    "        \"transform\": out_transform\n",
    "    })\n",
    "\n",
    "    # Write the clipped raster (optional)\n",
    "    # with rasterio.open('clipped.tif', 'w', **out_meta) as dest:\n",
    "    #     dest.write(out_image)\n",
    "\n",
    "print(out_image.shape)"
   ]
  },
  {
   "cell_type": "markdown",
   "id": "4c9ce345",
   "metadata": {},
   "source": [
    "* **Visualization of Preprocessing Steps:** Visualizing the clipped, calibrated, and filtered images side-by-side helps assess the impact of each preprocessing step."
   ]
  },
  {
   "cell_type": "code",
   "execution_count": null,
   "id": "4f7b0247",
   "metadata": {},
   "outputs": [],
   "source": [
    "import matplotlib.pyplot as plt\n",
    "import numpy as np\n",
    "\n",
    "# Example data (replace with your preprocessed data)\n",
    "clipped_image = np.random.rand(50, 50)\n",
    "calibrated_image = clipped_image * 2\n",
    "filtered_image = calibrated_image + 0.1\n",
    "\n",
    "fig, axs = plt.subplots(1, 3, figsize=(12, 4))\n",
    "axs[0].imshow(clipped_image, cmap='gray')\n",
    "axs[0].set_title('Clipped')\n",
    "axs[1].imshow(calibrated_image, cmap='gray')\n",
    "axs[1].set_title('Calibrated')\n",
    "axs[2].imshow(filtered_image, cmap='gray')\n",
    "axs[2].set_title('Filtered')\n",
    "plt.show()"
   ]
  },
  {
   "cell_type": "markdown",
   "id": "1c977797",
   "metadata": {},
   "source": [
    "## IV. Layer Stacking"
   ]
  },
  {
   "cell_type": "markdown",
   "id": "caa35222",
   "metadata": {},
   "source": [
    "* **Concept of Layer Stacking:** Layer stacking combines multiple raster layers into a single multi-band raster. This is useful for integrating information from different dates or different sensor bands."
   ]
  },
  {
   "cell_type": "markdown",
   "id": "5449fccc",
   "metadata": {},
   "source": [
    "* **NumPy Stacking:** `np.stack` is used to stack NumPy arrays along a specified axis."
   ]
  },
  {
   "cell_type": "code",
   "execution_count": null,
   "id": "f5fe7c9a",
   "metadata": {},
   "outputs": [],
   "source": [
    "import numpy as np\n",
    "\n",
    "# Example data (replace with your preprocessed ALOS-2 data)\n",
    "band1 = np.random.rand(50, 50)\n",
    "band2 = np.random.rand(50, 50)\n",
    "band3 = np.random.rand(50, 50)\n",
    "\n",
    "stacked_bands = np.stack([band1, band2, band3], axis=0)  # Stack along the first axis\n",
    "print(stacked_bands.shape)"
   ]
  },
  {
   "cell_type": "markdown",
   "id": "73c73f8f",
   "metadata": {},
   "source": [
    "* **Updating Metadata:** When stacking layers, the metadata needs to be updated to reflect the new number of bands (`count`) and the data type (`dtype`).  This ensures the stacked raster is correctly interpreted by GIS software."
   ]
  },
  {
   "cell_type": "code",
   "execution_count": null,
   "id": "c9263937",
   "metadata": {},
   "outputs": [],
   "source": [
    "meta = {'count': 1, 'dtype': 'uint16'}\n",
    "meta['count'] = 3\n",
    "meta['dtype'] = 'float32'\n",
    "print(meta)"
   ]
  },
  {
   "cell_type": "markdown",
   "id": "1f7adc12",
   "metadata": {},
   "source": [
    "* **Writing the Stacked Raster:** The stacked array is written to a new GeoTIFF file using `rasterio`."
   ]
  },
  {
   "cell_type": "code",
   "execution_count": null,
   "id": "52de3fa2",
   "metadata": {},
   "outputs": [],
   "source": [
    "import rasterio\n",
    "import numpy as np\n",
    "\n",
    "# Example data and metadata (replace with your data)\n",
    "stacked_data = np.random.rand(3, 50, 50)\n",
    "meta = {'driver': 'GTiff', 'height': 50, 'width': 50, 'count': 3, 'dtype': 'float32', 'crs': 'EPSG:4326', 'transform': rasterio.Affine(1.0, 0.0, 0.0, 0.0, -1.0, 0.0)}\n",
    "\n",
    "output_path = 'stacked.tif'\n",
    "with rasterio.open(output_path, 'w', **meta) as dst:\n",
    "    dst.write(stacked_data)"
   ]
  },
  {
   "cell_type": "markdown",
   "id": "207bd7f1",
   "metadata": {},
   "source": [
    "## V. Time-Series Analysis and Interpretation (9.2 & 9.3)"
   ]
  },
  {
   "cell_type": "markdown",
   "id": "5f8e911e",
   "metadata": {},
   "source": [
    "* **Interpreting ALOS-2 Data:**  Interpretation of ALOS-2 imagery involves analyzing backscatter patterns, texture, and changes over time.  Smooth areas typically correspond to water or homogeneous surfaces, while rough textures indicate vegetation or urban areas.  Brightness in SAR imagery relates to the strength of the radar return."
   ]
  },
  {
   "cell_type": "markdown",
   "id": "705fb7a9",
   "metadata": {},
   "source": [
    "* **Comparison with Optical Imagery:** Comparing ALOS-2 SAR data with optical imagery (e.g., Landsat, Sentinel-2) provides complementary information. Optical imagery offers spectral information about surface reflectance, while SAR provides information about surface structure and scattering properties."
   ]
  },
  {
   "cell_type": "markdown",
   "id": "a494bae6",
   "metadata": {},
   "source": [
    "* **Time-Series Observation Preparation:**  Time-series analysis requires preparing data from multiple time steps.  This involves the preprocessing steps described in Section III (calibration, filtering, and optionally clipping)."
   ]
  },
  {
   "cell_type": "markdown",
   "id": "8f4cb803",
   "metadata": {},
   "source": [
    "* **Visualization and Interpretation of Change:**  QGIS, a powerful open-source GIS software, offers tools for visualizing and interpreting change over time."
   ]
  },
  {
   "cell_type": "markdown",
   "id": "f9485019",
   "metadata": {},
   "source": [
    "## VI. Hands-on Exercises"
   ]
  },
  {
   "cell_type": "markdown",
   "id": "3c4a27b2",
   "metadata": {},
   "source": [
    "Exercises will be provided separately with sample data and expected outputs."
   ]
  },
  {
   "cell_type": "markdown",
   "id": "be1b5a8e",
   "metadata": {},
   "source": [
    "## VII. Additional Resources"
   ]
  },
  {
   "cell_type": "markdown",
   "id": "d0de09ae",
   "metadata": {},
   "source": [
    "* **Rasterio:** [https://rasterio.readthedocs.io/en/latest/](https://rasterio.readthedocs.io/en/latest/)\n",
    "* **Geopandas:** [https://geopandas.org/en/stable/](https://geopandas.org/en/stable/)\n",
    "* **Matplotlib:** [https://matplotlib.org/](https://matplotlib.org/)\n",
    "* **QGIS:** [https://qgis.org/en/site/](https://qgis.org/en/site/)"
   ]
  }
 ],
 "metadata": {},
 "nbformat": 4,
 "nbformat_minor": 5
}