{
 "cells": [
  {
   "cell_type": "markdown",
   "id": "568c5cfc-f30f-4378-adac-8181febd2889",
   "metadata": {},
   "source": [
    "# 2.2. Enable designing end user applications with modern WebGIS frameworks\n",
    "\n",
    "*Add contents summary of this page*. Here are learning objectives for the outcome. The contents requiring advanced knowledge are labelled \"(Advanced)\" to the content names.\n",
    "\n",
    "- 2.2.1 Gain proficiency in modern WebGIS frameworks\n",
    "- 2.2.2 Develop and deploy an end-user WebGIS application"
   ]
  },
  {
   "cell_type": "markdown",
   "id": "afcc33a7-61c4-44bf-96ad-dfefd3d78795",
   "metadata": {},
   "source": [
    "## 2.2.1. Gain proficiency in modern WebGIS frameworks \n",
    "\n",
    "### 2.2.1.1 Basic concept of WebGIS\n",
    "### (Basic) [Basic concept of WebGIS](http://webgis.pub/fundation-concept.html)\n",
    "\n",
    "The information provided information about the basic concept of WebGIS which suggests a comprehensive overview of WebGIS, covering its definition, components, advantages, and practical guidance for development. It breaks down the content into several key areas:\n",
    "- Geographic information system GIS\n",
    "- The development of Internet technology\n",
    "- What is WebGIS?\n",
    "- The basic characteristics of WebGIS\n",
    "- The composition of WebGIS\n",
    "- Advantages of WebGIS\n",
    "- The method of selecting WebGIS development tools\n",
    "\n",
    "\n",
    "### 2.2.1.2 Open-Source WebGIS application development\n",
    "\n",
    "### (Course) [Open Source Web GIS Development](https://www.udemy.com/course/web-gis-development-2021/?utm_source=adwords&utm_medium=udemyads&utm_campaign=DSA_Catchall_la.EN_cc.ROW&campaigntype=Search&portfolio=ROW-English&language=EN&product=Course&test=&audience=DSA&topic=&priority=&utm_content=deal4584&utm_term=_._ag_88010211481_._ad_535397282064_._kw__._de_c_._dm__._pl__._ti_dsa-406594358574_._li_1012728_._pd__._&matchtype=&gad_source=1&gclid=CjwKCAjwzIK1BhAuEiwAHQmU3lQPhZKBw2BRWEMfRaX0KxI97YaDVrzVK80lrHFk8l6qiC0ec29UkBoCc9MQAvD_BwE&couponCode=2021PM20)\n",
    "\n",
    "This course is mainly designed for the peoples who are highly interested in the web-mapping/web-GIS development. It mainly focused on the leaflet, JavaScript and GeoServer.\n",
    "\n",
    "### (Basic) [Open Source WebGIS online Tutorial](http://webgis.pub/)\n",
    "\n",
    "Open-source WebGIS has many meanings and skills for GIS technology and data sharing. As an online tutorial of open source GIS, the design of this website uses examples that can be accessed and operated online to facilitate users to understand the principles and technologies of WebGIS. In addition, it also explains some principles and background of WebGIS, which can be used as a general WebGIS tutorial.\n",
    "\n",
    "### (Basic) [WebGIS Development in 2023: A Guide to the Tools and Technologies I Use for Building Advanced Geospatial Applications](https://opensourcegisdata.com/webgis-development-2023-guide-tools-technologies-for-building-advanced-geospatial-applications.html)\n",
    "\n",
    "An updated version of the Tools recommended for building Geospatial Web Applications. This story will recommend open-source tools because they offer a cost-effective and flexible solution with a large community of developers constantly working to improve and update them.\n",
    "\n",
    "### (Basic) [Open-Source Web-GIS Development Roadmap](https://github.com/jeafreezy/webgis-roadmap)\n",
    "\n",
    "This conteducesnt intro the evolution of GIS into Web-GIS, highlighting its transformative impact enabled by web technologies. Web-GIS facilitates map distribution and tool access across various devices with internet connectivity, emphasizing visual interaction with geospatial data via web browsers. The article aims to streamline the learning journey for aspiring Web-GIS developers, drawing from the authors' experience to avoid unnecessary detours in learning. It promises a structured approach to mastering essential skills, from GIS fundamentals and web technologies to backend development and advanced GIS platforms, with the goal of facilitating career entry or entrepreneurial ventures in GIS.\n",
    "\n",
    "### 2.2.1.3 Integrating data sources into web applications\n",
    "\n",
    "### (Basic) [Integrating satellite imagery into web applications](https://dataspace.copernicus.eu/news/2024-2-19-integrating-satellite-imagery-web-applications)\n",
    "\n",
    "This content will dive into the world of Earth Observation (EO) and cartography to turn your web application into an interactive wonderland of satellite imagery, and how the power of the Copernicus Data Space Ecosystem supports you to analyze and visualize these images.\n",
    "\n",
    "### (Basic) [Web GIS: Technologies and Its Applications](https://www.isprs.org/proceedings/xxxiv/part4/pdfpapers/422.pdf)\n",
    "\n",
    "This paper examines the current Web GIS technologies with emphasis on architectures. Eight_state-of-the-art Web GIS products from leading GIS companies have been scientifically assessed. This paper also proposes Web GIS development strategies starting from requirement analysis, and ending in GIS use and maintenance. "
   ]
  },
  {
   "cell_type": "markdown",
   "id": "e59d4b41-f9f7-49de-8ed7-0ac251da9f6c",
   "metadata": {},
   "source": [
    "## 2.2.2. Develop and deploy an end-user WebGIS application\n",
    "\n",
    "### 2.2.2.1 A framework for deploying web GIS applications\n",
    "### (Basic) [A framework for deploying web GIS applications](https://enterprise.arcgis.com/en/server/10.5/create-web-apps/linux/a-framework-for-deploying-web-gis-applications.htm)\n",
    "\n",
    "This content presents the essential components of a web GIS application. As a GIS practitioner, you aim to create applications that are user-friendly and require minimal GIS knowledge from end users. To achieve this, you need to integrate five key elements:\n",
    "\n",
    "- A web application\n",
    "- Digital basemaps\n",
    "- Operational layers\n",
    "- Tasks and tools in the web GIS application\n",
    "- One or more geodatabase\n",
    "\n",
    "### 2.2.2.2 WebGIS application for public data access\n",
    "\n",
    "\n",
    "### (Advanced) [Explore the Disaster Occurrences in South East Asia Region](https://portal.geoinfo.ait.ac.th/portal/apps/sites/#/gic-ait-disaster-response-portal/pages/emergency-response-mapping)\n",
    "\n",
    "This content aim to  explores the Disaster Occurrences in South East Asia Region.\n",
    "\n",
    "### (Advanced) [Development of A Web based GIS Solution for Flood Inundation Mapping and Assessment in Lahore, Pakistan](https://journal.50sea.com/index.php/IJIST/article/view/484/1057)\n",
    "\n",
    "The study highlights the integration of Geographic Information System (GIS) and web technologies (Web-GIS) for effective flood hazard mapping and management. Using HEC-RAS 1D, the research mapped flooded areas around River Ravi in Lahore. An interactive flood measuring tool was developed using a Web-GIS stack comprising Geo Server, PHP, HTML, CSS, and JavaScript. Geo Server facilitated OGC standards and specific capabilities like WMS Animator for visualizing flood inundation and CQL filter for precise flood measurement.\n",
    "\n",
    "### (Advanced) [OPEN-SOURCE WEB GIS FRAMEWORK IN MONITORING URBAN LAND USE PLANNING: PARTICIPATORY SOLUTIONS FOR DEVELOPING COUNTRIES](https://www.jurareview.ro/resources/pdf/volume_29_open-source_web_gis_framework_in_monitoring_urban_land_use_planning:_participatory_solutions_for_developing_countries_abstract.pdf)\n",
    "\n",
    "This paper presents a Web GIS application development framework through an open-source software which aims to provide reliable open data services, required for policymaking in urban land use planning. The geodatabase model is comprehensively developed. It displayed a user interface using QGIS, MapServer, and Pmapper, with open source tools with PHP MapScript programming languages and integrated DB-SQL, to generate a complete digital map service with information on urban land use policy. \n"
   ]
  },
  {
   "cell_type": "markdown",
   "id": "d0fcc593-2d9a-4b1a-a804-57156c748ac7",
   "metadata": {},
   "source": [
    "-------------------------------------------------------------------------------------------------------------------------\n",
    "\n",
    "### Optional [Get started with ArcGIS Online](https://learn.arcgis.com/en/projects/get-started-with-arcgis-online/)\n",
    "\n",
    "In this tutorial, you'll create a map that shows hurricane evacuation routes in Houston, Texas.\n",
    "\n",
    "### Optional [ArcGIS Online tutorials](https://www.esri.com/en-us/arcgis/products/arcgis-online/resources)\n",
    "\n",
    "Experience what’s possible with ArcGIS Online through a curated series of tutorials.\n",
    "\n",
    "\n",
    "### Optional - [Global Flood Detection and Monitoring using Social Media](https://www.globalfloodmonitor.org/)\n",
    "\n",
    "This content presents the Global Flood Detection and Monitoring using Social Media which are the new tool for disaster response and validation of flood risk models."
   ]
  },
  {
   "cell_type": "code",
   "execution_count": null,
   "id": "ea517de9-fe5e-45ce-adce-57d2ea958df6",
   "metadata": {},
   "outputs": [],
   "source": []
  }
 ],
 "metadata": {
  "kernelspec": {
   "display_name": "Python 3 (ipykernel)",
   "language": "python",
   "name": "python3"
  },
  "language_info": {
   "codemirror_mode": {
    "name": "ipython",
    "version": 3
   },
   "file_extension": ".py",
   "mimetype": "text/x-python",
   "name": "python",
   "nbconvert_exporter": "python",
   "pygments_lexer": "ipython3",
   "version": "3.11.6"
  }
 },
 "nbformat": 4,
 "nbformat_minor": 5
}
