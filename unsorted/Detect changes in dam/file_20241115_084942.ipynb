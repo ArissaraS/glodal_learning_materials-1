{
 "cells": [
  {
   "cell_type": "markdown",
   "id": "c5a2f063",
   "metadata": {},
   "source": [
    "# Training Material: SAR Data Processing and Change Detection for Dam Monitoring (Yamba Dam Case Study)"
   ]
  },
  {
   "cell_type": "markdown",
   "id": "b479a786",
   "metadata": {},
   "source": [
    "## I. Introduction to SAR and ALOS-2 Data (Module 8.1)"
   ]
  },
  {
   "cell_type": "markdown",
   "id": "f6e79df2",
   "metadata": {},
   "source": [
    "### A. What is SAR?"
   ]
  },
  {
   "cell_type": "markdown",
   "id": "2dd4fdfc",
   "metadata": {},
   "source": [
    "Synthetic Aperture Radar (SAR) is a remote sensing technology that uses radar signals to create images of the Earth's surface. Unlike optical sensors, SAR can penetrate clouds and operate day and night, providing valuable data regardless of weather or lighting conditions. SAR's ability to measure surface roughness and other properties makes it particularly useful for various applications, including dam monitoring."
   ]
  },
  {
   "cell_type": "markdown",
   "id": "3debccc7",
   "metadata": {},
   "source": [
    "### B. ALOS-2 Satellite Overview (8.1.1)"
   ]
  },
  {
   "cell_type": "markdown",
   "id": "a5350385",
   "metadata": {},
   "source": [
    "The Advanced Land Observing Satellite-2 (ALOS-2), also known as \"Daichi-2,\" is a Japanese Earth observation satellite equipped with the PALSAR-2 L-band SAR sensor.  Its mission objectives include disaster monitoring, land use mapping, and resource exploration. PALSAR-2's L-band frequency allows for penetration of vegetation and some ground layers, making it suitable for applications like water resource management."
   ]
  },
  {
   "cell_type": "markdown",
   "id": "53e9c15c",
   "metadata": {},
   "source": [
    "### C. Yamba Dam Case Study Introduction"
   ]
  },
  {
   "cell_type": "markdown",
   "id": "3f54b400",
   "metadata": {},
   "source": [
    "Yamba Dam, located in Japan, serves as our case study. Monitoring its operations, including water levels and surrounding land cover, is crucial for effective water resource management and ensuring the dam's structural integrity."
   ]
  },
  {
   "cell_type": "markdown",
   "id": "977266e5",
   "metadata": {},
   "source": [
    "## II. SAR Data Preprocessing and Visualization (Module 8.1)"
   ]
  },
  {
   "cell_type": "markdown",
   "id": "87725e86",
   "metadata": {},
   "source": [
    "### A. Data Acquisition and Access"
   ]
  },
  {
   "cell_type": "markdown",
   "id": "29f6f7ff",
   "metadata": {},
   "source": [
    "SAR data can be acquired from various sources, including the Alaska Satellite Facility (ASF) and the Japan Aerospace Exploration Agency (JAXA).  This training uses sample ALOS-2 data downloaded from an OwnCloud instance (example shown below)."
   ]
  },
  {
   "cell_type": "code",
   "execution_count": null,
   "id": "ea493d3e",
   "metadata": {},
   "outputs": [],
   "source": [
    "!wget --content-disposition \"https://owncloud.glodal-inc.net/owncloud/index.php/s/fORunC9aDo38G5s/download\" && unzip Yamba.zip"
   ]
  },
  {
   "cell_type": "markdown",
   "id": "10ca63ab",
   "metadata": {},
   "source": [
    "### B. Data Format (8.1.2.a)"
   ]
  },
  {
   "cell_type": "markdown",
   "id": "08b9935b",
   "metadata": {},
   "source": [
    "The data is provided in GeoTIFF format, a widely used format for geospatial raster data. GeoTIFF files contain georeferencing information, allowing them to be easily integrated into GIS software."
   ]
  },
  {
   "cell_type": "markdown",
   "id": "e18c7518",
   "metadata": {},
   "source": [
    "### C. Python Basics for SAR Data Handling (8.1.2.b, 8.1.2.g)"
   ]
  },
  {
   "cell_type": "code",
   "execution_count": null,
   "id": "8e1deeda",
   "metadata": {},
   "outputs": [],
   "source": [
    "!pip install rasterio matplotlib numpy"
   ]
  },
  {
   "cell_type": "code",
   "execution_count": null,
   "id": "c308709b",
   "metadata": {},
   "outputs": [],
   "source": [
    "import rasterio\n",
    "import matplotlib.pyplot as plt\n",
    "import numpy as np\n",
    "\n",
    "with rasterio.open('/home/jovyan/shared/Arissara/ALOS-2/Yamba/Finalize/Yamba/IMG-HH-ALOS2310942880-200225-UBSR2.1GUD.tif') as src:\n",
    "    image = src.read(1)\n",
    "\n",
    "plt.figure(figsize=(8, 8))\n",
    "plt.imshow(image, cmap='gray')\n",
    "plt.title('SAR Image')\n",
    "plt.show()\n",
    "\n",
    "plt.hist(image.flatten(), bins=256)\n",
    "plt.title('Histogram')\n",
    "plt.show()"
   ]
  },
  {
   "cell_type": "markdown",
   "id": "ba7d27f4",
   "metadata": {},
   "source": [
    "### D. Speckle Noise Reduction (8.2)"
   ]
  },
  {
   "cell_type": "markdown",
   "id": "69748947",
   "metadata": {},
   "source": [
    "Speckle noise is a common phenomenon in SAR imagery. We will use the Lee filter to reduce this noise and improve image quality."
   ]
  },
  {
   "cell_type": "code",
   "execution_count": null,
   "id": "81fb7072",
   "metadata": {},
   "outputs": [],
   "source": [
    "from scipy.ndimage import uniform_filter\n",
    "\n",
    "def lee_filter(img, size=5):\n",
    "    img_mean = uniform_filter(img, (size, size))\n",
    "    img_sqr_mean = uniform_filter(img**2, (size, size))\n",
    "    img_variance = img_sqr_mean - img_mean**2\n",
    "    overall_variance = np.var(img)\n",
    "    img_weights = img_variance / (img_variance + overall_variance)\n",
    "    img_output = img_mean + img_weights * (img - img_mean)\n",
    "    return img_output\n",
    "\n",
    "filtered_image = lee_filter(image)\n",
    "plt.figure(figsize=(8, 8))\n",
    "plt.imshow(filtered_image, cmap='gray')\n",
    "plt.title('Filtered SAR Image')\n",
    "plt.show()"
   ]
  },
  {
   "cell_type": "markdown",
   "id": "0c2cb5e5",
   "metadata": {},
   "source": [
    "## III. Dam Water Extent Delineation (Module 8.2)"
   ]
  },
  {
   "cell_type": "markdown",
   "id": "690c5edf",
   "metadata": {},
   "source": [
    "### A. SAR Backscatter and Water Detection (8.2.1.1)"
   ]
  },
  {
   "cell_type": "markdown",
   "id": "7877ce31",
   "metadata": {},
   "source": [
    "Water typically appears dark in SAR images due to its smooth surface, which reflects radar signals away from the sensor. However, other factors like terrain shadow can also appear dark, posing challenges for water detection."
   ]
  },
  {
   "cell_type": "markdown",
   "id": "19653292",
   "metadata": {},
   "source": [
    "### B. Otsu's Thresholding Method (8.2.1.2)"
   ]
  },
  {
   "cell_type": "markdown",
   "id": "fba21a67",
   "metadata": {},
   "source": [
    "Otsu's method is used to automatically determine a threshold for separating water from non-water pixels based on the image histogram."
   ]
  },
  {
   "cell_type": "code",
   "execution_count": null,
   "id": "6e65b941",
   "metadata": {},
   "outputs": [],
   "source": [
    "from skimage.filters import threshold_otsu\n",
    "\n",
    "othreshold = threshold_otsu(filtered_image)\n",
    "water_mask = filtered_image < othreshold\n",
    "plt.imshow(water_mask, cmap='Blues')\n",
    "plt.title('Water Mask')\n",
    "plt.show()"
   ]
  },
  {
   "cell_type": "markdown",
   "id": "ab76548d",
   "metadata": {},
   "source": [
    "### C. Post-processing and Refinement"
   ]
  },
  {
   "cell_type": "markdown",
   "id": "b3efb486",
   "metadata": {},
   "source": [
    "Post-processing steps like median filtering and vectorization can be applied to refine the water mask and calculate the water area."
   ]
  },
  {
   "cell_type": "code",
   "execution_count": null,
   "id": "48142c74",
   "metadata": {},
   "outputs": [],
   "source": [
    "from scipy.ndimage import median_filter\n",
    "from rasterio.features import shapes\n",
    "import geopandas as gpd\n",
    "from shapely.geometry import shape\n",
    "\n",
    "water_mask_filtered = median_filter(water_mask, size=3)\n",
    "\n",
    "results = ({'properties': {'raster_val': v}, 'geometry': s} for i, (s, v) \n",
    "in enumerate(shapes(water_mask_filtered.astype('uint8'), transform=src.transform)))\n",
    "water_gdf = gpd.GeoDataFrame.from_features(list(results), crs=src.crs)\n",
    "\n",
    "print(f\"Water Area: {water_gdf.geometry.area.sum() / 10000:.2f} hectares\")"
   ]
  },
  {
   "cell_type": "markdown",
   "id": "4d9cb856",
   "metadata": {},
   "source": [
    "## IV. Change Detection Analysis (Module 8.3)"
   ]
  },
  {
   "cell_type": "markdown",
   "id": "9bfbefaa",
   "metadata": {},
   "source": [
    "### A. Time-Series Data Preparation (8.3.1.b)"
   ]
  },
  {
   "cell_type": "markdown",
   "id": "f4701b7b",
   "metadata": {},
   "source": [
    "Change detection involves analyzing SAR data from different time points. This requires preprocessing steps like calibration, filtering, and layer stacking (demonstrated in previous modules)."
   ]
  },
  {
   "cell_type": "markdown",
   "id": "e0f02177",
   "metadata": {},
   "source": [
    "### B. Visualization and Interpretation of Change (8.3.1.c, 8.3.2)"
   ]
  },
  {
   "cell_type": "markdown",
   "id": "a619d8cc",
   "metadata": {},
   "source": [
    "Changes in water extent can be visualized and interpreted using tools like the Temporal/Spectral Profile tool in QGIS. This allows for analyzing backscatter changes over time."
   ]
  },
  {
   "cell_type": "markdown",
   "id": "ec92a9e6",
   "metadata": {},
   "source": [
    "### C. (Optional) Accuracy Assessment (8.2.1.3)"
   ]
  },
  {
   "cell_type": "markdown",
   "id": "09522c78",
   "metadata": {},
   "source": [
    "Accuracy assessment can be performed using ground truth data and metrics like overall accuracy and the Kappa coefficient."
   ]
  },
  {
   "cell_type": "markdown",
   "id": "e28f4423",
   "metadata": {},
   "source": [
    "## V. Forest and Oil Palm Monitoring with ALOS-2 (Module 9)"
   ]
  },
  {
   "cell_type": "markdown",
   "id": "28b6c2ca",
   "metadata": {},
   "source": [
    "(Optional content on forest and oil palm monitoring using similar SAR processing techniques)"
   ]
  },
  {
   "cell_type": "markdown",
   "id": "486c8121",
   "metadata": {},
   "source": [
    "## VI. Conclusion and Further Resources"
   ]
  },
  {
   "cell_type": "markdown",
   "id": "8a159280",
   "metadata": {},
   "source": [
    "This training covered essential SAR data processing and change detection techniques for dam monitoring.  Further resources and tutorials can be found online."
   ]
  }
 ],
 "metadata": {},
 "nbformat": 4,
 "nbformat_minor": 5
}