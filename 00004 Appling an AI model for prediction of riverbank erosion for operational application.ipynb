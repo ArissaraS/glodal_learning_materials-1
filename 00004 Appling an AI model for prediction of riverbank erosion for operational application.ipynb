{
 "cells": [
  {
   "cell_type": "markdown",
   "id": "3738f897-3719-4ae1-8b7f-8a56bc57c755",
   "metadata": {},
   "source": [
    "## 4. Appling an AI model for prediction of riverbank erosion for operational application\n",
    "In this session, we will design materials for individuals interested in the operational use of an AI model for predicting riverbank erosion. Participants should have a background in river engineering from a graduate program and have begun learning about remote sensing and machine learning. They will be members of an international development project aimed at improving disaster management in Bangladesh.\n",
    "### Session objectives\n",
    "* [4.1. Enable the design of quality control processes for geospatial and satellite data](subsections/4.*/4.1-new.ipynb)\n",
    "    * 4.1.1 Types and definitions of geospatial datasets\n",
    "    * 4.1.2 Theory and practice on accuracy assessment\n",
    "    * 4.1.3 Calibration and validation (CAL/VAL) of remote sensing data\n",
    "    * 4.1.4 Use case(s) of quality control of geospatial and satellite data\n",
    "* [4.2. Enable evaluating model performances in machine learning processes](subsections/4.*/4.2.ipynb)\n",
    "    * 4.2.1 Model performance metrics in machine learning\n",
    "    * 4.2.2 Use case(s) of model performance metrics in machine learning\n",
    "* [4.3 Enable the design of improved machine learning models](subsections/4.*/4.3.ipynb)\n",
    "    * 4.3.1 Methods to improve the ML model\n",
    "    * 4.3.2 Hands-on practices on ML model improvement"
   ]
  },
  {
   "cell_type": "code",
   "execution_count": null,
   "id": "6ff6ec7f-91dd-4cc4-9b08-0b3dc5f95dd5",
   "metadata": {},
   "outputs": [],
   "source": []
  }
 ],
 "metadata": {
  "kernelspec": {
   "display_name": "Python 3 (ipykernel)",
   "language": "python",
   "name": "python3"
  },
  "language_info": {
   "codemirror_mode": {
    "name": "ipython",
    "version": 3
   },
   "file_extension": ".py",
   "mimetype": "text/x-python",
   "name": "python",
   "nbconvert_exporter": "python",
   "pygments_lexer": "ipython3",
   "version": "3.11.6"
  }
 },
 "nbformat": 4,
 "nbformat_minor": 5
}
