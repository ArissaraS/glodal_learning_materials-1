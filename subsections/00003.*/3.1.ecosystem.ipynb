{
 "cells": [
  {
   "attachments": {},
   "cell_type": "markdown",
   "id": "0ad0b0c1-8c96-42f2-a6c2-2694c2b0aca8",
   "metadata": {},
   "source": [
    "# 3.1. Up-to-date overviews satellite-derived parameters for assessing forestry ecosystems\n",
    "\n",
    "This section aims to updating knowledge and skills on satellite remote sensing for ecosystem mapping, specifically applications to environmental DNA studies. To align with the specified learning objectives, only advanced contents (research papers) relevant to these applications were included in the review. \n",
    "\n",
    "Here are learning objectives for the outcome. The contents requiring advanced knowledge are labelled \"(Advanced)\" to the content names.\n",
    "\n",
    "  - 3.1.1. Understand key satellite-derived parameters\n",
    "    - 3.1.1.1 Catching up on the latest methods for assessing biomass estimation\n",
    "    - 3.1.1.2 Catching up on the latest methods for accessing forest cover change\n",
    "  - 3.1.2. Learn about remote sensing for habitat analysis in forestry ecosystems\n",
    "    - 3.1.2.1 Catching up on the latest methods for habitat mapping and monitoring\n",
    "    - 3.1.2.2 Catching up on the latest methods for mapping forest types\n",
    "    - 3.1.2.3 Catching up on the latest methods for monitoring environmetal changes"
   ]
  },
  {
   "cell_type": "markdown",
   "id": "541a43e9-f401-42f2-8bc5-81eb623092f6",
   "metadata": {},
   "source": [
    "## 3.1.1 Understand key satellite-derived parameters\n",
    "### 3.1.1.1 Catching up on the latest methods for assessing biomass estimation\n",
    "\n",
    "\n",
    "#### (Advanced) [Forest Aboveground Biomass Estimation and Mapping through High-Resolution Optical Satellite Imagery](https://www.mdpi.com/1999-4907/12/7/914)\n",
    "\n",
    "This paper provides a comprehensive literature review on forest aboveground biomass (AGB) estimation and mapping through high-resolution optical satellite imagery (≤5 m spatial resolution). Based on the literature review, 44 peer-reviewed journal articles were published in 15 years (2004–2019). Twenty-one studies were conducted in Asia, eight in North America and Africa, five in South America, and four in Europe. This review article gives a glance at the published methodologies for AGB prediction modeling and validation. The literature review suggested that, along with the integration of other sensors, QuickBird, WorldView-2, and IKONOS satellite images were most widely used for AGB estimations, with higher estimation accuracies. All studies were grouped into six satellite-derived independent variables, including tree crown, image textures, tree shadow fraction, canopy height, vegetation indices, and multiple variables. Using these satellite-derived independent variables, most of the studies used linear regression (41%), while 30% used linear multiple regression and 18% used non-linear (machine learning) regression, while very few (11%) studies used non-linear (multiple and exponential) regression for estimating AGB. In the context of global forest AGB estimations and monitoring, the advantages, strengths, and limitations were discussed to achieve better accuracy and transparency towards the performance-based payment mechanism of the REDD+ program. Apart from technical limitations, we realized that very few studies talked about real-time monitoring of AGB or quantifying AGB change, a dimension that needs exploration.\n",
    "\n",
    "### 3.1.1.2 Catching up on the latest methods for accessing forest cover change\n",
    "\n",
    "#### (Basic) [Monitoring and Mapping Vegetation Cover Changes in Arid and Semi-Arid Areas Using Remote Sensing Technology: A Review](https://www.mdpi.com/2072-4292/14/20/5143)\n",
    "\n",
    "The document reviews the use of remote sensing satellite sensors and methods for monitoring and mapping vegetation cover changes in arid and semi-arid regions. These regions are environmentally sensitive, with limited water resources and vegetation, making the monitoring of vegetation changes crucial for assessing impacts on land productivity and biodiversity. Vegetation cover change is a key indicator of environmental quality, reflecting hydrological, climatic, and human activity changes.\n",
    "\n",
    "\n",
    "#### (Basic) [An overview of forest remote sensing technologies](https://www.linkedin.com/pulse/overview-forest-remote-sensing-technologies-elias-ayrey-phd-)\n",
    "\n",
    "Primarily, we have five technologies: Imaging, Photogrammetry, Radar, Hyperspectral, and LiDAR. But before we dive into what those are, there are a few caveats to consider. First, these technologies behave completely differently at different scales. Imagine analyzing a drone image of a tree, where there may be hundreds of pixels representing that tree, versus a satellite image where each pixel is 30 meters wide and there are half a dozen trees inside. Each of those images is very different and gives us vastly different information.   These technologies also vary in terms of cost, availability, and cumbersomness - the best data is expensive and rare, and the densest information may a terabyte of data or more per hectare."
   ]
  },
  {
   "cell_type": "markdown",
   "id": "788a71cc-62cd-4e68-b038-07c2d7452359",
   "metadata": {},
   "source": [
    "## 3.1.2 Learn about remote sensing for habitat analysis in forestry ecosystems.\n",
    "\n",
    "### 3.1.2.1 Catching up on the latest methods for habitat mapping and monitoring\n",
    "\n",
    "#### (Advanced) [Remote sensing for mapping natural habitats and their conservation status – New opportunities and challenges](https://www.sciencedirect.com/science/article/abs/pii/S0303243414002451)\n",
    "This paper provides a synthesis on what is currently feasible in terms of (i) the ability of remote sensing to distinguish vegetation-based habitat categories both between and within several broad physiognomic types: forest, grassland, heathland, and wetland and (ii) the use of remote sensing for assessing the conservation status of habitat types. This review focuses on techniques that aim to map and delineate distinct habitats as the public policy framework generally defines such discrete habitats. Still, deriving proxy indicators that represent structural ecological features and patterns in a continuous manner are used for assessing the conservation status (see ‘Assessing the conservation status of habitats’). The review is based on a systematic literature search within the Web of Science for keywords related to nature conservation (e.g. ‘Natura 2000’) and specific habitat types in combination with remote sensing related terms (such as sensors or classifiers).\n",
    "\n",
    "#### (Advanced) [Remote Sensing and GIS for Habitat Quality Monitoring: New Approaches and Future Research](https://www.mdpi.com/2072-4292/7/6/7987)\n",
    "\n",
    "Our Special Issue presents examples where remote sensing has been successfully used for habitat mapping, quantification of habitat quality parameters, or multi-parameter modelling of habitat quality itself. New frontiers such as bathymetric scanning, grassland vegetation classification and operational use were explored, various new ecological verification methods were introduced and integration with ongoing habitat conservation schemes was demonstrated. These studies show that remote sensing and Geoinformation Science for habitat quality analysis have evolved from isolated experimental studies to an active field of research with a dedicated community. It is expected that these new methods will substantially contribute to biodiversity conservation worldwide. \n",
    "\n",
    "\n",
    "### 3.1.2.2 Catching up on the latest methods for mapping forest types\n",
    "\n",
    "\n",
    "#### (Basic) [Forest Type Identification with Random Forest Using Sentinel-1A, Sentinel-2A, Multi-Temporal Landsat-8 and DEM Data](https://www.mdpi.com/2072-4292/10/6/946)\n",
    "\n",
    "Carbon sink estimation and ecological assessment of forests require accurate forest type mapping. The traditional survey method is time consuming and labor intensive, and the remote sensing method with high-resolution, multi-spectral commercial satellite images has high cost and low availability. In this study, we explore and evaluate the potential of freely-available multi-source imagery to identify forest types with an object-based random forest algorithm. These datasets included Sentinel-2A (S2), Sentinel-1A (S1) in dual polarization, one-arc-second Shuttle Radar Topographic Mission Digital Elevation (DEM) and multi-temporal Landsat-8 images (L8). We tested seven different sets of explanatory variables for classifying eight forest types in Wuhan, China. The results indicate that single-sensor (S2) or single-day data (L8) cannot obtain satisfactory results; the overall accuracy was 54.31% and 50.00%, respectively. Compared with the classification using only Sentinel-2 data, the overall accuracy increased by approximately 15.23% and 22.51%, respectively, by adding DEM and multi-temporal Landsat-8 imagery. The highest accuracy (82.78%) was achieved with fused imagery, the terrain and multi-temporal data contributing the most to forest type identification. These encouraging results demonstrate that freely-accessible multi-source remotely-sensed data have tremendous potential in forest type identification, which can effectively support monitoring and management of forest ecological resources at regional or global scales.\n",
    "\n",
    "\n",
    "\n",
    "#### (Basic) [Machine Learning-Based Forest Type Mapping from Multi-Temporal Remote Sensing Data: Performance and Comparative Analysis](https://www.mdpi.com/2673-4931/29/1/9)\n",
    "This paper presents a meticulous exploration of advanced machine learning techniques for precise forest type classification using multi-temporal remote sensing data within a woodland environment. The study comprehensively evaluates a diverse range of models, ranging from advanced (ensemble) machine learning (ML) methods to several finely tuned support vector machine (SVM) variants, with a specific focus on Bayesian-optimized SVM with a radial basis function (RBF) kernel.\n",
    "\n",
    "### 3.1.2.3 Catching up on the latest methods for monitoring environmetal changes\n",
    "\n",
    "#### (Basic) [A Review of Remote Sensing for Environmental Monitoring in China](https://www.mdpi.com/2072-4292/12/7/1130)\n",
    "This paper aims at reviewing the satellite resources, institutions and policies for environmental monitoring in China, and the advances in research and application of remote sensing from five aspects: ecological index retrieval, environmental monitoring in protected areas, rural areas, urban areas and mining areas (atmosphere and water environment monitoring will be introduced separately). This paper also points out major challenges existing in the current stage and puts forward the development trend and future directions, which is useful to direct the research and application of environmental monitoring and protection in the new era.\n",
    "\n",
    "#### (Advanced) [Research on Forest Ecosystem Quality Assessment and Prediction Methods](https://www.mdpi.com/1999-4907/14/2/317)\n",
    "\n",
    "The paper advocates for developing a scientific and standardized assessment index system, producing high-quality data products, localizing assessment model parameters, and exploring the forest quality-climate change response mechanisms. These efforts aim to transition from historical and current assessments to future predictions, thereby supporting the construction of a national ecological civilization.\n",
    "\n",
    "#### (Advanced) [A Comprehensive Review of Methods for Hydrological Forecasting Based on Deep Learning](https://www.mdpi.com/2073-4441/16/10/1407)\n",
    "\n",
    "  This paper discusses the benefits and challenges associated with hydrological forecasting using DL techniques, including CNN, RNN, LSTM, GAN, ResNet, and GNN models.\n",
    "#### (Advanced) [A review of methods for monitoring streamflow for sustainable water resource management](https://link.springer.com/article/10.1007/s13201-016-0488-y)\n",
    "\n",
    "   The document reviews various methods for monitoring streamflow to determine optimal water use for sustainable management, especially in the context of climate change. It evaluates these methods based on six criteria: applicability across different terrains and stream sizes, operational ease, time effectiveness, accuracy, environmental impact, and cost. The study concludes that the timed volume method is ideal for small streams in hilly terrain due to its ease of use and accuracy. Weir and flume methods, though more expensive, are recommended for long-term studies of small hill streams because they provide accurate results once installed. For flat terrains, the float method is preferred for smaller streams due to its simplicity and cost-effectiveness, while particle image velocimetry is suggested for larger streams for its accuracy. The choice of method depends on the stream's volume, the desired accuracy, terrain accessibility, and available resources.\n"
   ]
  },
  {
   "cell_type": "code",
   "execution_count": null,
   "id": "3c29bddd-ea61-40cf-aae8-5514ef44ff95",
   "metadata": {},
   "outputs": [],
   "source": []
  }
 ],
 "metadata": {
  "kernelspec": {
   "display_name": "Python 3 (ipykernel)",
   "language": "python",
   "name": "python3"
  },
  "language_info": {
   "codemirror_mode": {
    "name": "ipython",
    "version": 3
   },
   "file_extension": ".py",
   "mimetype": "text/x-python",
   "name": "python",
   "nbconvert_exporter": "python",
   "pygments_lexer": "ipython3",
   "version": "3.11.6"
  }
 },
 "nbformat": 4,
 "nbformat_minor": 5
}
