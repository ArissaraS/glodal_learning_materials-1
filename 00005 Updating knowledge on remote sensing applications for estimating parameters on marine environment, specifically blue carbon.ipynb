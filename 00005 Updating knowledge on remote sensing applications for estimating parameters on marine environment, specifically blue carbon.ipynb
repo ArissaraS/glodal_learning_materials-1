{
 "cells": [
  {
   "cell_type": "markdown",
   "id": "914675ad-81f0-4a60-931b-61d7502c13ed",
   "metadata": {},
   "source": [
    "# 5. Updating knowledge on remote sensing applications for estimating parameters on marine environment, specifically blue carbon\n",
    "## Session overview\n",
    "In this session, we will design material for individuals interested in the latest applications of satellite remote sensing for maritime monitoring, with a specific focus on parameters for evaluating blue carbon stocks. Participants will also gain hands-on experience operating remote sensing application services. \n",
    "### Session objectives\n",
    "* 5.1 Understanding the latest methods for mapping seaweed beds\n",
    "* 5.2 Estimating and monitoring blue carbon ecosystems\n"
   ]
  },
  {
   "cell_type": "markdown",
   "id": "753cb47f-c05a-4dc4-a991-c7441f2143bc",
   "metadata": {},
   "source": [
    "## 5.1 [Understanding the latest methods for mapping seaweed beds]()"
   ]
  },
  {
   "cell_type": "markdown",
   "id": "af82a7a8-d76d-4b49-825e-1907e4c56d97",
   "metadata": {},
   "source": [
    "## 5.2 [Understanding the latest methods for mapping seaweed beds]()"
   ]
  },
  {
   "cell_type": "markdown",
   "id": "5fea70c3-f7a9-4c5c-b3e2-e8e1d88fd872",
   "metadata": {},
   "source": [
    "## 5.1 [Estimating and monitoring blue carbon ecosystems](https://isprs-archives.copernicus.org/articles/XLIII-B3-2022/1011/2022/isprs-archives-XLIII-B3-2022-1011-2022.pdf)\n",
    "The study focused on monitoring seaweeds along the west coast of Ireland using remote sensing data and Artificial Intelligence. Sentinel-2 satellite data acquired on 28/05/2021 was processed to create spectral indexes for training models. An iterative process was employed to optimize Random Forest parameters (Ntree, Mtry) for accurate classification, achieving an Overall Accuracy of over 98.61%."
   ]
  },
  {
   "cell_type": "markdown",
   "id": "4bbd4a97-cf62-4cf0-ad73-8f02fd30f079",
   "metadata": {},
   "source": [
    "## 5.2 Explore the latest methods for estimating and monitoring blue carbon ecosystems\n",
    "\n",
    "### [Advances in Earth Observation and Machine Learning for Quantifying Blue Carbon](https://ris.utwente.nl/ws/portalfiles/portal/316831287/1_s2.0_S0012825223001903_main.pdf)\n",
    "\r\n",
    "The method involves utilizing advanced machine learning and metaheuristic optimization algorithms to enhance regression accuracy for quantifying blue carbon. By combining multi-modal images with machine learning techniques, the estimation of blue carbon stocks in ecosystems is improve\n",
    "\n",
    "Challenges and limitations\n",
    "* Challenges include the limitations of single modality datasets due to sensor disadvantages, resulting in lower accuracy for objects with similar spectral characteristics or located below the surface\n",
    "* The complexity of multi-source data fusion and the need for advanced processing techniques for high-dimensional remote sensing images pose challenges in accurately quantifying blue carbon stocks.ocks.\r\n",
    " stocks. "
   ]
  }
 ],
 "metadata": {
  "kernelspec": {
   "display_name": "Python 3 (ipykernel)",
   "language": "python",
   "name": "python3"
  },
  "language_info": {
   "codemirror_mode": {
    "name": "ipython",
    "version": 3
   },
   "file_extension": ".py",
   "mimetype": "text/x-python",
   "name": "python",
   "nbconvert_exporter": "python",
   "pygments_lexer": "ipython3",
   "version": "3.11.6"
  }
 },
 "nbformat": 4,
 "nbformat_minor": 5
}
