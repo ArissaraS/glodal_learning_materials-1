{
 "cells": [
  {
   "cell_type": "markdown",
   "id": "f04e8657",
   "metadata": {},
   "source": [
    "# Training Material: SAR Data Processing and Change Detection for Dam Monitoring"
   ]
  },
  {
   "cell_type": "markdown",
   "id": "47347b31",
   "metadata": {},
   "source": [
    "**Module Goal:** To equip participants with the skills to process SAR data, apply noise reduction, visualize dam water extents, and perform change detection analyses for dam monitoring and water resource management."
   ]
  },
  {
   "cell_type": "markdown",
   "id": "0f9fc23b",
   "metadata": {},
   "source": [
    "## I. Introduction to SAR and ALOS-2 Data"
   ]
  },
  {
   "cell_type": "markdown",
   "id": "3f04a1d9",
   "metadata": {},
   "source": [
    "### A. Overview of SAR Technology"
   ]
  },
  {
   "cell_type": "markdown",
   "id": "f00c09f4",
   "metadata": {},
   "source": [
    "* Principles of SAR imaging (Active microwave remote sensing, measures backscattered energy)\n",
    "* Advantages (all-weather, day/night imaging, penetrates clouds)\n",
    "* Limitations (speckle noise, geometric distortions, complex processing)"
   ]
  },
  {
   "cell_type": "markdown",
   "id": "c1f40f9c",
   "metadata": {},
   "source": [
    "### B. ALOS-2 Satellite and PALSAR-2 Sensor"
   ]
  },
  {
   "cell_type": "markdown",
   "id": "d2bad259",
   "metadata": {},
   "source": [
    "* Mission objectives (Land observation, disaster monitoring)\n",
    "* Sensor specifications (L-band, HH/HV polarization, ~3-10m resolution)\n",
    "* Data access (JAXA's website)"
   ]
  },
  {
   "cell_type": "markdown",
   "id": "6f9cb7d9",
   "metadata": {},
   "source": [
    "### C. ALOS-2 Data Applications"
   ]
  },
  {
   "cell_type": "markdown",
   "id": "fc881c18",
   "metadata": {},
   "source": [
    "* Flood monitoring\n",
    "* Land subsidence detection\n",
    "* Water resource management"
   ]
  },
  {
   "cell_type": "markdown",
   "id": "780a2cfd",
   "metadata": {},
   "source": [
    "## II. SAR Data Preprocessing and Visualization"
   ]
  },
  {
   "cell_type": "markdown",
   "id": "1e33e3b0",
   "metadata": {},
   "source": [
    "### A. Data Formats and Access"
   ]
  },
  {
   "cell_type": "markdown",
   "id": "d612f4e5",
   "metadata": {},
   "source": [
    "* GeoTIFF (Tagged Image File Format with georeferencing information)\n",
    "* Downloading ALOS-2 data (Example using OwnCloud or JAXA's website)"
   ]
  },
  {
   "cell_type": "code",
   "execution_count": null,
   "id": "ad8790bc",
   "metadata": {},
   "outputs": [],
   "source": [
    "!wget --content-disposition \"https://owncloud.glodal-inc.net/owncloud/index.php/s/fORunC9aDo38G5s/download\" -O Yamba.zip\n",
    "!unzip Yamba.zip"
   ]
  },
  {
   "cell_type": "markdown",
   "id": "f94158a8",
   "metadata": {},
   "source": [
    "### B. Python Basics for SAR Processing"
   ]
  },
  {
   "cell_type": "code",
   "execution_count": null,
   "id": "04795f29",
   "metadata": {},
   "outputs": [],
   "source": [
    "!pip install rasterio matplotlib"
   ]
  },
  {
   "cell_type": "code",
   "execution_count": null,
   "id": "5082396e",
   "metadata": {},
   "outputs": [],
   "source": [
    "import rasterio\n",
    "import matplotlib.pyplot as plt\n",
    "\n",
    "# Replace with your actual file path\n",
    "alos_file = 'Yamba/IMG-HH-ALOS2310942880-200225-UBSR2.1GUD.tif'\n",
    "\n",
    "with rasterio.open(alos_file) as src:\n",
    "    alos_data = src.read(1)\n",
    "    transform = src.transform\n",
    "    crs = src.crs\n",
    "\n",
    "print(f\"CRS: {crs}\")\n",
    "print(f\"Transform: {transform}\")\n",
    "print(f\"Shape: {alos_data.shape}\")"
   ]
  },
  {
   "cell_type": "markdown",
   "id": "c984450c",
   "metadata": {},
   "source": [
    "### C. Visualizing SAR Data"
   ]
  },
  {
   "cell_type": "code",
   "execution_count": null,
   "id": "0e73b88d",
   "metadata": {},
   "outputs": [],
   "source": [
    "plt.figure(figsize=(10, 10))\n",
    "plt.imshow(alos_data, cmap='gray')\n",
    "plt.title('ALOS-2 Data')\n",
    "plt.colorbar(label='Pixel Values')\n",
    "plt.show()\n",
    "\n",
    "plt.figure(figsize=(10, 10))\n",
    "plt.imshow(alos_data, cmap='viridis')\n",
    "plt.title('ALOS-2 Data (Viridis Colormap)')\n",
    "plt.colorbar(label='Pixel Values')\n",
    "plt.show()\n",
    "\n",
    "plt.hist(alos_data.flatten(), bins=256)\n",
    "plt.title('Histogram of ALOS-2 Data')\n",
    "plt.xlabel('Pixel Values')\n",
    "plt.ylabel('Frequency')\n",
    "plt.show()"
   ]
  },
  {
   "cell_type": "markdown",
   "id": "2c9d1005",
   "metadata": {},
   "source": [
    "## III. Dam Water Extent Delineation"
   ]
  },
  {
   "cell_type": "markdown",
   "id": "ef968c46",
   "metadata": {},
   "source": [
    "### A. SAR Backscatter and Water Detection (Water appears dark due to low backscatter)"
   ]
  },
  {
   "cell_type": "markdown",
   "id": "79fb4aa9",
   "metadata": {},
   "source": [
    "### B. Otsu's Thresholding Method"
   ]
  },
  {
   "cell_type": "code",
   "execution_count": null,
   "id": "ed731e5d",
   "metadata": {},
   "outputs": [],
   "source": [
    "from skimage.filters import threshold_otsu\n",
    "\n",
    "otsu_threshold = threshold_otsu(alos_data)\n",
    "water_mask = alos_data < otsu_threshold"
   ]
  },
  {
   "cell_type": "markdown",
   "id": "c3bea23c",
   "metadata": {},
   "source": [
    "### C. Noise Reduction and Refinement (Median filter, slope-based masking)"
   ]
  },
  {
   "cell_type": "code",
   "execution_count": null,
   "id": "442ab80e",
   "metadata": {},
   "outputs": [],
   "source": [
    "from scipy.ndimage import median_filter\n",
    "\n",
    "water_mask_filtered = median_filter(water_mask, size=3) # Example size\n",
    "# Slope processing would require a DEM and is omitted here for brevity."
   ]
  },
  {
   "cell_type": "markdown",
   "id": "79e5fe60",
   "metadata": {},
   "source": [
    "### D. Calculating Water Area (Pixel counting and area calculation)"
   ]
  },
  {
   "cell_type": "code",
   "execution_count": null,
   "id": "1532bf4c",
   "metadata": {},
   "outputs": [],
   "source": [
    "pixel_area = src.res[0] * src.res[1]\n",
    "water_area = np.sum(water_mask_filtered) * pixel_area\n",
    "print(f\"Water area: {water_area} sq. meters\")"
   ]
  },
  {
   "cell_type": "markdown",
   "id": "010de9a1",
   "metadata": {},
   "source": [
    "### E. Vectorizing Water Extent (Converting raster mask to vector polygon)"
   ]
  },
  {
   "cell_type": "markdown",
   "id": "274a4e16",
   "metadata": {},
   "source": [
    "### F. Optional: Accuracy Assessment (Confusion matrix, overall accuracy, kappa)"
   ]
  },
  {
   "cell_type": "markdown",
   "id": "090469af",
   "metadata": {},
   "source": [
    "## IV. Change Detection Analysis"
   ]
  },
  {
   "cell_type": "markdown",
   "id": "3fc5c820",
   "metadata": {},
   "source": [
    "### A. Preparing Time-Series Data (Acquiring, preprocessing, and stacking multi-temporal data)"
   ]
  },
  {
   "cell_type": "markdown",
   "id": "ff17ea6e",
   "metadata": {},
   "source": [
    "### B. Visualizing Change with QGIS (Temporal/Spectral Profile Tool)"
   ]
  },
  {
   "cell_type": "markdown",
   "id": "2b90afd5",
   "metadata": {},
   "source": [
    "### C. Interpreting Change Results (Analyzing trends, anomalies, and potential causes)"
   ]
  },
  {
   "cell_type": "markdown",
   "id": "bed9b538",
   "metadata": {},
   "source": [
    "### D. Optional: Advanced Change Detection Techniques (Image differencing, change vector analysis)"
   ]
  },
  {
   "cell_type": "markdown",
   "id": "774a2c27",
   "metadata": {},
   "source": [
    "## V. Conclusion and Next Steps"
   ]
  }
 ],
 "metadata": {},
 "nbformat": 4,
 "nbformat_minor": 5
}