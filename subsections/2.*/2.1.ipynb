{
 "cells": [
  {
   "cell_type": "markdown",
   "id": "b1ceb520-6fac-4ece-9a5f-0fbb5308d846",
   "metadata": {},
   "source": [
    "# 2.1. Enable UX design to outreach science data products\n",
    "\n",
    "*Add contents summary of this page*. Here are learning objectives for the outcome. The contents requiring advanced knowledge are labelled \"(Advanced)\" to the content names.\n",
    "\n",
    "- 2.1.1 Understand the principles of UX design\n",
    "- 2.1.2 Apply UX design principles to scientific data products"
   ]
  },
  {
   "cell_type": "markdown",
   "id": "ab098f94-aa9f-4fa5-8c0d-7e6a45028272",
   "metadata": {},
   "source": [
    "## 2.1.1. Understand the principles of UX design\n",
    "\n",
    "### (Course) [Foundations of User Experience (UX) Design](https://www.coursera.org/learn/foundations-user-experience-design?specialization=google-ux-design)\n",
    "This course is part of the Google UX Design Professional Certificate\n",
    "\n",
    "### (Basic) [User Experience (UX) Design](https://www.interaction-design.org/literature/topics/ux-design)\n",
    "\n",
    "The content explains User Experience (UX) design, detailing its role in creating products that provide meaningful and relevant experiences to users. UX design encompasses the entire process of acquiring and integrating a product, including branding, design, usability, and functionality. It involves designing all user interactions, such as marketing, packaging, and after-sales support, to address pain points and needs. UX design is user-centered, focusing on making interactions intuitive, smooth, and pleasant by considering users' motivations, functionality, and aesthetic design. The field is multidisciplinary, involving tasks like user research, creating personas, and testing designs, all while advocating for user needs throughout the design process.\n",
    "\n",
    "### (Basic) [Here’s How to Become a UX Designer in 2024](https://careerfoundry.com/en/blog/ux-design/how-to-become-a-ux-designer/)\n",
    "\n",
    "The content explains how to become a UX designer in 2024, begin by reading up on UX and taking a free introductory course to understand the basics. Learn the key UX design principles, such as usability, accessibility, and user-centered design. Familiarize yourself with essential UX methods and processes, including user research, wireframing, and prototyping. To structure your learning effectively, consider enrolling in a credible UX course that offers hands-on experience and mentorship. By following these steps, you'll build a strong foundation and gain the skills needed to start your career in UX design.\n",
    "\n",
    "### (Basic) [UX Design Examples That Work and Why](https://userpilot.com/blog/ux-design-examples/#TL;DR)\n",
    "\n",
    "The content shown in the examples is good UX designs from B2B SaaS companies to help inspire your UX designers."
   ]
  },
  {
   "cell_type": "markdown",
   "id": "14dd5f91-ba54-4f7d-91c0-54b10f01594d",
   "metadata": {},
   "source": [
    "## 2. Apply UX design principles to scientific data products\n",
    "\n",
    "\n",
    "### (Basic) [Geospatial Technologies: The Role of UX in Mapping and Navigation Innovations](https://www.linkedin.com/pulse/geospatial-technologies-role-ux-mapping-navigation-felix-chandran-rwgec)\n",
    "\n",
    "This content presents geospatial technologies, including GIS, GPS, remote sensing, and online mapping, that play a crucial role in various sectors by providing detailed spatial insights for urban planning, environmental management, transportation, disaster response, agriculture, and public health. The global geospatial analytics market is expected to grow significantly, highlighting the increasing value of spatial data. Effective UX design is essential for simplifying complex data, enhancing visualization, and making geospatial tools accessible and useful to a broader audience. Future trends in UX for geospatial technologies include AI integration, augmented reality, voice and gesture controls, personalization, IoT integration, 3D mapping, improved accessibility, big data analytics, and blockchain for data security. Real-world examples like Google Maps, Strava, Zillow, Uber, and ESRI’s ArcGIS demonstrate the importance of UX in making these technologies effective and user-friendly.\n",
    "  \n",
    "### (Basic) [UX Design for Geospatial Data Products](https://www.eleken.co/industries/ui-ux-design-for-geospatial-data-products)\n",
    "\n",
    "The content presents an example of UX design in several case studies for geospatial data products. \n",
    "##### [Redesigning an AI-powered agriculture solution to enhance user interface and cut development costs](https://www.eleken.co/cases/gamaya)\n",
    "Gamaya, a Swiss company specializing in agricultural data processing and analysis, sought to improve its MVP's user interface to attract new customers and enter new markets. Initially, the MVP's UI was complex and confusing, hindering user experience. To address this, a redesign focused on simplifying the UI/UX while minimizing development costs by utilizing React and the Ant Design component library. This approach allowed for rapid implementation of intuitive design components, reducing cognitive load for users. The redesigned platform enabled farmers to access and analyze crop data from open-source satellite imagery and drones, track information through various visualization options, schedule drone missions, and employ scouts for field inspections. Additionally, the platform was adapted for golf course monitoring, allowing for efficient resource deployment, effectively creating two products from one foundational design.\n",
    "\n",
    "##### [Eleken designers join Astraea's team to enhance geospatial SaaS, attracting new customers and investors](https://www.eleken.co/cases/astraea)\n",
    "Eleken joined Astraea, an AI platform for satellite data analysis, to enhance its user interface and attract new customers and investors. Eleken integrated seamlessly with Astraea's team, focusing on iterative redesigns of the Earth OnDemand platform, simplifying navigation, and maintaining a clean minimalist look. They prioritized quick, impactful changes to expedite demonstrations to potential clients and investors. Additionally, Eleken contributed to designing new features like Monitoring and customizing products for external clients, such as EarthAI-Blackbear. Throughout the collaboration, Eleken's efficient design solutions and adaptability helped Astraea attract increased interest from investors and new businesses, supporting meaningful initiatives like providing satellite info for humanitarian aid in Ukraine.\n",
    "\n",
    "##### [UI/UX redesign for drone management platform](https://www.eleken.co/cases/involi)\n",
    "Eleken joined INVOLI to redesign their low-altitude air traffic management platform, enhancing its modernity and intuitiveness while maintaining its existing structure. INVOLI provides hardware and software tools for air traffic detection, drone tracking, and risk assessment. The redesign aimed to attract new users without alienating existing ones, focusing on four user types: Admin, Infrastructure Manager, Drone Operator, and Authorities. Through thorough product analysis, wireframing, and prototyping, Eleken simplified complex processes, improved route building and receiver status visualization, and created a UI kit for future scalability. \n",
    "\n",
    "##### [How redesign helps to attract new type of users to analytics product](https://www.eleken.co/cases/advan-research)\r",
    "Advan Research, a GIS company providing geographical data analysis for real estate through its ReVeal platform, needed a redesign to improve user experience and attract new users, including business owners and real estate developers. The redesign process began with a UX audit that identified over 30 design flaws and was followed by competitor analysis to explore opportunities. The product was restructured to cater to both experienced users and newcomers, introducing simplified navigation and categorized reports. Custom reports were made easily accessible, and the design was optimized for speed by grouping map objects. A minimal, distinct visual style was adopted, featuring a detailed UI kit for future development.\n",
    "\n"
   ]
  },
  {
   "cell_type": "code",
   "execution_count": null,
   "id": "ac6b8958-2366-4785-bad6-9278a4519653",
   "metadata": {},
   "outputs": [],
   "source": []
  }
 ],
 "metadata": {
  "kernelspec": {
   "display_name": "Python 3 (ipykernel)",
   "language": "python",
   "name": "python3"
  },
  "language_info": {
   "codemirror_mode": {
    "name": "ipython",
    "version": 3
   },
   "file_extension": ".py",
   "mimetype": "text/x-python",
   "name": "python",
   "nbconvert_exporter": "python",
   "pygments_lexer": "ipython3",
   "version": "3.11.6"
  }
 },
 "nbformat": 4,
 "nbformat_minor": 5
}
