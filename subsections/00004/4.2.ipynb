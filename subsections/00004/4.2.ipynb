{
 "cells": [
  {
   "cell_type": "markdown",
   "id": "47325613-7d23-498e-b8cc-869b902c84ea",
   "metadata": {},
   "source": [
    "# 4.2. Enable evaluating model performances in machine learning processes\n",
    "\n",
    "*Add contents summary of this page*. Here are learning objectives for the outcome. The contents requiring advanced knowledge are labelled \"(Advanced)\" to the content names.\n",
    "\n",
    "- 4.2.1 Model Performance/Evaluation Metrics in Machine Learning\n",
    "- 4.2.2 Use case(s) of model performance metrics in machine learning"
   ]
  },
  {
   "cell_type": "markdown",
   "id": "1dc602ab-6a09-4796-8a0d-7f8453934865",
   "metadata": {},
   "source": [
    "## 4.2.1 Model performance metrics in machine learning\n",
    "\n",
    "### (Basic) [Model Evaluation Metrics in Machine Learning](https://www.kdnuggets.com/2020/05/model-evaluation-metrics-machine-learning.html)\n",
    "\n",
    "The content discusses the importance of evaluating machine learning models using various metrics to ensure they generalize well on unseen data, rather than just memorizing the training data. It introduces the confusion matrix, a tool used to evaluate classification models by comparing predicted and actual values, highlighting key terms: True Positive, True Negative, False Positive, and False Negative. It also explains Type I (False Positive) and Type II (False Negative) errors in hypothesis testing. Accurate model evaluation involves metrics like accuracy, precision, recall, F1 score, and gain and loss chart, which are derived from the confusion matrix to measure a model's performance effectively.\n",
    "\n",
    "- [Hands-on with codes for Model Evaluation Metrics in Machine Learning](code/4.2.1Model_Evaluation_Metrics_in_Machine_Learning.ipynb)\n",
    "\n",
    "### (Basic) [Performance Metrics in Machine Learning](https://neptune.ai/blog/performance-metrics-in-machine-learning-complete-guide)\n",
    "\n",
    "Performance metrics are crucial in the machine learning pipeline for quantifying progress and judging model performance. They are essential for both regression and classification tasks, with various popular metrics providing insights into how models interpret data. Unlike loss functions, which are used to train models through optimization methods and need to be differentiable, metrics are used to monitor and measure performance and do not need to be differentiable. \n",
    "\n",
    "-  [Hands-on with codes for Performance Metrics in Machine Learning](code/4.2.1Performance_Metrics_in_Machine_Learning.ipynb)"
   ]
  },
  {
   "cell_type": "markdown",
   "id": "a8760c7d-b603-43c6-bcf8-f634246f338b",
   "metadata": {},
   "source": [
    "## 4.2.2 Use case(s) of model performance metrics in machine learning\n",
    "\n",
    "### (Advanced)  [Estimation of riverbank erosion by combining channel morphological models with AI techniques](https://www.tandfonline.com/doi/full/10.1080/19475705.2024.2359983)\n",
    "\n",
    "Simulating riverbank erosion involves modeling the complex interactions between water flow, sediment transport, and bank stability. The present study employs a novel approach, combining the Self Organizing Map (SOM) algorithm and the Long Short-Term Memory (LSTM) network, to capture the behavior of riverbank erosion. A two-stage training procedure is promoted to enhance predictive accuracy and emphasize the need for preprocessing input data related to hydrological conditions, geomorphological features, and soil properties. Pivotal variables that can characterize changes in channel geometry are designed as the output targets, such as the vertical displacement of the riverbed, the horizontal displacement of the riverbank, and the channel width. The goal of this study is to create an alternative to addressing challenges associated with predicting riverbank erosion by utilizing new training methods of artificial intelligence (AI) models. The proposed method is designed with practical applications in mind, satisfying the need for methods that are not only accurate but also operationally efficient.\n",
    "\n",
    "### (Advanced)  [River Bank Erosion Prediction Using Multivariable Linear Regression](http://jase.tku.edu.tw/articles/jase-202412-27-12-0006.pdf)\n",
    "\n",
    "This research proposes a new approach using multivariable linear regression to predict the riverbank erosion speed. As a simple and interpretable model, the proposed approach gains two main achievements. First, it can specify the main factors causing riverbank erosion. Notably, the method identifies the river’s depth and the water flow’s hydraulic gradient, contributing primarily to the erosion speed. Second, multivariable linear regression can be learned from such a small dataset. This aspect makes the range of applications for the method much broader. The Experimental results show that the multivariable linear regression can predict erosion speed well. \n",
    "\n",
    "### (Advanced)  [Predictive models for the estimation of riverbank erosion rates](https://www.engr.colostate.edu/~pierre/ce_old/Projects/Paperspdf/Saadon%20et%20al.%20Catena%202020.pdf)\n",
    "\n",
    "The study addresses the complex process of riverbank erosion, emphasizing the need for understanding the interplay between riverbank properties and river hydraulics to estimate erosion rates accurately. Given the limitations of existing analytical solutions, the researchers developed empirical models by analyzing basal erosion and bank failure using 358 erosion pin measurements from the River Bernam in Selangor, Malaysia. Field data were collected following international protocols using various instruments. The study used statistical approaches to create predictive models, focusing on the correlation between riverbank erosion rates and flow-induced variables. Sensitivity analysis identified the most influential parameters, with logarithmic-transformation equations showing the highest predictive accuracy (up to 93.5%) and determination (0.783). The key influential factors were hydraulic flow characteristics, soil properties, and bank geometry, while factors like the ratio of bankfull width to mean particle diameter, bank angle, and channel reach had weak correlations with erosion rates."
   ]
  },
  {
   "cell_type": "code",
   "execution_count": null,
   "id": "8db244fc-08d0-47fd-acf5-18c8b0549baa",
   "metadata": {},
   "outputs": [],
   "source": []
  }
 ],
 "metadata": {
  "kernelspec": {
   "display_name": "Python 3 (ipykernel)",
   "language": "python",
   "name": "python3"
  },
  "language_info": {
   "codemirror_mode": {
    "name": "ipython",
    "version": 3
   },
   "file_extension": ".py",
   "mimetype": "text/x-python",
   "name": "python",
   "nbconvert_exporter": "python",
   "pygments_lexer": "ipython3",
   "version": "3.11.6"
  }
 },
 "nbformat": 4,
 "nbformat_minor": 5
}
