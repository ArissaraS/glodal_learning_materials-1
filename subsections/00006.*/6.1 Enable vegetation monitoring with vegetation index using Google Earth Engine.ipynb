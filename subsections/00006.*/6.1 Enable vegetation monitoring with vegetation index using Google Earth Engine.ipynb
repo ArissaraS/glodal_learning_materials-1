{
 "cells": [
  {
   "cell_type": "markdown",
   "id": "bf96815d-8c1e-49f0-8ec5-ecde35380546",
   "metadata": {},
   "source": [
    "# 6.1 Enable vegetation monitoring with vegetation index using Google Earth Engine\n",
    "\n",
    "*Add contents summary of this page*. Here are learning objectives for the outcome. The contents requiring advanced knowledge are labelled \"(Advanced)\" to the content names.\n",
    "\n",
    "- 6.1.1 (Optional) Introduction to GEE\n",
    "- 6.1.2 What are vegetation indices and their applications\n",
    "- 6.1.3 Monitoring vegetation with vegetation indices in GEE"
   ]
  },
  {
   "cell_type": "markdown",
   "id": "8701c5ab-a8d7-4b2c-a482-66bbd4334645",
   "metadata": {},
   "source": [
    "## 6.1.1 (Optional) Introduction to GEE\n",
    "\n",
    "### (Basic) [Introduction to Google Earth Engine](https://www.google.com/earth/outreach/learn/introduction-to-google-earth-engine/)\n",
    "\n",
    "Earth Engine Explorer (EE Explorer) is a lightweight geospatial image data viewer with access to a large set of global and regional datasets available in the Earth Engine Data Catalog. It allows for quick viewing of data with the ability to zoom and pan anywhere on Earth, adjust visualization settings, and layer data to inspect change over time.\n",
    "\n",
    " - This tutorial will cover the use of the EE Explorer application, including:\n",
    " - how to find data in the Data Catalog\n",
    " - adding data to the Workspace\n",
    " - explanation of interface features\n",
    " - how to tailor data visualization\n",
    "\n",
    "The goals of this tutorial are to enable you to use EE Explorer, inspire you to discover and view new data, and provide a starting point to imagine how you might expand your exploration using the other more powerful Earth Engine platform tools to answer questions about the current state and ongoing changes affecting the Earth\n",
    "\n",
    "### (Basic) [Get Started with Earth Engine](https://developers.google.com/earth-engine/guides/getstarted)\n",
    "\n",
    "This Get Started guide is intended as a quick way to start programming with the Earth Engine JavaScript API. Google Earth Engine allows users to run algorithms on georeferenced imagery and vectors stored on Google's infrastructure. The Google Earth Engine API provides a library of functions which may be applied to data for display and analysis. Earth Engine's public data catalog contains a large amount of publicly available imagery and vector datasets. Private assets can also be created in users' personal folders."
   ]
  },
  {
   "cell_type": "markdown",
   "id": "2662a0ab-01d5-442b-bc05-b74bb9528080",
   "metadata": {},
   "source": [
    "## 6.1.2 What are vegetation indices and their applications\n",
    "\n",
    "### (Basic) [What is a Vegetation Index ?](https://www.hiphen-plant.com/vegetation-index/)\n",
    "\n",
    "A Vegetation Index is a single value calculated by transforming the observations from multiple spectral bands. It is used to enhance the presence of green, vegetation features and thus help to distinguish them from the other objects present in the image, depending on the transformation method and the spectral bands used.\n",
    "\n",
    "### (Basic) [What are vegetation indices used for?](https://www.un-spider.org/links-and-resources/data-sources/daotm/daotm-vegetation#:~:text=In%20general%20terms%2C%20vegetation%20indices,of%20the%20plant's%20photosynthetic%20activity.)\n",
    "\n",
    "Vegetation indices derived from Earth observation satellites are important for a wide range of applications such as vegetation monitoring, drought studies, agricultural activities, climate and hydrologic modeling. Vegetation monitoring plays an important role in drought early warning systems, which help to anticipate the risk of food crises at local and global scale.\n",
    "\n",
    "### (Basic) [Application of vegetation indices](https://www.icimod.org/capacity-building/2021/WoGIT%20Afg/D3_Indices_application.pdf)\n",
    " - Vegetation mapping and monitoring\n",
    " - Biodiversity assessment\n",
    " - Estimation of biophysical parameters (LAI, fPAR)\n",
    " - Phenological assessment \n",
    " - Vegetation health/stress\n",
    " - Forest degradation\n",
    " - Biomass mapping and modelling\n",
    " - Productivity and carbon assessment\n",
    " - Crop condition monitoring and predicting crop yield"
   ]
  },
  {
   "cell_type": "markdown",
   "id": "384b2702-285d-48eb-ba0e-8ebd754c6a05",
   "metadata": {},
   "source": [
    "## 6.1.3 Monitoring vegetation with vegetation indices in GEE\n",
    "\n",
    "### [Monitoring Forest Vegetation Condition](https://developers.google.com/earth-engine/tutorials/community/forest-vegetation-condition)\n",
    "\n",
    "This tutorial illustrates the use of Earth Engine to investigate forest vegetation condition over time. Remotely sensed indices such as enhanced vegetation index (EVI), normalized difference vegetation index (NDVI) and normalized difference water index (NDWI) are widely used to estimate vegetation status from satellite imagery. EVI and NDVI estimate vegetation chlorophyll content while NDWI estimates vegetation moisture content. All these indices can be derived from free public imagery of satellites like Landsat and MODIS, available in the Earth Engine data catalog. This tutorial uses MODIS EVI data from the MOD13Q1.006 dataset for the period from year 2000 to 2019.\n",
    "\n"
   ]
  },
  {
   "cell_type": "code",
   "execution_count": null,
   "id": "94366b20-a639-4075-8174-0895e802bece",
   "metadata": {},
   "outputs": [],
   "source": []
  }
 ],
 "metadata": {
  "kernelspec": {
   "display_name": "Python 3 (ipykernel)",
   "language": "python",
   "name": "python3"
  },
  "language_info": {
   "codemirror_mode": {
    "name": "ipython",
    "version": 3
   },
   "file_extension": ".py",
   "mimetype": "text/x-python",
   "name": "python",
   "nbconvert_exporter": "python",
   "pygments_lexer": "ipython3",
   "version": "3.11.6"
  }
 },
 "nbformat": 4,
 "nbformat_minor": 5
}
