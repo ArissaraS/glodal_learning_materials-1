{
 "cells": [
  {
   "cell_type": "markdown",
   "id": "91461fb2",
   "metadata": {},
   "source": [
    "# Training Material: Loading and Visualizing ALOS-2 Data with Python"
   ]
  },
  {
   "cell_type": "markdown",
   "id": "7936b5de",
   "metadata": {},
   "source": [
    "## I. Introduction to ALOS-2 Data"
   ]
  },
  {
   "cell_type": "markdown",
   "id": "1376bdca",
   "metadata": {},
   "source": [
    "**A. Overview of ALOS-2 Satellite:**\n",
    "* The ALOS-2 satellite, launched by JAXA, is equipped with the PALSAR-2 L-band SAR sensor and the CIRC visual/infrared radiometer.  [EO Portal](https://www.eoportal.org/satellite-missions/alos-2)\n",
    "* PALSAR-2's L-band frequency allows for penetration of cloud cover and vegetation."
   ]
  },
  {
   "cell_type": "markdown",
   "id": "dc4a0913",
   "metadata": {},
   "source": [
    "**B. Key Applications of ALOS-2 Data:**\n",
    "* ALOS-2 data is valuable for forest monitoring, deforestation, forest degradation, and plantation mapping. [ResearchGate](https://www.researchgate.net/publication/224183347_Generating_Large-Scale_High-Quality_SAR_Mosaic_Datasets_Application_to_PALSAR_Data_for_Global_Monitoring)\n",
    "* The L-band SAR is particularly useful for penetrating cloud cover and dense vegetation."
   ]
  },
  {
   "cell_type": "markdown",
   "id": "e8d7118a",
   "metadata": {},
   "source": [
    "**C. Data Access:**\n",
    "* ALOS-2 data can be obtained from sources like JAXA and ASF DAAC.\n",
    "* Example of JAXA website interface: [JAXA](https://www.eorc.jaxa.jp/ALOS/en/palsar_fnf/data/index.htm)"
   ]
  },
  {
   "cell_type": "markdown",
   "id": "e439a2c4",
   "metadata": {},
   "source": [
    "## II. Basic Python for EO Data Processing"
   ]
  },
  {
   "cell_type": "markdown",
   "id": "77928e9e",
   "metadata": {},
   "source": [
    "**A. Reading and Writing Files:**"
   ]
  },
  {
   "cell_type": "code",
   "execution_count": null,
   "id": "c957fea8",
   "metadata": {},
   "outputs": [],
   "source": [
    "# Example of reading a text file\n",
    "with open('example.txt', 'r') as f:\n",
    "    content = f.read()\n",
    "    print(content)\n",
    "\n",
    "# Example of writing to a text file\n",
    "with open('output.txt', 'w') as f:\n",
    "    f.write('This is some text.')"
   ]
  },
  {
   "cell_type": "markdown",
   "id": "9e722d2f",
   "metadata": {},
   "source": [
    "**B. Data Structures:**\n",
    "* Lists, dictionaries, and tuples are essential data structures in Python. [Python Docs](https://docs.python.org/3/tutorial/datastructures.html)"
   ]
  },
  {
   "cell_type": "code",
   "execution_count": null,
   "id": "c06ceefa",
   "metadata": {},
   "outputs": [],
   "source": [
    "# Example of list, dictionary, and tuple\n",
    "my_list = [1, 2, 3]\n",
    "my_dict = {'a': 1, 'b': 2}\n",
    "my_tuple = (1, 2, 3)"
   ]
  },
  {
   "cell_type": "markdown",
   "id": "f82fd260",
   "metadata": {},
   "source": [
    "## III. Loading ALOS-2 Data"
   ]
  },
  {
   "cell_type": "markdown",
   "id": "ca7afc45",
   "metadata": {},
   "source": [
    "**A. Data Format:**\n",
    "* ALOS-2 data is commonly provided in GeoTIFF (.tif) format."
   ]
  },
  {
   "cell_type": "markdown",
   "id": "199d6a03",
   "metadata": {},
   "source": [
    "**B. Loading Data with Rasterio:**"
   ]
  },
  {
   "cell_type": "code",
   "execution_count": null,
   "id": "ac613f1f",
   "metadata": {},
   "outputs": [],
   "source": [
    "import rasterio\n",
    "\n",
    "# Replace with your actual file path\n",
    "filepath = 'example.tif'\n",
    "\n",
    "with rasterio.open(filepath) as src:\n",
    "    # Read the first band\n",
    "    band1 = src.read(1)\n",
    "    \n",
    "    # Access metadata\n",
    "    metadata = src.meta\n",
    "    print(metadata)"
   ]
  },
  {
   "cell_type": "markdown",
   "id": "f184ad20",
   "metadata": {},
   "source": [
    "## IV. Visualizing ALOS-2 Data"
   ]
  },
  {
   "cell_type": "markdown",
   "id": "bcec4511",
   "metadata": {},
   "source": [
    "**A. Basic Visualization with Matplotlib:**"
   ]
  },
  {
   "cell_type": "code",
   "execution_count": null,
   "id": "1b69f28f",
   "metadata": {},
   "outputs": [],
   "source": [
    "import matplotlib.pyplot as plt\n",
    "import numpy as np\n",
    "\n",
    "# Generate some example data (replace with your ALOS-2 data)\n",
    "data = np.random.rand(100, 100)\n",
    "\n",
    "plt.imshow(data, cmap='gray')\n",
    "plt.title('ALOS-2 Image')\n",
    "plt.colorbar()\n",
    "plt.show()"
   ]
  },
  {
   "cell_type": "markdown",
   "id": "58ab353a",
   "metadata": {},
   "source": [
    "**B. Visualizing Multiple Images:**"
   ]
  },
  {
   "cell_type": "code",
   "execution_count": null,
   "id": "8cc9ef3a",
   "metadata": {},
   "outputs": [],
   "source": [
    "import matplotlib.pyplot as plt\n",
    "import numpy as np\n",
    "\n",
    "# Generate example data\n",
    "data1 = np.random.rand(100, 100)\n",
    "data2 = np.random.rand(100, 100)\n",
    "\n",
    "fig, axes = plt.subplots(1, 2)\n",
    "axes[0].imshow(data1, cmap='gray')\n",
    "axes[0].set_title('Image 1')\n",
    "axes[1].imshow(data2, cmap='gray')\n",
    "axes[1].set_title('Image 2')\n",
    "plt.show()"
   ]
  },
  {
   "cell_type": "markdown",
   "id": "281802be",
   "metadata": {},
   "source": [
    "**C. Histogram Analysis:**"
   ]
  },
  {
   "cell_type": "code",
   "execution_count": null,
   "id": "edd6c2f6",
   "metadata": {},
   "outputs": [],
   "source": [
    "import matplotlib.pyplot as plt\n",
    "import numpy as np\n",
    "\n",
    "# Generate example data\n",
    "data = np.random.rand(100, 100)\n",
    "\n",
    "plt.hist(data.flatten(), bins=20)\n",
    "plt.title('Histogram')\n",
    "plt.xlabel('Pixel Value')\n",
    "plt.ylabel('Frequency')\n",
    "plt.show()"
   ]
  }
 ],
 "metadata": {
  "language_info": {
   "name": "python"
  }
 },
 "nbformat": 4,
 "nbformat_minor": 5
}
