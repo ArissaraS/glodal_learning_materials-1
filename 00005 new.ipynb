{
 "cells": [
  {
   "cell_type": "markdown",
   "id": "0d9eac1c-8da8-4e76-a130-0c7d60e83f68",
   "metadata": {},
   "source": [
    "# 5. Updating knowledge on remote sensing applications for estimating parameters on marine environment, specifically blue carbon\n",
    "\n",
    "In this session, we will design material for individuals interested in the latest applications of satellite remote sensing for maritime monitoring, with a specific focus on parameters for evaluating blue carbon stocks. Participants will also gain hands-on experience operating remote sensing application services. "
   ]
  },
  {
   "cell_type": "markdown",
   "id": "c6d8b7bf-df0a-4a96-ab4c-286ea3a1359b",
   "metadata": {},
   "source": [
    " - 5.1 [Up-to-date overviews satellite-derived parameters for assessing marine environment](subsections/00005/5.1.ipynb)\n",
    "     - 5.1.1 Catching up latest methods on mapping seaweed beds\n",
    "     - 5.1.2 Catching up latest methods on estimate/monitoring blue carbon ecosystem"
   ]
  },
  {
   "cell_type": "code",
   "execution_count": null,
   "id": "3098ab5d-be50-4b32-889e-c3792940463c",
   "metadata": {},
   "outputs": [],
   "source": []
  }
 ],
 "metadata": {
  "kernelspec": {
   "display_name": "Python 3 (ipykernel)",
   "language": "python",
   "name": "python3"
  },
  "language_info": {
   "codemirror_mode": {
    "name": "ipython",
    "version": 3
   },
   "file_extension": ".py",
   "mimetype": "text/x-python",
   "name": "python",
   "nbconvert_exporter": "python",
   "pygments_lexer": "ipython3",
   "version": "3.11.6"
  }
 },
 "nbformat": 4,
 "nbformat_minor": 5
}
