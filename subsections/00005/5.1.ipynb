{
 "cells": [
  {
   "cell_type": "markdown",
   "id": "6d95eee1-b7ca-4776-b405-409e0f8a89a2",
   "metadata": {},
   "source": [
    "# Up-to-date overviews satellite-derived parameters for assessing marine environment\n",
    "\n",
    "Here are learning objectives for the outcome. The contents requiring advanced knowledge are labelled \"(Advanced)\" to the content names.\n",
    "\n",
    " - 5.1.1 Catching up latest methods on mapping seaweed beds\n",
    " - 5.1.2 Catching up latest methods on estimate/monitoring blue carbon ecosystem"
   ]
  },
  {
   "cell_type": "markdown",
   "id": "968af158-c94a-4979-b697-d55d50229cb7",
   "metadata": {},
   "source": [
    "## 5.1.1 Catching up latest methods on mapping seaweed beds\n",
    "\n",
    "### (Advanced) [Seaweed Presence Detection using Machine Learning and Remote Sensing](http://isprs-archives.copernicus.org/articles/XLIII-B3-2022/1011/2022/isprs-archives-XLIII-B3-2022-1011-2022.pdf)\n",
    "\n",
    "Human pressure on coastal areas is increasing due to resource depletion, climate change, and ocean eutrophication, which threaten ecosystem services like carbon uptake and biodiversity maintenance. Coastal ecosystems, particularly seaweeds, are crucial for carbon sinks and high-value products for the cosmetic and food industries. Efficient monitoring is essential to track environmental dynamics and resource trends. Traditional seaweed monitoring involves field surveys and genetic studies, but recent advancements in Remote Sensing and Artificial Intelligence (AI) offer more efficient tools. This study tests the potential of these techniques for seaweed monitoring along Ireland's west coast, aiming for a fully automated monitoring tool. Using a supervised classification approach, Random Forest (RF) achieved high accuracy, with the best configuration yielding an Overall Accuracy (OA) of 98.87%."
   ]
  },
  {
   "cell_type": "markdown",
   "id": "40e7c718-706c-45b6-84b4-721e218977d6",
   "metadata": {},
   "source": [
    "## 5.1.2 Catching up latest methods on estimate/monitoring blue carbon ecosystem"
   ]
  }
 ],
 "metadata": {
  "kernelspec": {
   "display_name": "Python 3 (ipykernel)",
   "language": "python",
   "name": "python3"
  },
  "language_info": {
   "codemirror_mode": {
    "name": "ipython",
    "version": 3
   },
   "file_extension": ".py",
   "mimetype": "text/x-python",
   "name": "python",
   "nbconvert_exporter": "python",
   "pygments_lexer": "ipython3",
   "version": "3.11.6"
  }
 },
 "nbformat": 4,
 "nbformat_minor": 5
}
