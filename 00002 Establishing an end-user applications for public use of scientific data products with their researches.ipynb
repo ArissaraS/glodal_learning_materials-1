{
 "cells": [
  {
   "cell_type": "markdown",
   "id": "84064112-82aa-4564-8c49-1c0eec4ac352",
   "metadata": {},
   "source": [
    "# 2. Establishing an end-user applications for public use of scientific data products with their researches\n",
    "\n",
    "In this session, we will design the material for people who are interested in improving flood models with inputs of snow observations by EO satellites, and establishing an end-user application for public uses. However, they should have practical experiences on satellite data applications, and little experience on end-user applications. Finally, this material suits people who are experts on flood modeling.\n",
    "Here are the selected contents for the outcomes to achieve the persona's needs.\n",
    "\n",
    "- [2.1. Enable UX design to outreach science data products](subsections/00002/2.1.ipynb)\n",
    "    - 2.1.1. Understand the principles of UX design\n",
    "    - 2.1.2. Apply UX design principles to scientific data products\n",
    "- [2.2. Enable designing end user applications with modern WebGIS frameworks](subsections/00002/2.2.ipynb)\n",
    "    - 2.1.1. Gain proficiency in modern WebGIS frameworks\n",
    "    - 2.2.2. Develop and deploy an end-user WebGIS application"
   ]
  },
  {
   "cell_type": "code",
   "execution_count": null,
   "id": "c1766baa-8ea0-444d-ad78-42b528e417e4",
   "metadata": {},
   "outputs": [],
   "source": []
  }
 ],
 "metadata": {
  "kernelspec": {
   "display_name": "Python 3 (ipykernel)",
   "language": "python",
   "name": "python3"
  },
  "language_info": {
   "codemirror_mode": {
    "name": "ipython",
    "version": 3
   },
   "file_extension": ".py",
   "mimetype": "text/x-python",
   "name": "python",
   "nbconvert_exporter": "python",
   "pygments_lexer": "ipython3",
   "version": "3.11.6"
  }
 },
 "nbformat": 4,
 "nbformat_minor": 5
}
