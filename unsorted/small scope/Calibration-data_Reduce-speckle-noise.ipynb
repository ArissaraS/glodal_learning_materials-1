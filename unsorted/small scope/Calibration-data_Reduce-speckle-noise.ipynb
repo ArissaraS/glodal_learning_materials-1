{
 "cells": [
  {
   "cell_type": "markdown",
   "id": "1d252785",
   "metadata": {},
   "source": [
    "## Training Materials Outline: ALOS-2 Data Preprocessing\n",
    "**Module 1: Introduction to ALOS-2 Data and Applications**\n",
    "\n",
    "* 1.1 What is ALOS-2?\n",
    "    * Overview of the ALOS-2 satellite and its sensors (PALSAR-2).\n",
    "    * Key features and advantages of ALOS-2 data.\n",
    "* 1.2 Applications of ALOS-2 Data\n",
    "    * Focus on forest monitoring, deforestation detection, and oil palm plantation mapping.\n",
    "    * Examples of real-world applications.\n",
    "* 1.3 Data Access and Formats\n",
    "    * Sources for downloading ALOS-2 data (JAXA, ASF DAAC).\n",
    "    * Explanation of common data formats (GeoTIFF, HDF5)."
   ]
  },
  {
   "cell_type": "markdown",
   "id": "0c11ba25",
   "metadata": {},
   "source": [
    "**Module 2: Basic Python for Earth Observation Data Processing**\n",
    "\n",
    "* 2.1 Introduction to Python Libraries\n",
    "    * `rasterio` for raster data handling.\n",
    "    * `geopandas` for vector data and shapefiles.\n",
    "    * `numpy` for numerical computations.\n",
    "    * `matplotlib` for visualization.\n",
    "* 2.2 Python Fundamentals\n",
    "    * Reading and writing files.\n",
    "    * Defining functions.\n",
    "    * Basic data manipulation with `numpy` arrays."
   ]
  },
  {
   "cell_type": "markdown",
   "id": "2713efd3",
   "metadata": {},
   "source": [
    "**Module 3: ALOS-2 Data Preprocessing**\n",
    "\n",
    "* 3.1 Loading ALOS-2 Data with `rasterio`\n",
    "    * Opening GeoTIFF files.\n",
    "    * Reading image data into `numpy` arrays.\n",
    "    * Accessing metadata (e.g., transform, CRS).\n",
    "* 3.2 Clipping Data to an Area of Interest (AOI)\n",
    "    * Loading shapefiles with `geopandas`.\n",
    "    * Using `rasterio.mask` to clip raster data.\n",
    "    * Updating metadata after clipping.\n",
    "* 3.3 Speckle Filtering with the Lee Filter\n",
    "    * Implementing the Lee filter function in Python.\n",
    "    * Applying the filter to the calibrated image.\n",
    "    * Visualizing the effects of filtering.\n",
    "* 3.4 Radiometric Calibration\n",
    "    * Applying the calibration formula: `(10 * np.log10(image**2)) - 83`.\n",
    "    * Explanation of the calibration process and its importance.\n",
    "* 3.5 Saving Preprocessed Data\n",
    "    * Writing processed data to new GeoTIFF files using `rasterio`.\n",
    "    * Updating metadata to reflect changes (e.g., data type)."
   ]
  },
  {
   "cell_type": "code",
   "execution_count": null,
   "id": "40babd97",
   "metadata": {},
   "outputs": [],
   "source": [
    "import rasterio\n",
    "import numpy as np\n",
    "import geopandas as gpd\n",
    "import matplotlib.pyplot as plt\n",
    "from rasterio.mask import mask\n",
    "from scipy.ndimage import uniform_filter\n",
    "\n",
    "def lee_filter(image, size=5):\n",
    "    mean = uniform_filter(image, (size, size))\n",
    "    mean_sq = uniform_filter(image**2, (size, size))\n",
    "    variance = mean_sq - mean**2\n",
    "    overall_variance = np.var(image)\n",
    "    noise_variance = np.maximum(variance - overall_variance, 0)\n",
    "    weights = noise_variance / (noise_variance + variance)\n",
    "    filtered_image = mean + weights * (image - mean)\n",
    "    return filtered_image\n",
    "\n",
    "# Example usage (replace with your actual file paths)\n",
    "image_path = 'example.tif' # Replace with your image path\n",
    "aoi_path = 'aoi.shp' # Replace with your AOI path\n",
    "\n",
    "with rasterio.open(image_path) as src:\n",
    "    aoi = gpd.read_file(aoi_path)\n",
    "    out_image, out_transform = mask(src, aoi.geometry, crop=True)\n",
    "    out_meta = src.meta.copy()\n",
    "    out_meta.update({\n",
    "        \"driver\": \"GTiff\",\n",
    "        \"height\": out_image.shape[1],\n",
    "        \"width\": out_image.shape[2],\n",
    "        \"transform\": out_transform\n",
    "    })\n",
    "    clipped_image = out_image[0]\n",
    "    filtered_image = lee_filter(clipped_image)\n",
    "    calibrated_image = (10 * np.log10(filtered_image**2)) - 83\n",
    "    \n",
    "\n",
    "    # Example visualization\n",
    "    plt.imshow(filtered_image, cmap='gray')\n",
    "    plt.show()\n",
    "\n",
    "    # Example saving\n",
    "    with rasterio.open('filtered_image.tif', 'w', **out_meta) as dest:\n",
    "        dest.write(filtered_image, indexes=1)"
   ]
  },
  {
   "cell_type": "markdown",
   "id": "1b4c05eb",
   "metadata": {},
   "source": [
    "**Module 4: Advanced Topics (Optional)**\n",
    "\n",
    "* 5.1 Other Speckle Filters (e.g., Frost filter, Refined Lee filter).\n",
    "* 5.2 Geometric Correction.\n",
    "* 5.3 Introduction to SAR Polarimetry and its applications."
   ]
  },
  {
   "cell_type": "markdown",
   "id": "d980d2a8",
   "metadata": {},
   "source": []
  }
 ],
 "metadata": {
  "language_info": {
   "name": "python"
  }
 },
 "nbformat": 4,
 "nbformat_minor": 5
}
