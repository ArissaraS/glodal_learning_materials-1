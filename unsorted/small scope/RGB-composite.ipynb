{
 "cells": [
  {
   "cell_type": "markdown",
   "id": "759712a8",
   "metadata": {},
   "source": [
    "# Training Material: Creating RGB Composites of ALOS-2 Data in Python"
   ]
  },
  {
   "cell_type": "markdown",
   "id": "4d82b9cc",
   "metadata": {},
   "source": [
    "## I. Introduction to ALOS-2 Data and its Applications"
   ]
  },
  {
   "cell_type": "markdown",
   "id": "8b130678",
   "metadata": {},
   "source": [
    "**What is ALOS-2?**\n",
    "* ALOS-2 (Advanced Land Observing Satellite-2) is a Japanese satellite equipped with the PALSAR-2 L-band SAR sensor.\n",
    "* L-band SAR data penetrates cloud cover and vegetation, providing valuable information even in challenging conditions."
   ]
  },
  {
   "cell_type": "markdown",
   "id": "808ff041",
   "metadata": {},
   "source": [
    "**Applications of ALOS-2 Data:**\n",
    "* Forest monitoring (deforestation, degradation)\n",
    "* Change detection (land use, infrastructure)\n",
    "* Oil palm plantation identification"
   ]
  },
  {
   "cell_type": "markdown",
   "id": "0dc08887",
   "metadata": {},
   "source": [
    "## II. Python Basics for Earth Observation"
   ]
  },
  {
   "cell_type": "code",
   "execution_count": null,
   "id": "82fb3ace",
   "metadata": {},
   "outputs": [],
   "source": [
    "# Essential Python Concepts\n",
    "with open('example.txt', 'w') as f:\n",
    "    f.write('Hello, world!')\n",
    "\n",
    "with open('example.txt', 'r') as f:\n",
    "    content = f.read()\n",
    "    print(content)\n",
    "\n",
    "def my_function(x):\n",
    "    return x * 2\n",
    "\n",
    "import numpy as np\n",
    "arr = np.array([1, 2, 3])\n",
    "print(arr * 2)\n",
    "\n",
    "import rasterio\n",
    "import matplotlib.pyplot as plt"
   ]
  },
  {
   "cell_type": "markdown",
   "id": "0b2215f0",
   "metadata": {},
   "source": [
    "## III. Loading and Visualizing ALOS-2 Data"
   ]
  },
  {
   "cell_type": "markdown",
   "id": "b5d069ad",
   "metadata": {},
   "source": [
    "**Understanding ALOS-2 Data Format:**\n",
    "* GeoTIFF is a common format for geospatial raster data.\n",
    "* We'll use `rasterio` to load GeoTIFF files."
   ]
  },
  {
   "cell_type": "code",
   "execution_count": null,
   "id": "14a0a4ab",
   "metadata": {},
   "outputs": [],
   "source": [
    "# Loading and visualizing a sample ALOS-2 image\n",
    "import rasterio\n",
    "import matplotlib.pyplot as plt\n",
    "\n",
    "with rasterio.open('/home/jovyan/shared/PCN/ALOS-2/data/Alos_2_2007_HV.tif') as src:\n",
    "    image = src.read(1)\n",
    "\n",
    "plt.figure(figsize=(8, 8))\n",
    "plt.imshow(image, cmap='gray')\n",
    "plt.title('ALOS-2 Image')\n",
    "plt.colorbar()\n",
    "plt.show()"
   ]
  },
  {
   "cell_type": "markdown",
   "id": "d0be18ab",
   "metadata": {},
   "source": [
    "## IV. Preprocessing ALOS-2 Data"
   ]
  },
  {
   "cell_type": "markdown",
   "id": "b781d4a0",
   "metadata": {},
   "source": [
    "**Speckle Filtering:**\n",
    "* Speckle noise is common in SAR imagery.\n",
    "* We'll apply a Lee filter for speckle reduction."
   ]
  },
  {
   "cell_type": "markdown",
   "id": "c653008c",
   "metadata": {},
   "source": [
    "**Radiometric Calibration:**\n",
    "* Convert digital numbers to sigma-naught (backscatter coefficient)."
   ]
  },
  {
   "cell_type": "markdown",
   "id": "a8e82e3f",
   "metadata": {},
   "source": [
    "## V. Creating RGB Composites"
   ]
  },
  {
   "cell_type": "markdown",
   "id": "5c5653ea",
   "metadata": {},
   "source": [
    "**Choosing Bands:**\n",
    "* Use different acquisitions (temporal composite).\n",
    "* Select appropriate polarizations (HH, HV, VV)."
   ]
  },
  {
   "cell_type": "code",
   "execution_count": null,
   "id": "17a92ca7",
   "metadata": {},
   "outputs": [],
   "source": [
    "# Creating an RGB composite\n",
    "import numpy as np\n",
    "import rasterio\n",
    "import matplotlib.pyplot as plt\n",
    "\n",
    "# Load images (replace with your actual file paths)\n",
    "with rasterio.open('/home/jovyan/shared/Sirinya/alos/ALOS2210180680-180414_cut.tif') as src1:\n",
    "    band1 = src1.read(1)\n",
    "with rasterio.open('/home/jovyan/shared/Sirinya/alos/ALOS2222600680-180707_cut.tif') as src2:\n",
    "    band2 = src2.read(1)\n",
    "\n",
    "# Normalize bands\n",
    "band1_norm = (band1 - band1.min()) / (band1.max() - band1.min())\n",
    "band2_norm = (band2 - band2.min()) / (band2.max() - band2.min())\n",
    "\n",
    "# Create RGB composite\n",
    "rgb = np.dstack([band1_norm, band2_norm, band2_norm])\n",
    "\n",
    "# Display\n",
    "plt.imshow(rgb)\n",
    "plt.show()"
   ]
  }
 ],
 "metadata": {
  "language_info": {
   "name": "python"
  }
 },
 "nbformat": 4,
 "nbformat_minor": 5
}
