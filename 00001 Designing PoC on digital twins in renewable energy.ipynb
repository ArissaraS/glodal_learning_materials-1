{
 "cells": [
  {
   "cell_type": "markdown",
   "id": "3f19bd5a-0c8c-4d28-ab5a-0a00eb393637",
   "metadata": {},
   "source": [
    "# 1.Designing PoC on digital twins in renewable energy\n",
    "\n",
    "In this session, we will design the material for people who are interested in evaluating location for PV to balance supply-demand, near-real-time evaluation of cloud contamination affecting PV generate, and Connecting satellite-based evaluation with geospatial information, such as electricity demand data collected from customers and transmits infrastructure. However, they should have experience on operations of the renewable energy grid, and have a little experience on remote sensing and geospatial data applications."
   ]
  },
  {
   "cell_type": "markdown",
   "id": "d40f119d-05f9-47ff-a5f7-feb63c797502",
   "metadata": {},
   "source": [
    "- [1.1. Enable evaluating PV potentials with satellite / geospatial datasets](subsections/00001.*/1.1.ipynb)\n",
    "  - 1.1.1 Basic of remote sensing for PV potential evaluation\n",
    "  - 1.1.2 Use case of remote sensing for PV potential evaluation\n",
    "  - 1.1.3 Apply remote sensing to evaluating PV potentialities sector\n",
    "- [1.2. Enable designing object detection in satellite images, preferably for electricity infrastructure](subsections/00001.*/1.2.ipynb)\n",
    "  - 1.2.1 Fundamentals of object detection\n",
    "  - 1.2.2 Implement object detection algorithms for electricity infrastructure\n",
    "- [1.3. Enable designing geospatial data analysis among multiple themes and sectors](subsections/00001.*/1.3.ipynb)\n",
    "  - 1.3.1 Principles of geospatial data analysis"
   ]
  }
 ],
 "metadata": {
  "kernelspec": {
   "display_name": "Python 3 (ipykernel)",
   "language": "python",
   "name": "python3"
  },
  "language_info": {
   "codemirror_mode": {
    "name": "ipython",
    "version": 3
   },
   "file_extension": ".py",
   "mimetype": "text/x-python",
   "name": "python",
   "nbconvert_exporter": "python",
   "pygments_lexer": "ipython3",
   "version": "3.11.6"
  },
  "widgets": {
   "application/vnd.jupyter.widget-state+json": {
    "state": {},
    "version_major": 2,
    "version_minor": 0
   }
  }
 },
 "nbformat": 4,
 "nbformat_minor": 5
}
