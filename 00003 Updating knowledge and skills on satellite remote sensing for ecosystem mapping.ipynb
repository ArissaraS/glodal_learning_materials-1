{
 "cells": [
  {
   "cell_type": "markdown",
   "id": "32d3d399-4c76-4934-b565-aaeafb4c70da",
   "metadata": {},
   "source": [
    "# 3.Updating knowledge and skills on satellite remote sensing for ecosystem mapping\n",
    "Here are the selected contents for the outcomes to achieve the persona's needs\n",
    "\n",
    "- [3.1. Up-to-date overviews satellite-derived parameters for assessing forestry ecosystems](subsections/00003/3.1.ecosystem.ipynb)\n",
    "  - 3.1.1. Understand key satellite-derived parameters\n",
    "    - 3.1.1.1 Catching up on the latest methods for assessing biomass estimation\n",
    "    - 3.1.1.2 Catching up on the latest methods for accessing forest cover change\n",
    "  - 3.1.2. Learn about remote sensing for habitat analysis in forestry ecosystems\n",
    "    - 3.1.2.1 Catching up on the latest methods for habitat mapping and monitoring\n",
    "    - 3.1.2.2 Catching up on the latest methods for mapping forest types\n",
    "    - 3.1.2.3 Catching up on the latest methods for monitoring environmetal changes \n"
   ]
  },
  {
   "cell_type": "code",
   "execution_count": null,
   "id": "bad996eb-232c-46c5-931e-6b76a1d12cfa",
   "metadata": {},
   "outputs": [],
   "source": []
  }
 ],
 "metadata": {
  "kernelspec": {
   "display_name": "Python 3 (ipykernel)",
   "language": "python",
   "name": "python3"
  },
  "language_info": {
   "codemirror_mode": {
    "name": "ipython",
    "version": 3
   },
   "file_extension": ".py",
   "mimetype": "text/x-python",
   "name": "python",
   "nbconvert_exporter": "python",
   "pygments_lexer": "ipython3",
   "version": "3.11.6"
  }
 },
 "nbformat": 4,
 "nbformat_minor": 5
}
