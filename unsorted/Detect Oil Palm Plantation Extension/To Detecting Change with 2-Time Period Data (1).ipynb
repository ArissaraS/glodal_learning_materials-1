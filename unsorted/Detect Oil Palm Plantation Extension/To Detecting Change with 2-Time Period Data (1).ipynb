{
 "cells": [
  {
   "cell_type": "markdown",
   "id": "c507cdc2",
   "metadata": {},
   "source": [
    "# Training Materials: Detecting Change with 2-Time Period Data"
   ]
  },
  {
   "cell_type": "markdown",
   "id": "d55a7cd7",
   "metadata": {},
   "source": [
    "## 1. Introduction: Change Detection Basics"
   ]
  },
  {
   "cell_type": "markdown",
   "id": "d1d934e5",
   "metadata": {},
   "source": [
    "* **What is Change Detection?** Change detection is the process of identifying differences in the state of an object or phenomenon by observing it at different times.  Its purposes include monitoring land cover changes, assessing damage from natural disasters, and tracking urban development. Applications range from deforestation monitoring and urban sprawl analysis to disaster assessment and agricultural monitoring."
   ]
  },
  {
   "cell_type": "markdown",
   "id": "66bdb778",
   "metadata": {},
   "source": [
    "* **Types of Change Detection:** Several approaches exist, including image differencing (subtracting pixel values), image ratioing (dividing pixel values), and classification-based methods (comparing land cover classifications)."
   ]
  },
  {
   "cell_type": "markdown",
   "id": "94ca21ee",
   "metadata": {},
   "source": [
    "* **Two-Time Period Analysis:** This training focuses on analyzing change between two specific points in time. Advantages include simplicity and clear visualization of change. Limitations include potential misinterpretation due to seasonal variations or short-term events."
   ]
  },
  {
   "cell_type": "markdown",
   "id": "4d3d82ba",
   "metadata": {},
   "source": [
    "## 2. Change Detection Methods"
   ]
  },
  {
   "cell_type": "markdown",
   "id": "c9b67a20-0b14-4e18-b700-8829e9b26b51",
   "metadata": {},
   "source": [
    "## Change detection analysis based on analysis of 2-time period data of ALOS-2/Palsa-2\n",
    "\n",
    "In this section,By analyzing the HH/HV scattering intensities during the two periods with Change Vector Analysis, the procedure for detecting and analyzing changes will be practiced. In the previous section, we analyzed land cover and land use changes by comparing color tones and patterns in color composite images from year to year.\n",
    "\n",
    "Change vector analysisis a method used to analyze changes in 2D data points and is an effective method for analyzing HH/HV changes in PALSAR-2. In this section, we will deepen our understanding of the procedures and interpretations by analyzing the 2007 and 2010 annual composite data.\n"
   ]
  },
  {
   "cell_type": "markdown",
   "id": "20e3e028-6019-41a2-8ba8-296985616d46",
   "metadata": {},
   "source": [
    "### 2.1. Conversion from DN values to backscatter coefficients\n",
    "\n",
    "In the previous section, the pixel value（DN; digital number）was used for visualization as is, but for rigorous data analysis, it is desirable to convert the pixel values ​​into backscattering coefficients. The conversion is done using the following formula:\n",
    "\n",
    "$$ \\gamma^{0} = 10 log_{10} <DN^2> + CF $$\n",
    "\n",
    "Note that, <> represents averaging for noise reduction and -83.0 dB is used for CF. [Global 25m Resolution PALSAR-2/PALSAR Mosaic (Ver. 2.4.0) Dataset Instructions](https://www.eorc.jaxa.jp/ALOS/jp/dataset/pdf/DatasetDescription_PALSAR2_Mosaic_ver240_ja.pdf). A coding example is shown below."
   ]
  },
  {
   "cell_type": "code",
   "execution_count": null,
   "id": "f2af3dce-0bc1-4941-acc2-c56e2f917c11",
   "metadata": {},
   "outputs": [],
   "source": [
    "import rasterio\n",
    "import numpy as np\n",
    "import matplotlib.pyplot as plt\n",
    "\n",
    "def calibrate_ima(image):\n",
    "    return 10 * np.log10(image ** 2) - 83.0\n",
    "\n",
    "def ima_cal(file_path):\n",
    "    with rasterio.open(file_path) as src:\n",
    "        original = src.read(1).astype('float32')\n",
    "        calibrated = calibrate_ima(original)\n",
    "    return original, calibrated\n",
    "\n",
    "hh_2007_path = \"Alos_2_2007_HH.tif\" \n",
    "hh_2010_path = \"Alos_2_2010_HH.tif\"\n",
    "hv_2007_path = \"Alos_2_2007_HV.tif\"\n",
    "hv_2010_path = \"Alos_2_2010_HV.tif\"\n",
    "\n",
    "hh_2007_raw, hh_2007_cal = ima_cal(hh_2007_path)\n",
    "hh_2010_raw, hh_2010_cal = ima_cal(hh_2010_path)\n",
    "hv_2007_raw, hv_2007_cal = ima_cal(hv_2007_path)\n",
    "hv_2010_raw, hv_2010_cal = ima_cal(hv_2010_path)\n",
    "\n",
    "fig, axs = plt.subplots(4, 2, figsize=(12, 16))\n",
    "\n",
    "axs[0, 0].imshow(hh_2007_raw, cmap='gray')\n",
    "axs[0, 0].set_title('Year 2007 HH (Original)')\n",
    "axs[0, 1].imshow(hh_2007_cal, cmap='gray')\n",
    "axs[0, 1].set_title('Year 2007 HH (Calibrated)')\n",
    "\n",
    "axs[1, 0].imshow(hh_2010_raw, cmap='gray')\n",
    "axs[1, 0].set_title('Year 2010 HH (Original)')\n",
    "axs[1, 1].imshow(hh_2010_cal, cmap='gray')\n",
    "axs[1, 1].set_title('Year 2010 HH (Calibrated)')\n",
    "\n",
    "axs[2, 0].imshow(hv_2007_raw, cmap='gray')\n",
    "axs[2, 0].set_title('Year 2007 HV (Original)')\n",
    "axs[2, 1].imshow(hv_2007_cal, cmap='gray')\n",
    "axs[2, 1].set_title('Year 2007 HV (Calibrated)')\n",
    "\n",
    "axs[3, 0].imshow(hv_2010_raw, cmap='gray')\n",
    "axs[3, 0].set_title('Year 2010 HV (Original)')\n",
    "axs[3, 1].imshow(hv_2010_cal, cmap='gray')\n",
    "axs[3, 1].set_title('Year 2010 HV (Calibrated)')\n",
    "\n",
    "for i in range(4):\n",
    "    fig.colorbar(axs[i, 0].imshow(hh_2007_raw, cmap='gray'), ax=axs[i, 0], orientation='vertical', label='DN')\n",
    "    fig.colorbar(axs[i, 1].imshow(hh_2007_cal, cmap='gray'), ax=axs[i, 1], orientation='vertical', label='Calibrated dB')\n",
    "\n",
    "plt.tight_layout()\n",
    "plt.show()"
   ]
  },
  {
   "cell_type": "markdown",
   "id": "ebb8ab39",
   "metadata": {},
   "source": [
    "### 2.2. Image Differencing/Ratioing\n",
    "\n",
    "These methods highlight change by subtracting or dividing pixel values between the two images. They are simple but sensitive to atmospheric effects."
   ]
  },
  {
   "cell_type": "code",
   "execution_count": null,
   "id": "93cd31d2",
   "metadata": {},
   "outputs": [],
   "source": [
    "# Example: Image Differencing\n",
    "import numpy as np\n",
    "from osgeo import gdal\n",
    "\n",
    "# Open images\n",
    "image1 = gdal.Open(\"image1.tif\")\n",
    "image2 = gdal.Open(\"image2.tif\")\n",
    "\n",
    "# Read bands as arrays\n",
    "band1 = image1.GetRasterBand(1).ReadAsArray()\n",
    "band2 = image2.GetRasterBand(1).ReadAsArray()\n",
    "\n",
    "# Calculate difference\n",
    "difference = band2 - band1\n",
    "\n",
    "# Save difference image (replace with your desired output)\n",
    "driver = gdal.GetDriverByName(\"GTiff\")\n",
    "out_ds = driver.Create(\"difference.tif\", image1.RasterXSize, image1.RasterYSize, 1, gdal.GDT_Float32)\n",
    "out_ds.GetRasterBand(1).WriteArray(difference)\n",
    "out_ds = None"
   ]
  },
  {
   "cell_type": "markdown",
   "id": "8cfd823e",
   "metadata": {},
   "source": [
    "### 2.3. Classification-Based Change Detection\n",
    "\n",
    "This approach involves classifying both images and comparing the results."
   ]
  },
  {
   "cell_type": "markdown",
   "id": "0a44721f",
   "metadata": {},
   "source": [
    "    * **1. Image Classification:** Classify both images using a supervised classification algorithm and a pre-trained model (or train a new model). Use the *same* model for both images."
   ]
  },
  {
   "cell_type": "markdown",
   "id": "abbb6ae1",
   "metadata": {},
   "source": [
    "    * **2. Change Map Generation:** Compare the classifications to create a change map, showing transitions between classes (e.g., forest to non-forest)."
   ]
  },
  {
   "cell_type": "code",
   "execution_count": null,
   "id": "5edf8be8",
   "metadata": {},
   "outputs": [],
   "source": [
    "# Example: Change Map Generation\n",
    "import numpy as np\n",
    "\n",
    "# Assuming 'classification1' and 'classification2' are numpy arrays\n",
    "# containing the classification results for both time periods\n",
    "\n",
    "change_map = np.where(classification1 != classification2, 1, 0)\n",
    "\n",
    "# 'change_map' will have 1 where the classifications differ and 0 where they are the same"
   ]
  },
  {
   "cell_type": "markdown",
   "id": "d0fbe835-0889-4e10-9ae4-f20f5ab95709",
   "metadata": {},
   "source": [
    "### 2.4. HH/HV change analysis\n",
    "\n",
    " Calculate the difference in image data to analyze the change from 2007 to 2010 for each HH/HV."
   ]
  },
  {
   "cell_type": "code",
   "execution_count": null,
   "id": "41853453-8ff9-40cd-9d37-5ff32002866b",
   "metadata": {},
   "outputs": [],
   "source": [
    "delta_bandhv_cal = hv_2010_cal - hv_2007_cal\n",
    "delta_bandhh_cal = hh_2010_cal - hh_2007_cal\n",
    "\n",
    "fig, axs = plt.subplots(1, 2, figsize=(12, 16))\n",
    "\n",
    "axs[0].imshow(delta_bandhv_cal, cmap='gray')\n",
    "axs[0].set_title('HV change (2010 - 2007)')\n",
    "axs[1].imshow(delta_bandhh_cal, cmap='gray')\n",
    "axs[1].set_title('HH change (2010 - 2007)')\n",
    "plt.tight_layout()\n",
    "plt.show()"
   ]
  },
  {
   "cell_type": "markdown",
   "id": "c13f6427-dcf6-48ad-9b0f-828102b5fb19",
   "metadata": {},
   "source": [
    "### 2.5. Change vector analysis (CVA) Data analysis\n",
    "\n",
    "The changes that appear in the difference image calculated in the previous section can be expressed as vectors in the two-dimensional space of HH/HV pairs for each pixel.The figure below shows an example where HV has decreased significantly while HH has decreased slightly. The following code cell calculates the length of the change vector at each pixel, expressed as magnitude, and the direction as angle."
   ]
  },
  {
   "cell_type": "code",
   "execution_count": null,
   "id": "bb042e97-1bcf-4a56-b643-71fa30b323f6",
   "metadata": {},
   "outputs": [],
   "source": [
    "magnitude = np.sqrt(delta_bandhv_cal**2 + delta_bandhh_cal**2)\n",
    "angle = np.arctan2(delta_bandhv_cal, delta_bandhh_cal) #Radians: When using trigonometric functions like arctan or atan2, the default output is often in radians, where 00 to 2𝜋2π radians (approximately 00 to 6.286.28) covers the full circular range of angles."
   ]
  },
  {
   "cell_type": "code",
   "execution_count": null,
   "id": "e968e05c-c5b3-42fd-aaad-f84d8aa3e0d4",
   "metadata": {},
   "outputs": [],
   "source": [
    "import matplotlib.pyplot as plt\n",
    "import matplotlib.colors as mcolors\n",
    "\n",
    "norm_magnitude = mcolors.Normalize(vmin=0, vmax=10)\n",
    "\n",
    "fig, axs = plt.subplots(1, 2, figsize=(18, 6))\n",
    "\n",
    "im1 = axs[0].imshow(magnitude, cmap='hsv', norm=norm_magnitude)\n",
    "axs[0].set_title(\"Magnitude of change\")\n",
    "cbar1 = fig.colorbar(im1, ax=axs[0])\n",
    "cbar1.set_label(\"Intensity\")\n",
    "\n",
    "im2 = axs[1].imshow(angle, cmap='hsv')\n",
    "axs[1].set_title(\"Direction (Angle of change)\")\n",
    "cbar2 = fig.colorbar(im2, ax=axs[1])\n",
    "cbar2.set_label(\"Radians\")\n",
    "\n",
    "plt.tight_layout()\n",
    "plt.show()"
   ]
  },
  {
   "cell_type": "markdown",
   "id": "615acef1",
   "metadata": {},
   "source": [
    "## 3. Post-Classification Processing and Analysis"
   ]
  },
  {
   "cell_type": "markdown",
   "id": "3d2ea802",
   "metadata": {},
   "source": [
    "* **Change Reporting:** Create a report summarizing the detected changes."
   ]
  }
 ],
 "metadata": {
  "kernelspec": {
   "display_name": "Python 3 (ipykernel)",
   "language": "python",
   "name": "python3"
  },
  "language_info": {
   "codemirror_mode": {
    "name": "ipython",
    "version": 3
   },
   "file_extension": ".py",
   "mimetype": "text/x-python",
   "name": "python",
   "nbconvert_exporter": "python",
   "pygments_lexer": "ipython3",
   "version": "3.11.6"
  }
 },
 "nbformat": 4,
 "nbformat_minor": 5
}
