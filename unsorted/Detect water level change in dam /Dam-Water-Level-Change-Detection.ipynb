{
 "cells": [
  {
   "cell_type": "markdown",
   "id": "463dcc39",
   "metadata": {},
   "source": [
    "# Training Materials: Dam Water Level Change Detection with ALOS-2"
   ]
  },
  {
   "cell_type": "markdown",
   "id": "579a386b",
   "metadata": {},
   "source": [
    "**Overall Goal:** To equip participants with the skills to detect changes in dam water levels using ALOS-2 satellite data."
   ]
  },
  {
   "cell_type": "markdown",
   "id": "b80883cd",
   "metadata": {},
   "source": [
    "## Module 1: Introduction to ALOS-2 for Water Monitoring"
   ]
  },
  {
   "cell_type": "markdown",
   "id": "a0cb19fa",
   "metadata": {},
   "source": [
    "* **1.1 Introduction to ALOS-2 (Daichi-2)**\n",
    "    * Overview, mission objectives, sensor capabilities (SAR), advantages of L-band SAR.\n",
    "    * Reference: 8.1.1 a, b\n",
    "* **1.2 ALOS-2 Data Applications**\n",
    "    * Focus on disaster monitoring and hydrology/water resource management.\n",
    "    * Reference: 8.1.1 c\n",
    "* **1.3 Why use ALOS-2 for Dam Monitoring?** (Highlighting the benefits of SAR for water detection)\n",
    "* **1.4 Case Study: Yamba Dam, Japan** (Introduce the case study area and the specific problem)"
   ]
  },
  {
   "cell_type": "markdown",
   "id": "3c9fd4ea",
   "metadata": {},
   "source": [
    "## Module 2: Working with ALOS-2 Data in Python"
   ]
  },
  {
   "cell_type": "markdown",
   "id": "421c9259",
   "metadata": {},
   "source": [
    "* **2.1 Data Downloading**\n",
    "    * Downloading ALOS-2 data from OwnCloud (or other sources).\n",
    "* **2.2 Reading and Visualizing ALOS-2 Data with Rasterio and Matplotlib**\n",
    "    * Loading ALOS-2 data using Rasterio.\n",
    "    * Visualizing ALOS-2 data using Matplotlib (including colormaps).\n",
    "    * Computing and visualizing histograms.\n",
    "* **2.2 Data Preprocessing**\n",
    "    * Speckle filtering: Speckle noise, a granular interference pattern, is inherent in SAR imagery. Speckle filtering reduces this noise, improving image clarity.\n",
    "    * Radiometric calibration (converting digital numbers to backscatter).\n",
    "    * Visualizing calibrated data.\n",
    "    * Computing and visualizing histograms."
   ]
  },
  {
   "cell_type": "code",
   "execution_count": null,
   "id": "84db8b07",
   "metadata": {},
   "outputs": [],
   "source": [
    "%cd /home/jovyan/shared/Arissara/ALOS-2/Yamba/Finalize\n",
    "\n",
    "!wget --content-disposition \"https://owncloud.glodal-inc.net/owncloud/index.php/s/fORunC9aDo38G5s/download\"\n",
    "!unzip \"Yamba.zip\"\n",
    "!pip install rasterio matplotlib\n",
    "\n",
    "import rasterio\n",
    "import matplotlib.pyplot as plt\n",
    "\n",
    "alos_file = '/home/jovyan/shared/Arissara/ALOS-2/Yamba/Finalize/Yamba/IMG-HH-ALOS2310942880-200225-UBSR2.1GUD.tif'\n",
    "\n",
    "with rasterio.open(alos_file) as src:\n",
    "    alos_data = src.read(1) \n",
    "    transform = src.transform\n",
    "    crs = src.crs\n",
    "\n",
    "print(f\"CRS: {crs}\")\n",
    "print(f\"Transform: {transform}\")\n",
    "print(f\"ALOS Data Shape: {alos_data.shape}\")\n",
    "\n",
    "plt.figure(figsize=(10, 10))\n",
    "plt.imshow(alos_data, cmap='gray')\n",
    "plt.title('ALOS Data (Band 1)')\n",
    "plt.colorbar(label='Pixel values')\n",
    "plt.show()\n",
    "\n",
    "plt.figure(figsize=(10, 10))\n",
    "plt.imshow(alos_data, cmap='turbo')\n",
    "plt.title('ALOS Data (Band 1) with Viridis Colormap')\n",
    "plt.colorbar(label='Pixel values')\n",
    "plt.show()\n",
    "\n",
    "import numpy as np\n",
    "\n",
    "hist_values, bin_edges = np.histogram(alos_data, bins=256, range=(np.min(alos_data), np.max(alos_data)))\n",
    "\n",
    "plt.figure(figsize=(8, 6))\n",
    "plt.plot(bin_edges[:-1], hist_values, lw=2)\n",
    "plt.title('Histogram of ALOS Data (Band 1)')\n",
    "plt.xlabel('Pixel values')\n",
    "plt.ylabel('Frequency')\n",
    "plt.grid(True)\n",
    "plt.show()"
   ]
  },
  {
   "cell_type": "markdown",
   "id": "3a115641",
   "metadata": {},
   "source": [
    "## Module 3: Water Classification with Otsu's Method"
   ]
  },
  {
   "cell_type": "markdown",
   "id": "b4f6484a",
   "metadata": {},
   "source": [
    "* **3.1 Principles of SAR Backscatter for Water Detection**\n",
    "    * How SAR interacts with water and non-water surfaces.\n",
    "    * Interpreting backscatter values.\n",
    "    * Limitations of ALOS-2 data for water detection (e.g., shadows, bare land).\n",
    "* **3.2 Introduction to Otsu's Method**\n",
    "    * Theory and concept of Otsu's thresholding for image segmentation.\n",
    "    * Minimizing intraclass variance.\n",
    "* **3.3 Implementing Otsu's Method in Python (Scikit-image)**\n",
    "    * Classifying water using Otsu's method.\n",
    "    * Visualizing the water mask.\n",
    "* **3.4 Noise Removal and Post-processing**\n",
    "    * Applying median filters for noise reduction.\n",
    "* **3.5 Area Calculation**\n",
    "    * Calculating the water area from the classified image.\n",
    "* **3.6 Raster to Vector Conversion (Optional)**\n",
    "    * Converting the raster water mask to a vector polygon."
   ]
  },
  {
   "cell_type": "code",
   "execution_count": null,
   "id": "844d38f0",
   "metadata": {},
   "outputs": [],
   "source": [
    "!pip install rasterio geopandas numpy matplotlib scipy scikit-image"
   ]
  },
  {
   "cell_type": "code",
   "execution_count": null,
   "id": "e5c172f3-86e7-4e12-bc46-1bcb33ad2ecc",
   "metadata": {},
   "outputs": [],
   "source": [
    "import rasterio\n",
    "import numpy as np\n",
    "import geopandas as gpd\n",
    "import matplotlib.pyplot as plt\n",
    "import rasterio.mask\n",
    "from scipy.ndimage import uniform_filter, median_filter\n",
    "from skimage import filters, io, color, img_as_float\n",
    "from skimage.restoration import denoise_tv_chambolle\n",
    "from skimage.morphology import disk\n",
    "from skimage.filters import threshold_otsu\n",
    "from rasterio.features import shapes\n",
    "from shapely.geometry import shape\n",
    "from skimage.util import img_as_float"
   ]
  },
  {
   "cell_type": "code",
   "execution_count": null,
   "id": "e85294dc-a49c-4552-96e1-1779cdff2354",
   "metadata": {},
   "outputs": [],
   "source": [
    "# --- Load image ---\n",
    "ALOS_image_path = '/.../IMG-HH-ALOS2294160720-191103-UBSR2.1GUA.tif' # Replace with the path to your input file\n",
    "with rasterio.open(ALOS_image_path) as src:\n",
    "    original_image = src.read(1)\n",
    "    profile = src.profile"
   ]
  },
  {
   "cell_type": "code",
   "execution_count": null,
   "id": "cf5275f6-a1f7-4d78-843f-b1e234819ab9",
   "metadata": {},
   "outputs": [],
   "source": [
    "# --- Lee filter ---\n",
    "def lee_filter(image, window_size=3):\n",
    "    image = img_as_float(image)\n",
    "    filtered_image = np.zeros_like(image)\n",
    "    half_window = window_size // 2\n",
    "    for i in range(half_window, image.shape[0] - half_window):\n",
    "        for j in range(half_window, image.shape[1] - half_window):\n",
    "            window = image[i-half_window:i+half_window+1, j-half_window:j+half_window+1]\n",
    "            mean = np.mean(window)\n",
    "            variance = np.var(window)\n",
    "            local_variance = np.var(window)\n",
    "            k = local_variance / (local_variance + variance) if local_variance > 0 else 0\n",
    "            filtered_image[i, j] = mean + k * (image[i, j] - mean)\n",
    "    return filtered_image"
   ]
  },
  {
   "cell_type": "code",
   "execution_count": null,
   "id": "df29ff6a-c231-4b81-9766-f737abdcd5f9",
   "metadata": {},
   "outputs": [],
   "source": [
    "# Apply Lee filter\n",
    "filtered_image = lee_filter(original_image, window_size=5)"
   ]
  },
  {
   "cell_type": "code",
   "execution_count": null,
   "id": "dba20f36-4e51-427f-828a-b96f0685ed41",
   "metadata": {},
   "outputs": [],
   "source": [
    "# --- Calibration ---\n",
    "calibrated_image = (10 * np.log10(filtered_image**2)) - 83"
   ]
  },
  {
   "cell_type": "code",
   "execution_count": null,
   "id": "d78eadee-4609-4b5b-99f6-3ec2d81e18eb",
   "metadata": {},
   "outputs": [],
   "source": [
    "# --- Visualization ---\n",
    "def plot_image(image, title, cmap='gray', vmin=None, vmax=None):\n",
    "    plt.imshow(image, cmap=cmap, vmin=vmin, vmax=vmax)\n",
    "    plt.colorbar()\n",
    "    plt.title(title)\n",
    "    plt.axis('off')\n",
    "\n",
    "def plot_histogram(image, title, bins=256):\n",
    "    plt.hist(image.ravel(), bins=bins, color='blue', alpha=0.7)\n",
    "    plt.title(title)\n",
    "    plt.xlabel('Pixel Values')\n",
    "    plt.ylabel('Frequency')\n",
    "\n",
    "# Plot images\n",
    "plt.figure(figsize=(18, 8))\n",
    "plt.subplot(2, 3, 1)\n",
    "plot_image(original_image, 'Original Image')\n",
    "\n",
    "plt.subplot(2, 3, 2)\n",
    "plot_image(filtered_image, 'Filtered Image')\n",
    "\n",
    "plt.subplot(2, 3, 3)\n",
    "plot_image(calibrated_image, 'Calibrated Image')\n",
    "\n",
    "# Plot histograms\n",
    "plt.subplot(2, 3, 4)\n",
    "plot_histogram(original_image, 'Original Image Histogram')\n",
    "\n",
    "plt.subplot(2, 3, 5)\n",
    "plot_histogram(filtered_image, 'Filtered Image Histogram')\n",
    "\n",
    "plt.subplot(2, 3, 6)\n",
    "plot_histogram(calibrated_image, 'Calibrated Image Histogram')\n",
    "\n",
    "plt.tight_layout()\n",
    "plt.show()"
   ]
  },
  {
   "cell_type": "code",
   "execution_count": null,
   "id": "5d98ee6d-3f80-4abb-a09f-60087e1495ab",
   "metadata": {},
   "outputs": [],
   "source": [
    "# --- Otsu's and masking ---\n",
    "threshold = threshold_otsu(filtered_image)\n",
    "water_mask = calibrated_image < threshold"
   ]
  },
  {
   "cell_type": "code",
   "execution_count": null,
   "id": "38280569",
   "metadata": {},
   "outputs": [],
   "source": [
    "# --- Noise removal ---\n",
    "# Define the size of the median filter (footprint size equivalent to disk radius 2)\n",
    "water_mask_filtered = median_filter(water_mask, size=3) # Use size 3 for a 3x3 window\n",
    "\n",
    "# Visualize the calibrated image, water mask, and median-filtered mask\n",
    "fig, (ax1, ax2, ax3) = plt.subplots(1, 3, figsize=(24, 8))\n",
    "\n",
    "# Display filtered ALOS-2 image\n",
    "vmin = np.percentile(calibrated_image, 2)\n",
    "vmax = np.percentile(calibrated_image, 98)\n",
    "ax1.imshow(calibrated_image, cmap='gray', vmin=vmin, vmax=vmax)\n",
    "ax1.set_title('Calibrated ALOS-2 Image')\n",
    "ax1.axis('off')\n",
    "\n",
    "# Display the original water mask\n",
    "ax2.imshow(water_mask, cmap='Blues')\n",
    "ax2.set_title('Original Water Mask from Otsu')\n",
    "ax2.axis('off')\n",
    "\n",
    "# Display the median-filtered water mask\n",
    "ax3.imshow(water_mask_filtered, cmap='Blues')\n",
    "ax3.set_title('Median Filtered Water Mask')\n",
    "ax3.axis('off')\n",
    "\n",
    "\n",
    "plt.show()"
   ]
  },
  {
   "cell_type": "code",
   "execution_count": null,
   "id": "49ebdd9a-68c2-416b-9e10-0f087ea53bdb",
   "metadata": {},
   "outputs": [],
   "source": [
    "# --- Area calculation ---\n",
    "pixel_width_m = abs(profile['transform'][0])\n",
    "pixel_height_m = abs(profile['transform'][4])\n",
    "pixel_area = pixel_width_m * pixel_height_m\n",
    "water_area_ha = np.sum(water_mask_filtered) * pixel_area / 10000\n",
    "print(f'Water Area: {water_area_ha:.2f} hectares')"
   ]
  },
  {
   "cell_type": "code",
   "execution_count": null,
   "id": "8a6da3b0-943b-4ddd-85d5-72d96fca7406",
   "metadata": {},
   "outputs": [],
   "source": [
    "# --- Raster to vector (Optional) ---\n",
    "results = (\n",
    "    {'properties': {'value': v}, 'geometry': shape(s)}\n",
    "    for s, v in shapes(filtered_bands.astype(np.int16), transform=profile['transform'])\n",
    ")\n",
    "geoms = list(results)\n",
    "gdf = gpd.GeoDataFrame.from_features(geoms, crs=profile['crs'].to_string())\n",
    "output_vector = '/home/jovyan/shared/Arissara/ALOS-2/Yamba/Finalize/Output-8.2/rm-noise_water_mask_Yamba.gpkg'\n",
    "gdf.to_file(output_vector, driver=\"GPKG\")\n",
    "\n",
    "# --- Visualization (optional) ---\n",
    "plt.figure(figsize=(10, 5))\n",
    "plt.subplot(1, 2, 1)\n",
    "plt.imshow(calibrated_image, cmap='gray')\n",
    "plt.title('Calibrated Image')\n",
    "plt.subplot(1, 2, 2)\n",
    "plt.imshow(filtered_bands, cmap='Blues')\n",
    "plt.title('Water Mask')\n",
    "plt.show()"
   ]
  },
  {
   "cell_type": "markdown",
   "id": "fd865bcc",
   "metadata": {},
   "source": [
    "## Module 4: Change Detection with Time-Series ALOS-2 Data"
   ]
  },
  {
   "cell_type": "markdown",
   "id": "36cda110",
   "metadata": {},
   "source": [
    "* **4.1 Introduction to Time-Series Analysis**\n",
    "    * Basic concepts of time-series data.\n",
    "* **4.2 Preparing Time-Series Data**\n",
    "    * Clipping images (Optional), Lee filtering, and calibration data.\n",
    "    * Layer stacking.\n",
    "* **4.3 Visualizing Change with QGIS Temporal/Spectral Profile Tool**\n",
    "    * Visualizing changes in water extent over time.\n",
    "* **4.4 Interpreting Time-Series Results**\n",
    "    * Analyzing trends and patterns in water level fluctuations.\n",
    "    * Relating changes to external factors (e.g., rainfall, dam operations).\n",
    "* **4.5 (Optional) Accuracy Assessment and Confusion Matrix**\n",
    "    * Understanding accuracy assessment in remote sensing.\n",
    "    * Creating and interpreting confusion matrices."
   ]
  },
  {
   "cell_type": "code",
   "execution_count": null,
   "id": "fcb3e0ba",
   "metadata": {},
   "outputs": [],
   "source": [
    "!pip install numpy matplotlib opencv-python scikit-image rasterio"
   ]
  },
  {
   "cell_type": "code",
   "execution_count": null,
   "id": "07368514-43d5-426b-aeb6-8eb28e6299b3",
   "metadata": {},
   "outputs": [],
   "source": [
    "import numpy as np\n",
    "import matplotlib.pyplot as plt\n",
    "import rasterio\n",
    "import os\n",
    "from skimage import img_as_float"
   ]
  },
  {
   "cell_type": "code",
   "execution_count": null,
   "id": "8b8fa327-cf58-4228-a6d8-81fb1c2ba535",
   "metadata": {},
   "outputs": [],
   "source": [
    "# Define folder paths\n",
    "folder_path = \"/home/jovyan/shared/Arissara/ALOS-2/Yamba/Finalize/Yamba\"\n",
    "output_folder = \"/home/jovyan/shared/Arissara/ALOS-2/Yamba/Finalize/Output-8.3\"\n",
    "os.makedirs(output_folder, exist_ok=True)\n",
    "\n",
    "# Gather image file paths\n",
    "image_files = [os.path.join(folder_path, f) for f in os.listdir(folder_path) if f.endswith('.tif')]"
   ]
  },
  {
   "cell_type": "code",
   "execution_count": null,
   "id": "ebb4003b-4e84-4fb6-aa90-433c1f202e8b",
   "metadata": {},
   "outputs": [],
   "source": [
    "filtered_images = []\n",
    "calibrated_images = []"
   ]
  },
  {
   "cell_type": "code",
   "execution_count": null,
   "id": "8c0d04e7-4dc3-4af6-a20b-57f5e271aace",
   "metadata": {},
   "outputs": [],
   "source": [
    "# Define Lee filter functions and calibration\n",
    "\n",
    "def lee_filter(image, window_size=3):\n",
    "    image = img_as_float(image)\n",
    "    filtered_image = np.zeros_like(image)\n",
    "    half_window = window_size // 2\n",
    "    for i in range(half_window, image.shape[0] - half_window):\n",
    "        for j in range(half_window, image.shape[1] - half_window):\n",
    "            window = image[i-half_window:i+half_window+1, j-half_window:j+half_window+1]\n",
    "            mean = np.mean(window)\n",
    "            variance = np.var(window)\n",
    "            local_variance = np.var(window)\n",
    "            k = local_variance / (local_variance + variance) if local_variance > 0 else 0\n",
    "            filtered_image[i, j] = mean + k * (image[i, j] - mean)\n",
    "    return filtered_image\n",
    "\n",
    "def calibrate_image(image):\n",
    "    return (10 * np.log10(image**2)) - 83"
   ]
  },
  {
   "cell_type": "code",
   "execution_count": null,
   "id": "b0cbb393-895f-4b2b-9183-b3861a02eda4",
   "metadata": {},
   "outputs": [],
   "source": [
    "# Process each image\n",
    "for file in image_files:\n",
    "    with rasterio.open(file) as src:\n",
    "        img = src.read(1)\n",
    "        profile = src.profile  # Retrieve profile for saving later\n",
    "\n",
    "    # Apply Lee filter \n",
    "    filtered_img = lee_filter(img, window_size=5)\n",
    "    filtered_images.append(filtered_img)\n",
    "\n",
    "    # Apply calibration \n",
    "    calibrated_img = calibrate_image(filtered_img)\n",
    "    calibrated_images.append(calibrated_img)"
   ]
  },
  {
   "cell_type": "code",
   "execution_count": null,
   "id": "da8ec7af-0827-4d64-9402-bd46438bce7d",
   "metadata": {},
   "outputs": [],
   "source": [
    "# Save filtered and calibrated images\n",
    "for i, filtered_img in enumerate(filtered_images):\n",
    "    filtered_img_file = os.path.join(output_folder, f\"filtered_image_{i+1}.tif\")\n",
    "    profile.update(dtype=rasterio.float32)\n",
    "    with rasterio.open(filtered_img_file, 'w', **profile) as dst:\n",
    "        dst.write(filtered_img.astype(np.float32), 1)\n",
    "\n",
    "for i, calibrated_img in enumerate(calibrated_images):\n",
    "    calibrated_img_file = os.path.join(output_folder, f\"calibrated_image_{i+1}.tif\")\n",
    "    profile.update(dtype=rasterio.float32)\n",
    "    with rasterio.open(calibrated_img_file, 'w', **profile) as dst:\n",
    "        dst.write(calibrated_img.astype(np.float32), 1)\n",
    "\n",
    "print(\"Processing complete. Images saved to:\", output_folder)"
   ]
  },
  {
   "cell_type": "code",
   "execution_count": null,
   "id": "1056b636-7dec-42cb-bfbd-fe1ffb3317df",
   "metadata": {},
   "outputs": [],
   "source": [
    "import matplotlib.pyplot as plt\n",
    "import rasterio\n",
    "import numpy as np\n",
    "import os\n",
    "\n",
    "# Assuming `calibrated_images` is a list of calibrated 2D arrays\n",
    "# Stack the images\n",
    "stacked_image = np.stack(calibrated_images, axis=0)\n",
    "\n",
    "# Update profile to match stacked image\n",
    "profile.update(count=stacked_image.shape[0], crs='EPSG:8692')  # Adjust CRS as needed\n",
    "\n",
    "# Define the output file path for the stacked image\n",
    "stacked_img_file = os.path.join(output_folder, \"stacked_image.tif\")\n",
    "\n",
    "# Save the stacked image\n",
    "with rasterio.open(stacked_img_file, 'w', **profile) as dst:\n",
    "    dst.write(stacked_image.astype(np.float32))\n",
    "\n",
    "print(f\"Stacked image saved to: {stacked_img_file}\")\n",
    "\n",
    "# Visualize each band in the stacked image\n",
    "with rasterio.open(stacked_img_file) as src:\n",
    "    for band in range(1, src.count + 1):  # `src.count` gives the total number of bands\n",
    "        img = src.read(band)  # Read the band\n",
    "        plt.figure(figsize=(8, 8))\n",
    "        plt.imshow(img, cmap='gray')\n",
    "        plt.title(f'Band {band}')\n",
    "        plt.colorbar()\n",
    "        plt.axis('off')\n",
    "        plt.show()"
   ]
  },
  {
   "cell_type": "code",
   "execution_count": null,
   "id": "964c338d",
   "metadata": {},
   "outputs": [],
   "source": [
    "# Stack image\n",
    "stacked_image = np.stack(calibrated_images, axis=0)\n",
    "profile.update(count=7, crs='EPSG:8692')  # Or appropriate EPSG\n",
    "stacked_img_file = os.path.join(output_folder, \"stacked_image.tif\")\n",
    "with rasterio.open(stacked_img_file, 'w', **profile) as dst:\n",
    "    dst.write(stacked_image.astype(np.float32))\n",
    "\n",
    "with rasterio.open(stacked_img_file) as src:\n",
    "    for band in range(1, src.count + 1):\n",
    "        img = src.read(band)\n",
    "        plt.figure(figsize=(8, 8))\n",
    "        plt.imshow(img, cmap='gray')\n",
    "        plt.title(f'Band {band}')\n",
    "        plt.colorbar()\n",
    "        plt.show()"
   ]
  }
 ],
 "metadata": {
  "kernelspec": {
   "display_name": "Python 3 (ipykernel)",
   "language": "python",
   "name": "python3"
  },
  "language_info": {
   "codemirror_mode": {
    "name": "ipython",
    "version": 3
   },
   "file_extension": ".py",
   "mimetype": "text/x-python",
   "name": "python",
   "nbconvert_exporter": "python",
   "pygments_lexer": "ipython3",
   "version": "3.11.6"
  }
 },
 "nbformat": 4,
 "nbformat_minor": 5
}
