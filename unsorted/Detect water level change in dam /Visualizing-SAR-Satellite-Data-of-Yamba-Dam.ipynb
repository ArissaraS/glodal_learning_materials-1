{
 "cells": [
  {
   "cell_type": "markdown",
   "id": "b4947d39",
   "metadata": {},
   "source": [
    "# Training Materials: Visualizing SAR Satellite Data of Yamba Dam"
   ]
  },
  {
   "cell_type": "markdown",
   "id": "26c0ab65",
   "metadata": {},
   "source": [
    "## Module 1: Working with ALOS-2 Data in Python"
   ]
  },
  {
   "cell_type": "markdown",
   "id": "2af31f42",
   "metadata": {},
   "source": [
    "### 1.1 Required Libraries"
   ]
  },
  {
   "cell_type": "markdown",
   "id": "a88db52c",
   "metadata": {},
   "source": [
    "* Installation of necessary libraries (rasterio, matplotlib, numpy, geopandas, scikit-image, scipy)"
   ]
  },
  {
   "cell_type": "code",
   "execution_count": null,
   "id": "9f170663",
   "metadata": {},
   "outputs": [],
   "source": [
    "!pip install rasterio matplotlib numpy geopandas scikit-image scipy"
   ]
  },
  {
   "cell_type": "markdown",
   "id": "7e359089",
   "metadata": {},
   "source": [
    "### 1.2 Reading and Visualizing ALOS-2 Data"
   ]
  },
  {
   "cell_type": "markdown",
   "id": "ccf23537",
   "metadata": {},
   "source": [
    "* Understanding GeoTIFF format \n",
    "* Loading ALOS-2 data using rasterio\n",
    "* Basic visualization with matplotlib\n",
    "* Applying colormaps for enhanced visualization\n",
    "* Generating histograms of pixel values"
   ]
  },
  {
   "cell_type": "code",
   "execution_count": null,
   "id": "7165befa",
   "metadata": {},
   "outputs": [],
   "source": [
    "import rasterio\n",
    "import matplotlib.pyplot as plt\n",
    "import numpy as np\n",
    "\n",
    "# Replace with your actual file path\n",
    "alos_file = 'IMG-HH-ALOS2310942880-200225-UBSR2.1GUD.tif'\n",
    "\n",
    "with rasterio.open(alos_file) as src:\n",
    "    alos_data = src.read(1)"
   ]
  },
  {
   "cell_type": "code",
   "execution_count": null,
   "id": "6d43c909-352c-44c2-8cc3-bf998bf5c108",
   "metadata": {},
   "outputs": [],
   "source": [
    "# Visualization\n",
    "plt.figure(figsize=(10, 10))\n",
    "plt.imshow(alos_data, cmap='gray')\n",
    "plt.title('ALOS Data (Band 1)')\n",
    "plt.colorbar(label='Pixel values')\n",
    "plt.show()"
   ]
  },
  {
   "cell_type": "code",
   "execution_count": null,
   "id": "d4e6ae8f-318b-44bf-aab0-dc6aa03eb93e",
   "metadata": {},
   "outputs": [],
   "source": [
    "# Apply colormaps for enhanced visualization\n",
    "plt.figure(figsize=(10, 10))\n",
    "plt.imshow(alos_data, cmap='viridis')\n",
    "plt.title('ALOS Data (Band 1) with Viridis Colormap')\n",
    "plt.colorbar(label='Pixel values')\n",
    "plt.show()"
   ]
  },
  {
   "cell_type": "code",
   "execution_count": null,
   "id": "77ef942d-0105-45ec-a462-dd448920faf1",
   "metadata": {},
   "outputs": [],
   "source": [
    "# Plot histogram\n",
    "hist_values, bin_edges = np.histogram(alos_data, bins=256)\n",
    "plt.figure(figsize=(8, 6))\n",
    "plt.plot(bin_edges[:-1], hist_values, lw=2)\n",
    "plt.title('Histogram of ALOS Data (Band 1)')\n",
    "plt.xlabel('Pixel values')\n",
    "plt.ylabel('Frequency')\n",
    "plt.grid(True)\n",
    "plt.show()"
   ]
  }
 ],
 "metadata": {
  "kernelspec": {
   "display_name": "Python 3 (ipykernel)",
   "language": "python",
   "name": "python3"
  },
  "language_info": {
   "codemirror_mode": {
    "name": "ipython",
    "version": 3
   },
   "file_extension": ".py",
   "mimetype": "text/x-python",
   "name": "python",
   "nbconvert_exporter": "python",
   "pygments_lexer": "ipython3",
   "version": "3.11.6"
  }
 },
 "nbformat": 4,
 "nbformat_minor": 5
}
