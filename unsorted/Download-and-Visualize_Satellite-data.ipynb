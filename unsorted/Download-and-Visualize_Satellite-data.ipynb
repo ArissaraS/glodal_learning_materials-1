{
 "cells": [
  {
   "cell_type": "markdown",
   "id": "0b5de724",
   "metadata": {},
   "source": [
    "## Training Materials Outline: Downloading and Visualizing Satellite Data\n",
    "\n",
    "This outline covers downloading and visualizing Sentinel-1 and Sentinel-2 data using the Descartes Labs platform and the Copernicus Data Space Ecosystem (CDSE) catalogue."
   ]
  },
  {
   "cell_type": "markdown",
   "id": "c658589a",
   "metadata": {},
   "source": [
    "**I. Introduction**\n",
    "\n",
    "* Overview of satellite data and its applications.\n",
    "* Introduction to Descartes Labs and CDSE platforms.\n",
    "* Explanation of the core workflow for downloading and visualizing satellite imagery."
   ]
  },
  {
   "cell_type": "markdown",
   "id": "af477556",
   "metadata": {},
   "source": [
    "**II. Descartes Labs Platform: Downloading and Visualizing Sentinel Data**"
   ]
  },
  {
   "cell_type": "markdown",
   "id": "35f67d51",
   "metadata": {},
   "source": [
    "* **A. Setting up the Environment**\n",
    "    * Installing necessary libraries: `descarteslabs`, `shapely`, `cartopy`, `geojson`, `fiona`, `gdal`, `h5py`, `matplotlib`, `numpy`, etc.\n",
    "    * Setting API key for Descartes Labs."
   ]
  },
  {
   "cell_type": "code",
   "execution_count": null,
   "id": "335c7026",
   "metadata": {},
   "outputs": [],
   "source": [
    "import warnings\n",
    "warnings.filterwarnings('ignore')\n",
    "#\n",
    "import os\n",
    "import sys\n",
    "import json\n",
    "import itertools\n",
    "import pickle\n",
    "from pprint import pprint\n",
    "#\n",
    "import numpy as np\n",
    "import shapely\n",
    "import cartopy\n",
    "import geojson\n",
    "import fiona\n",
    "import gdal\n",
    "import h5py\n",
    "import matplotlib.pyplot as plt\n",
    "import ogr\n",
    "import math\n",
    "from scipy import stats\n",
    "import collections\n",
    "\n",
    "import descarteslabs as dl\n",
    "\n",
    "ULU_REPO = os.environ[\"ULU_REPO\"]\n",
    "sys.path.append(ULU_REPO+'/utils')\n",
    "sys.path.append(ULU_REPO)\n",
    "print(sys.path)\n",
    "\n",
    "import util_vectors\n",
    "import util_descartes\n",
    "import util_imagery"
   ]
  },
  {
   "cell_type": "markdown",
   "id": "a82d3a40",
   "metadata": {},
   "source": [
    "* **B. Defining the Study Area**\n",
    "    * Specifying the location of interest (e.g., 'sitapur').\n",
    "    * Loading the study area shapefile.\n",
    "    * Visualizing the study area using `cartopy` and `matplotlib`.\n",
    "    * Defining data storage paths."
   ]
  },
  {
   "cell_type": "code",
   "execution_count": null,
   "id": "03fd8114",
   "metadata": {},
   "outputs": [],
   "source": [
    "place = 'sitapur'\n",
    "\n",
    "data_root='/data/phase_iv/'\n",
    "data_path=data_root+place+'/'\n",
    "\n",
    "tile_resolution = 5\n",
    "tile_size = 256\n",
    "tile_pad = 32\n",
    "\n",
    "processing_level = None\n",
    "source = 's2'\n",
    "\n",
    "bands=['blue','green','red','nir','swir1','swir2','alpha']; suffix='BGRNS1S2A'  # S2, Lx\n",
    "resolution=tile_resolution  # Lx:15 S2:10"
   ]
  },
  {
   "cell_type": "code",
   "execution_count": null,
   "id": "832357d2",
   "metadata": {},
   "outputs": [],
   "source": [
    "print(place, place.title()) # capitalized version of place name\n",
    "place_title = place.title()\n",
    "place_shapefile = data_path+place_title+\"_studyAreaEPSG4326.shp\"\n",
    "\n",
    "util_vectors.info_studyareas(data_path, place)\n",
    "\n",
    "shape = util_vectors.load_shape(place_shapefile)\n",
    "polygon = shape['geometry']['coordinates']\n",
    "place_bbox = shape['bbox']\n",
    "\n",
    "lonlat_crs = cartopy.crs.PlateCarree()\n",
    "clat, clon = (place_bbox[0]+place_bbox[2])/2.0, (place_bbox[1]+place_bbox[3])/2.0\n",
    "print(\"center co-ordinates\", clat, clon)\n",
    "albers = cartopy.crs.AlbersEqualArea(central_latitude=clat, central_longitude=clon)\n",
    "\n",
    "fig = plt.figure(figsize=(6,6))\n",
    "ax = plt.subplot(projection=albers) # Specify projection of the map here\n",
    "shp = shapely.geometry.shape(shape['geometry'])\n",
    "ax.add_geometries([shp], lonlat_crs)\n",
    "ax.set_extent((place_bbox[0], place_bbox[2], place_bbox[1], place_bbox[3]), crs=lonlat_crs)\n",
    "ax.gridlines(crs=lonlat_crs)\n",
    "plt.show()"
   ]
  },
  {
   "cell_type": "markdown",
   "id": "ad1ff815",
   "metadata": {},
   "source": [
    "* **C. Generating Tiles**\n",
    "    * Utilizing `dl.raster.dltiles_from_shape` to divide the study area into tiles.\n",
    "    * Visualizing the tiles overlaid on the study area."
   ]
  },
  {
   "cell_type": "code",
   "execution_count": null,
   "id": "f58ea768",
   "metadata": {},
   "outputs": [],
   "source": [
    "tiles = dl.raster.dltiles_from_shape(tile_resolution, tile_size, tile_pad, shape)\n",
    "single_tile_id = 22\n",
    "highlights = {single_tile_id:'green'}\n",
    "util_vectors.draw_tiled_area(shape, tiles, albers, lonlat_crs, highlights=highlights)"
   ]
  },
  {
   "cell_type": "markdown",
   "id": "f2fc41a7",
   "metadata": {},
   "source": [
    "* **D. Searching for Imagery**\n",
    "    * Specifying the satellite product (e.g., 'sentinel-2:L1C').\n",
    "    * Defining the time range for the search.\n",
    "    * Setting cloud cover limits.\n",
    "    * Using `dl.metadata.search` to query for available imagery.\n",
    "    * Inspecting metadata of returned images."
   ]
  },
  {
   "cell_type": "code",
   "execution_count": null,
   "id": "7f616f3e",
   "metadata": {},
   "outputs": [],
   "source": [
    "product = u'sentinel-2:L1C'\n",
    "satellite='S2A'\n",
    "\n",
    "feature_collection = dl.metadata.search(product=[product], start_time='2019-01-01', end_time='2019-11-01', \n",
    "                                        cloud_fraction_0=0.5, limit=75, geom=shape['geometry'])\n",
    "s2_ids = [f['id'] for f in feature_collection['features']]\n",
    "s2_ids.sort()\n",
    "print (len(s2_ids), s2_ids)"
   ]
  },
  {
   "cell_type": "markdown",
   "id": "283dbb30",
   "metadata": {},
   "source": [
    "* **E. Previewing Imagery**\n",
    "    * Displaying image extents on a map using `dl.metadata.get` and `shapely`.\n",
    "    * Visualizing RGB and other band combinations using `util_descartes.show_scene`."
   ]
  },
  {
   "cell_type": "code",
   "execution_count": null,
   "id": "2ed961de",
   "metadata": {},
   "outputs": [],
   "source": [
    "s2_imgs = s2_ids[55:56]\n",
    "\n",
    "fig = plt.figure(figsize=(8, 8))\n",
    "ax = plt.subplot(projection=albers) # Specify projection of the map here\n",
    "\n",
    "shapes = []\n",
    "for s2_img in s2_imgs:\n",
    "    metadata = dl.metadata.get(s2_img)\n",
    "    shapes.append(shapely.geometry.shape(metadata['geometry']))\n",
    "\n",
    "ax.add_geometries(shapes, lonlat_crs, alpha=0.3, color='orange')\n",
    "ax.add_geometries([shapely.geometry.shape(shape['geometry'])],\n",
    "                   lonlat_crs, alpha=0.5, color='blue')\n",
    "\n",
    "union = shapely.geometry.MultiPolygon(polygons=shapes)\n",
    "bbox = union.bounds\n",
    "ax.set_extent((bbox[0], bbox[2], bbox[1], bbox[3]),crs=lonlat_crs)\n",
    "ax.gridlines(crs=lonlat_crs)\n",
    "\n",
    "plt.show()"
   ]
  },
  {
   "cell_type": "code",
   "execution_count": null,
   "id": "efb7edea",
   "metadata": {},
   "outputs": [],
   "source": [
    "util_descartes.show_scene(s2_imgs[:],bands=['red','green','blue','alpha'],scales=[[0,3000],[0,3000],[0,3000],], geom=shape['geometry'], resolution=80)"
   ]
  },
  {
   "cell_type": "markdown",
   "id": "b6e42e3e",
   "metadata": {},
   "source": [
    "* **F. Downloading Imagery**\n",
    "    * Using specific image IDs or search results.\n",
    "    * Using `util_imagery.download_imagery` to download tiled imagery.\n",
    "    * Specifying bands to download."
   ]
  },
  {
   "cell_type": "code",
   "execution_count": null,
   "id": "7461d0f5",
   "metadata": {},
   "outputs": [],
   "source": [
    "s2_dict = {}\n",
    "s2_dict['ZZ'] = [u'sentinel-2:L1C:2019-06-18_44RMR_83_S2B_v1']\n",
    "\n",
    "util_imagery.download_imagery(data_root, place, 's2', bands, shape, tiles, s2_dict, processing_level=processing_level)"
   ]
  },
  {
   "cell_type": "markdown",
   "id": "ba62ca07",
   "metadata": {},
   "source": [
    "* **G. Post-processing (Optional)**\n",
    "    * Reprojecting downloaded tiles to UTM using `gdalwarp`.\n",
    "    * Merging tiles into a mosaic using `gdal_merge.py`."
   ]
  },
  {
   "cell_type": "code",
   "execution_count": null,
   "id": "0d18b480",
   "metadata": {},
   "outputs": [],
   "source": [
    "image_suffix = 'ZZ'\n",
    "\n",
    "pad   = int(tiles['features'][0]['properties']['pad'])\n",
    "if resolution==10: \n",
    "    zfill=3\n",
    "elif resolution==5:\n",
    "    zfill=4\n",
    "elif resolution==2:\n",
    "    zfill=5    \n",
    "else:\n",
    "    raise Exception('bad resolution: '+str(resolution))\n",
    "for tile_id in range(len(tiles['features'])):\n",
    "    \n",
    "    path = data_root+place+'/imagery/'+str(processing_level).lower()+'/'\\\n",
    "        place+'_'+source+'_'+image_suffix+'_'+str(resolution)+'m'+'_'+'p'+str(pad)+'_'+'tile'+str(tile_id).zfill(zfill)+'.tif' \n",
    "    os.environ['ZRESULTTILE'] = path\n",
    "    gdal_info_output = !gdalinfo -proj4 $ZRESULTTILE\n",
    "    for line in gdal_info_output:\n",
    "        if \"PROJCS\" in line:\n",
    "            print(line)"
   ]
  },
  {
   "cell_type": "code",
   "execution_count": null,
   "id": "82a67a66",
   "metadata": {},
   "outputs": [],
   "source": [
    "index_start = 0\n",
    "index_stop  = 6"
   ]
  },
  {
   "cell_type": "code",
   "execution_count": null,
   "id": "1df6f273",
   "metadata": {},
   "outputs": [],
   "source": [
    "for t in range(index_start, index_stop):\n",
    "    os.environ['ZTILESOURCE'] = data_root+place+'/imagery/'+str(processing_level).lower()+'/'\\\n",
    "        place+'_'+source+'_'+image_suffix+'_'+str(resolution)+'m'+'_'+'p'+str(pad)+'_'+'tile'+str(tile_id).zfill(zfill)+'.tif'\n",
    "    os.environ['ZTILERESULT'] = data_root+place+'/imagery/'+str(processing_level).lower()+'/'\\\n",
    "        place+'_'+source+'_'+image_suffix+'_'+str(resolution)+'m'+'_'+'p'+str(pad)+'_'+'tile'+str(tile_id).zfill(zfill)+'_warp.tif'\n",
    "    !gdalwarp -t_srs '+proj=utm +zone=44 +datum=WGS84 +units=m +no_defs ' $ZTILESOURCE $ZTILERESULT"
   ]
  },
  {
   "cell_type": "code",
   "execution_count": null,
   "id": "a2d4ea15",
   "metadata": {},
   "outputs": [],
   "source": [
    "for t in range(index_start, index_stop):\n",
    "    os.environ['ZTILESOURCE'] = data_root+place+'/imagery/'+str(processing_level).lower()+'/'\\\n",
    "        place+'_'+source+'_'+image_suffix+'_'+str(resolution)+'m'+'_'+'p'+str(pad)+'_'+'tile'+str(tile_id).zfill(zfill)+'_warp.tif'\n",
    "    os.environ['ZTILERESULT'] = data_root+place+'/imagery/'+str(processing_level).lower()+'/'\\\n",
    "        place+'_'+source+'_'+image_suffix+'_'+str(resolution)+'m'+'_'+'p'+str(pad)+'_'+'tile'+str(tile_id).zfill(zfill)+'.tif'\n",
    "    !mv $ZTILESOURCE $ZTILERESULT"
   ]
  },
  {
   "cell_type": "code",
   "execution_count": null,
   "id": "3b89d749",
   "metadata": {},
   "outputs": [],
   "source": [
    "qmarks = '?????'[0:zfill]\n",
    "path_template = data_root+place+'/imagery/'+str(processing_level).lower()+'/'\\\n",
    "    place+'_'+source+'_'+image_suffix+'_'+str(resolution)+'m'+'_'+'p'+str(pad)+'_'+'tile'+qmarks+'.tif'\n",
    "path_destination = data_root+place+'/imagery/'+str(processing_level).lower()+'/'\\\n",
    "    place+'_'+source+'_'+image_suffix+'_'+str(resolution)+'m'+'_'+'p'+str(pad)+'_'+'complete'+'.tif'\n",
    "!gdal_merge.py -n 255 -a_nodata 255 -o {path_destination} {path_template}"
   ]
  },
  {
   "cell_type": "markdown",
   "id": "723e275c",
   "metadata": {},
   "source": [
    "**III. Copernicus Data Space Ecosystem (CDSE) Catalogue: Downloading Sentinel Data**"
   ]
  },
  {
   "cell_type": "markdown",
   "id": "4fd0c0d0",
   "metadata": {},
   "source": [
    "* **A. Setting up the Environment**\n",
    "    * Installing necessary libraries: `requests`, `json`, `xml.etree.ElementTree`, `os`, `re`, `sys`, `random`, `pandas`, `numpy`, `rasterio`, `matplotlib`, `pathlib`.\n",
    "    * Setting CDSE username and password as environment variables."
   ]
  },
  {
   "cell_type": "code",
   "execution_count": null,
   "id": "8ecbe864",
   "metadata": {},
   "outputs": [],
   "source": [
    "import requests\n",
    "import json\n",
    "import xml.etree.ElementTree as ET\n",
    "import os\n",
    "import re\n",
    "import sys\n",
    "import random\n",
    "import pandas as pd\n",
    "import numpy as np\n",
    "import rasterio\n",
    "import matplotlib.pyplot as plt\n",
    "import matplotlib.image\n",
    "from rasterio.windows import Window\n",
    "from pathlib import Path"
   ]
  },
  {
   "cell_type": "markdown",
   "id": "dfad89b6",
   "metadata": {},
   "source": [
    "* **B. Querying the Catalogue**\n",
    "    * Constructing the OData query URL with search parameters (collection, product type, cloud cover, area of interest, time range).\n",
    "    * Sending the query using `requests.get` and parsing the JSON response.\n",
    "    * Refining search results based on cloud cover."
   ]
  },
  {
   "cell_type": "code",
   "execution_count": null,
   "id": "29af6096",
   "metadata": {},
   "outputs": [],
   "source": [
    "catalogue_odata_url = \"https://catalogue.dataspace.copernicus.eu/odata/v1\"\n",
    "collection_name = \"SENTINEL-2\"\n",
    "product_type = \"S2MSI1C\"\n",
    "max_cloud_cover = 1\n",
    "aoi = \"POLYGON((20.888443 52.169721,21.124649 52.169721,21.124649 52.271099,20.888443 52.271099,20.888443 52.169721))\"\n",
    "search_period_start = \"2023-06-01T00:00:00.000Z\"\n",
    "search_period_end = \"2023-06-10T00:00:00.000Z\""
   ]
  },
  {
   "cell_type": "code",
   "execution_count": null,
   "id": "f9b870a8",
   "metadata": {},
   "outputs": [],
   "source": [
    "search_query = f\"{catalogue_odata_url}/Products?$filter=Collection/Name eq '{collection_name}' and Attributes/OData.CSC.StringAttribute/any(att:att/Name eq 'productType' and att/OData.CSC.StringAttribute/Value eq '{product_type}') and OData.CSC.Intersects(area=geography'SRID=4326;{aoi}') and ContentDate/Start gt {search_period_start} and ContentDate/Start lt {search_period_end}\"\n",
    "print(f\"\"\"\\n{search_query.replace(' ', \"%20\")}\\n\"\"\")"
   ]
  },
  {
   "cell_type": "code",
   "execution_count": null,
   "id": "9b3c0200",
   "metadata": {},
   "outputs": [],
   "source": [
    "response = requests.get(search_query).json()\n",
    "result = pd.DataFrame.from_dict(response[\"value\"])\n",
    "result.head(3)"
   ]
  },
  {
   "cell_type": "code",
   "execution_count": null,
   "id": "112531ea",
   "metadata": {},
   "outputs": [],
   "source": [
    "search_query = f\"{search_query} and Attributes/OData.CSC.DoubleAttribute/any(att:att/Name eq 'cloudCover' and att/OData.CSC.DoubleAttribute/Value le {max_cloud_cover})\"\n",
    "print(f\"\"\"\\n{search_query.replace(' ', \"%20\")}\\n\"\"\")\n",
    "\n",
    "response = requests.get(search_query).json()\n",
    "result = pd.DataFrame.from_dict(response[\"value\"])\n",
    "result.head(3)"
   ]
  },
  {
   "cell_type": "markdown",
   "id": "ff941b29",
   "metadata": {},
   "source": [
    "* **C. Authentication and Download**\n",
    "    * Obtaining an authentication token using CDSE credentials.\n",
    "    * Establishing an authenticated session using `requests.Session`.\n",
    "    * Retrieving the product manifest (MTD_MSIL1C.xml) using the authenticated session.\n",
    "    * Parsing the manifest file to locate band files.\n",
    "    * Downloading individual band files (.jp2) using the authenticated session."
   ]
  },
  {
   "cell_type": "code",
   "execution_count": null,
   "id": "d670e066",
   "metadata": {},
   "outputs": [],
   "source": [
    "username = os.environ[\"CDSE_USERNAME\"]\n",
    "password = os.environ[\"CDSE_PASSWORD\"]\n",
    "auth_server_url = \"https://identity.dataspace.copernicus.eu/auth/realms/CDSE/protocol/openid-connect/token\"\n",
    "data = {\n",
    "    \"client_id\": \"cdse-public\",\n",
    "    \"grant_type\": \"password\",\n",
    "    \"username\": username,\n",
    "    \"password\": password,\n",
    "}\n",
    "response = requests.post(auth_server_url, data=data, verify=True, allow_redirects=False)\n",
    "access_token = json.loads(response.text)[\"access_token\"]"
   ]
  },
  {
   "cell_type": "code",
   "execution_count": null,
   "id": "7c86a9b6",
   "metadata": {},
   "outputs": [],
   "source": [
    "product_identifier = result.iloc[0, 1]\n",
    "product_name = result.iloc[0, 2]\n",
    "session = requests.Session()\n",
    "session.headers[\"Authorization\"] = f\"Bearer {access_token}\""
   ]
  },
  {
   "cell_type": "code",
   "execution_count": null,
   "id": "11b8e666",
   "metadata": {},
   "outputs": [],
   "source": [
    "url = f\"{catalogue_odata_url}/Products({product_identifier})/Nodes({product_name})/Nodes('MTD_MSIL1C.xml')/$value\"\n",
    "response = session.get(url, allow_redirects=False)\n",
    "while response.status_code in (301, 302, 303, 307):\n",
    "    url = response.headers[\"Location\"]\n",
    "    response = session.get(url, allow_redirects=False)\n",
    "file = session.get(url, verify=False, allow_redirects=True)\n",
    "outfile = Path.home() / \"MTD_MSIL1C.xml\"\n",
    "outfile.write_bytes(file.content)"
   ]
  },
  {
   "cell_type": "code",
   "execution_count": null,
   "id": "fe256836",
   "metadata": {},
   "outputs": [],
   "source": [
    "tree = ET.parse(str(outfile))\n",
    "root = tree.getroot()\n",
    "band_location = []\n",
    "band_location.append(f\"{product_name}/{root[0][0][12][0][0][1].text}.jp2\".split(\"/\"))\n",
    "band_location.append(f\"{product_name}/{root[0][0][12][0][0][2].text}.jp2\".split(\"/\"))\n",
    "band_location.append(f\"{product_name}/{root[0][0][12][0][0][3].text}.jp2\".split(\"/\"))"
   ]
  },
  {
   "cell_type": "code",
   "execution_count": null,
   "id": "4e1f4805",
   "metadata": {},
   "outputs": [],
   "source": [
    "bands = []\n",
    "for band_file in band_location:\n",
    "    url = f\"{catalogue_odata_url}/Products({product_identifier})/Nodes({product_name})/Nodes({'%2f'.join(band_file)})/$value\"\n",
    "    response = session.get(url, allow_redirects=False)\n",
    "    while response.status_code in (301, 302, 303, 307):\n",
    "        url = response.headers[\"Location\"]\n",
    "        response = session.get(url, allow_redirects=False)\n",
    "    file = session.get(url, verify=False, allow_redirects=True)\n",
    "    outfile = Path.home() / band_file[-1]\n",
    "    outfile.write_bytes(file.content)\n",
    "    bands.append(str(outfile))\n",
    "    print(\"Saved:\", band_file[-1])"
   ]
  },
  {
   "cell_type": "markdown",
   "id": "16e48970",
   "metadata": {},
   "source": [
    "* **D. Image Processing and Visualization**\n",
    "    * Cropping and creating image patches using `rasterio`.\n",
    "    * Creating a true color composite image from RGB bands.\n",
    "    * Normalizing pixel values and applying gain adjustments.\n",
    "    * Displaying and saving the image using `matplotlib`."
   ]
  },
  {
   "cell_type": "code",
   "execution_count": null,
   "id": "22fb5668",
   "metadata": {},
   "outputs": [],
   "source": [
    "xsize, ysize = 1000, 1000\n",
    "xoff, yoff, xmax, ymax = 0, 0, 0, 0\n",
    "n = 2\n",
    "\n",
    "for band_file in bands:\n",
    "    full_band = rasterio.open(band_file, driver=\"JP2OpenJPEG\")\n",
    "    if xmax == 0:\n",
    "        xmin, xmax = 0, full_band.width - xsize\n",
    "    if ymax == 0:\n",
    "        ymin, ymax = 0, full_band.height - ysize\n",
    "    if xoff == 0:\n",
    "        xoff, yoff = random.randint(xmin, xmax), random.randint(ymin, ymax)\n",
    "    window = Window(xoff, yoff, xsize, ysize)\n",
    "    transform = full_band.window_transform(window)\n",
    "    profile = full_band.profile\n",
    "    crs = full_band.crs\n",
    "    profile.update({\"height\": xsize, \"width\": ysize, \"transform\": transform})\n",
    "    with rasterio.open(\n",
    "        f\"{Path.home()}/patch_band_{n}.jp2\", \"w\", **profile\n",
    "    ) as patch_band:\n",
    "        patch_band.write(full_band.read(window=window))\n",
    "    print(f\"Patch for band {n} created\")\n",
    "    n += 1"
   ]
  },
  {
   "cell_type": "code",
   "execution_count": null,
   "id": "58a46f8a",
   "metadata": {},
   "outputs": [],
   "source": [
    "band2 = rasterio.open(f\"{Path.home()}/patch_band_2.jp2\", driver=\"JP2OpenJPEG\")  # blue\n",
    "band3 = rasterio.open(f\"{Path.home()}/patch_band_3.jp2\", driver=\"JP2OpenJPEG\")  # green\n",
    "band4 = rasterio.open(f\"{Path.home()}/patch_band_4.jp2\", driver=\"JP2OpenJPEG\")  # red\n",
    "\n",
    "red = band4.read(1)\n",
    "green = band3.read(1)\n",
    "blue = band2.read(1)\n",
    "\n",
    "gain = 2\n",
    "red_n = np.clip(red * gain / 10000, 0, 1)\n",
    "green_n = np.clip(green * gain / 10000, 0, 1)\n",
    "blue_n = np.clip(blue * gain / 10000, 0, 1)\n",
    "\n",
    "rgb_composite_n = np.dstack((red_n, green_n, blue_n))\n",
    "\n",
    "plt.imshow(rgb_composite_n)\n",
    "\n",
    "matplotlib.image.imsave(f\"{Path.home()}/Sentinel2_true_color.jpeg\", rgb_composite_n)\n",
    "print(\"Saved as:\", outfile)"
   ]
  },
  {
   "cell_type": "markdown",
   "id": "950db783",
   "metadata": {},
   "source": [
    "**IV. Advanced Topics (Optional)**\n",
    "\n",
    "* **A. Training Data Download Pipeline (Sentinel Hub)**\n",
    "    * Downloading training data plots with specific dimensions.\n",
    "    * Handling cloud cover and shadows using the `s2cloudless` library and custom functions.\n",
    "    * Data interpolation and smoothing techniques.\n",
    "    * Calculating vegetation indices (EVI, BI, MSAVI2, SI).\n",
    "    * Super-resolution using DSen2 model."
   ]
  },
  {
   "cell_type": "code",
   "execution_count": null,
   "id": "80918774",
   "metadata": {},
   "outputs": [],
   "source": [
    "import pandas as pd\n",
    "import numpy as np\n",
    "from random import shuffle\n",
    "from osgeo import ogr, osr\n",
    "from sentinelhub import WmsRequest, WcsRequest, MimeType, CRS, BBox, constants, DataSource, CustomUrlParam\n",
    "from s2cloudless import S2PixelCloudDetector, CloudMaskRequest\n",
    "import logging\n",
    "from collections import Counter\n",
    "import datetime\n",
    "import os\n",
    "import yaml\n",
    "\n",
    "import scipy.sparse as sparse\n",
    "from scipy.sparse.linalg import splu\n",
    "\n",
    "with open(\"../config.yaml\", 'r') as stream:\n",
    "        key = (yaml.safe_load(stream))\n",
    "        API_KEY = key['key'] \n",
    "DATA_LOCATION = '../data/train-csv/malawi-train.csv'\n",
    "OUTPUT_FOLDER = '../data/train-new-shadow/'\n",
    "EPSG = CRS.WGS84\n",
    "IMSIZE = 48\n",
    "existing = [int(x[:-4]) for x in os.listdir(\"../data/train-new-shadow/\") if \".DS\" not in x]"
   ]
  },
  {
   "cell_type": "code",
   "execution_count": null,
   "id": "2cd38f1c",
   "metadata": {},
   "outputs": [],
   "source": [
    "# Contents of ../src/slope.py (replace with actual code)\n",
    "def calcSlope(dem, res_x, res_y, zScale = 1, minSlope = 0.02):\n",
    "    # some code here\n",
    "    return slope\n",
    "# Contents of ../src/utils-bilinear.py (replace with actual code)\n",
    "def evi(x, append = False):\n",
    "    # some code here\n",
    "    return x, amin\n",
    "def bi(x, append = False):\n",
    "    # some code here\n",
    "    return x\n",
    "def msavi2(x, append = False):\n",
    "    # some code here\n",
    "    return x\n",
    "def si(x, append = False):\n",
    "    # some code here\n",
    "    return x\n",
    "# Contents of ../src/dsen2/utils/DSen2Net.py (replace with actual code)\n",
    "from tensorflow import keras\n",
    "class s2model(keras.Model):\n",
    "    # some code here\n",
    "    pass"
   ]
  },
  {
   "cell_type": "code",
   "execution_count": null,
   "id": "b1805197",
   "metadata": {},
   "outputs": [],
   "source": [
    "# Code from previous cells should be included here for execution\n",
    "# ... (all code from previous cells related to Advanced Topics)"
   ]
  },
  {
   "cell_type": "markdown",
   "id": "1465df9e",
   "metadata": {},
   "source": [
    "**V. Conclusion**\n",
    "\n",
    "* Recap of the key steps.\n",
    "* Resources for further learning.\n",
    "* Troubleshooting tips."
   ]
  }
 ],
 "metadata": {},
 "nbformat": 4,
 "nbformat_minor": 5
}