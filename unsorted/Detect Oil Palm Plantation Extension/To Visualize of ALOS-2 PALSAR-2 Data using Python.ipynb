{
 "cells": [
  {
   "cell_type": "markdown",
   "id": "4c360d21",
   "metadata": {},
   "source": [
    "## Training Materials Outline: Visualization of ALOS-2/PALSAR-2 Data using Python"
   ]
  },
  {
   "cell_type": "markdown",
   "id": "7c1172c0",
   "metadata": {},
   "source": [
    "**Module 1: Introduction to ALOS-2/PALSAR-2 Data**"
   ]
  },
  {
   "cell_type": "markdown",
   "id": "568eae6b",
   "metadata": {},
   "source": [
    "* 1.1 Overview of ALOS-2 Satellite and PALSAR-2 Sensor\n",
    "    * ALOS-2 mission objectives and applications ([EO Portal](https://www.eoportal.org/satellite-missions/alos-2))\n",
    "    * PALSAR-2 sensor specifications and capabilities ([JAXA Handbook](https://www.eorc.jaxa.jp/ALOS/en/doc/fdata/ALOS_HB_RevC_EN.pdf), [EO Portal](https://www.eoportal.org/satellite-missions/alos-2))\n",
    "* 1.2 Key Applications of ALOS-2/PALSAR-2 Data\n",
    "    * Focus on forest and plantation monitoring ([ResearchGate article on SAR Mosaics](https://www.researchgate.net/publication/224183347_Generating_Large-Scale_High-Quality_SAR_Mosaic_Datasets_Application_to_PALSAR_Data_for_Global_Monitoring))\n",
    "    * Other applications ([JAXA Application Examples](https://www.eorc.jaxa.jp/ALOS/en/gallery/example.htm))\n",
    "* 1.3 Data Access and Formats\n",
    "    * JAXA Earth Observation Research Center ([JAXA](https://www.eorc.jaxa.jp/ALOS/en/palsar_fnf/data/index.htm))\n",
    "    * Alaska Satellite Facility (ASF) ([ASF](https://search.asf.alaska.edu/#))\n",
    "    * Understanding GeoTIFF format ([GeoTIFF](https://www.bluemarblegeo.com/blog/about-geotiff-format/))"
   ]
  },
  {
   "cell_type": "markdown",
   "id": "dd7edf0a",
   "metadata": {},
   "source": [
    "**Module 2: Python Fundamentals for EO Data Processing**"
   ]
  },
  {
   "cell_type": "markdown",
   "id": "01479bb8",
   "metadata": {},
   "source": [
    "* 2.1 Introduction to Python and Jupyter Notebooks\n",
    "    * Basic syntax, variables, data types ([Python Tutorial](https://docs.python.org/3/tutorial/index.html))\n",
    "    * Working with Jupyter notebooks ([Jupyter Notebook Documentation](https://jupyter-notebook.readthedocs.io/en/stable/))\n",
    "* 2.2 File Input/Output\n",
    "    * Reading and writing files in Python ([Python documentation](https://docs.python.org/3/tutorial/inputoutput.html#reading-and-writing-files))\n",
    "* 2.3 Data Structures\n",
    "    * Lists, tuples, dictionaries ([Python documentation](https://docs.python.org/3/tutorial/datastructures.html))\n",
    "* 2.4 Functions and Libraries\n",
    "    * Defining and using functions ([Python Tutorial](https://docs.python.org/3/tutorial/controlflow.html#defining-functions))\n",
    "    * Introduction to relevant libraries (rasterio, matplotlib, numpy, geopandas) `pip install rasterio matplotlib numpy geopandas`"
   ]
  },
  {
   "cell_type": "code",
   "execution_count": null,
   "id": "d594c30e",
   "metadata": {},
   "outputs": [],
   "source": [
    "import rasterio\n",
    "import matplotlib.pyplot as plt\n",
    "import numpy as np\n",
    "import geopandas as gpd"
   ]
  },
  {
   "cell_type": "markdown",
   "id": "96a3138b",
   "metadata": {},
   "source": [
    "**Module 3: Reading and Visualizing ALOS-2/PALSAR-2 Data**"
   ]
  },
  {
   "cell_type": "markdown",
   "id": "99c7e532",
   "metadata": {},
   "source": [
    "* 3.1 Loading ALOS-2 Data with Rasterio\n",
    "    * Opening GeoTIFF files\n",
    "    * Accessing metadata (CRS, transform, bands)\n",
    "    * Reading single and multiple bands\n",
    "* 3.2 Basic Visualization with Matplotlib\n",
    "    * Displaying single-band images (grayscale, colormaps)\n",
    "    * Adjusting image display parameters (figsize, title, colorbar)\n",
    "* 3.3 Image Histograms\n",
    "    * Computing and plotting histograms\n",
    "    * Interpreting histogram information (mean, variance)"
   ]
  },
  {
   "cell_type": "code",
   "execution_count": null,
   "id": "8138e50f",
   "metadata": {},
   "outputs": [],
   "source": [
    "with rasterio.open('/home/jovyan/shared/PCN/ALOS-2/ALOS-2 data/Alos_2_2007_HV.tif') as src:\n",
    "    image_data = src.read(1) # Read the first band\n",
    "    metadata = src.meta\n",
    "    crs = src.crs\n",
    "    transform = src.transform\n",
    "\n",
    "plt.figure(figsize=(10, 8))\n",
    "plt.imshow(image_data, cmap='gray')\n",
    "plt.title('ALOS-2 Image')\n",
    "plt.colorbar()\n",
    "plt.show()\n",
    "\n",
    "plt.hist(image_data.flatten(), bins=256)\n",
    "plt.title('Histogram of ALOS-2 Image')\n",
    "plt.xlabel('Pixel Value')\n",
    "plt.ylabel('Frequency')\n",
    "plt.show()"
   ]
  },
  {
   "cell_type": "markdown",
   "id": "be07d307-f9b4-47b9-80b7-5ba7d1573917",
   "metadata": {},
   "source": [
    "**Module 4: Color composite of multi-polarization SAR data HH and HV**\n",
    "\n",
    "- In this exercise, you will read and visualize ALOS-2 image data using Python.\r\n",
    "- For analysis of oil palm plantation expansion and deforestation, the ALOS-2 annual composite data is useful.\r\n",
    "- This exercise will be available on the JAXA ALOS-2 portal.[Global PALSAR-2/PALSAR/JERS-1 mosaic and forest/non-forest maps](https://www.eorc.jaxa.jp/ALOS/jp/dataset/fnf_j.htm)"
   ]
  },
  {
   "cell_type": "markdown",
   "id": "5213a2c5-6d27-4037-94db-ea95f6df1fd1",
   "metadata": {},
   "source": [
    "For this hands-on exercise, we have prepared the data to save you time. What you need to do is download the data from our ownCloud server to your working directory to practice the next steps in this exercise."
   ]
  },
  {
   "cell_type": "code",
   "execution_count": null,
   "id": "4bc362d2-fc0c-4924-adb4-afb3edf4c600",
   "metadata": {},
   "outputs": [],
   "source": [
    "! curl --output 1-demo_data.zip http://owncloud.glodal-inc.net/owncloud/index.php/s/uKogtY6XPfokBVN/download\n",
    "import shutil, os\n",
    "os.makedirs('1-demo_data', exist_ok=True)\n",
    "shutil.unpack_archive(\"1-demo_data.zip\", \"1-demo_data\")\n",
    "os.chdir('1-demo_data')\n",
    "os.listdir()"
   ]
  },
  {
   "cell_type": "markdown",
   "id": "5b1add4f",
   "metadata": {},
   "source": [
    "**4.1: Creation of RGB composite image**\n",
    "\n",
    "Assign PALSAR-2 HH/HV to RGB channels (red, green, blue) to analyze land cover and land use from features on the image. Follow the steps below to visualize a SAR image."
   ]
  },
  {
   "cell_type": "markdown",
   "id": "052c2923",
   "metadata": {},
   "source": [
    "* 4.1 Principles of RGB Composites\n",
    "    * Assigning bands to color channels\n",
    "    * Creating false-color composites\n",
    "* 4.2 Creating RGB Composites with ALOS-2 Data\n",
    "    * Practical examples using rasterio and matplotlib\n",
    "* 4.3 Enhancing Visualizations\n",
    "    * Contrast stretching\n",
    "    * Applying custom colormaps"
   ]
  },
  {
   "cell_type": "markdown",
   "id": "e4aff641-856b-42b4-b628-f31034b64b87",
   "metadata": {},
   "source": [
    "Let's look at the HH and HV images respectively before color compositing. We deal with annual composite data for the years 2007 and 2010. Specify a file name in rasterio and load the image data."
   ]
  },
  {
   "cell_type": "code",
   "execution_count": null,
   "id": "be865c64-3d12-4a2b-8379-1b73187f54b6",
   "metadata": {},
   "outputs": [],
   "source": [
    "import rasterio\n",
    "\n",
    "# Load ALOS-2 2007 \n",
    "with rasterio.open('Alos_2_2007_HH.tif') as src:\n",
    "    hh_2007 = src.read(1)\n",
    "with rasterio.open('Alos_2_2007_HV.tif') as src:\n",
    "    hv_2007 = src.read(1)\n",
    "    \n",
    "# Load ALOS-2 2010 \n",
    "with rasterio.open('Alos_2_2010_HH.tif') as src:\n",
    "    hh_2010 = src.read(1)\n",
    "with rasterio.open('Alos_2_2010_HV.tif') as src:\n",
    "    hv_2010 = src.read(1)"
   ]
  },
  {
   "cell_type": "code",
   "execution_count": null,
   "id": "59082a27-726f-4482-aea9-0bcf90bf3a06",
   "metadata": {},
   "outputs": [],
   "source": [
    "import matplotlib.pyplot as plt\n",
    "\n",
    "# Data and titles for plots\n",
    "data = [\n",
    "    (hh_2007, \"2007 HH\"),\n",
    "    (hv_2007, \"2007 HV\"),\n",
    "    (hh_2010, \"2010 HH\"),\n",
    "    (hv_2010, \"2010 HV\"),\n",
    "]\n",
    "\n",
    "# Create a 2x2 plot layout\n",
    "fig, axs = plt.subplots(2, 2, figsize=(18, 10))\n",
    "\n",
    "# Loop through axes and data to plot\n",
    "for ax, (image, title) in zip(axs.flat, data):\n",
    "    img = ax.imshow(image, cmap='gray')\n",
    "    ax.set_title(title)\n",
    "    fig.colorbar(img, ax=ax, orientation='vertical', label='Intensity')\n",
    "\n",
    "# Adjust layout and display\n",
    "plt.tight_layout()\n",
    "plt.show()\n"
   ]
  },
  {
   "cell_type": "code",
   "execution_count": null,
   "id": "a6cad5e2-a4d7-47a1-ad37-7a96c60d2bc7",
   "metadata": {},
   "outputs": [],
   "source": [
    "import numpy as np\n",
    "# Stack images into RGB channels: HH_t1 as Red, HV_t2 as Green, HH_t3 as Blue\n",
    "rgb_composite_2007 = np.dstack((hh_2007, hv_2007, hv_2007))\n",
    "rgb_composite_2010 = np.dstack((hh_2010, hv_2010, hv_2010))"
   ]
  },
  {
   "cell_type": "code",
   "execution_count": null,
   "id": "3e3b3020-3ed3-4acc-bced-624c1c84409d",
   "metadata": {},
   "outputs": [],
   "source": [
    "# Normalize 2007 composite\n",
    "rgb_composite_2007 = (rgb_composite_2007 - np.min(rgb_composite_2007)) / (np.max(rgb_composite_2007) - np.min(rgb_composite_2007))\n",
    "\n",
    "# Normalize 2010 composite\n",
    "rgb_composite_2010 = (rgb_composite_2010 - np.min(rgb_composite_2010)) / (np.max(rgb_composite_2010) - np.min(rgb_composite_2010))\n",
    "\n",
    "fig, (ax1, ax2) = plt.subplots(1, 2, figsize=(12, 6))\n",
    "# Plot 2007 composite\n",
    "im1 = ax1.imshow(rgb_composite_2007)\n",
    "ax1.set_title(\"2007 Color Composite of HH and HV Images\")\n",
    "# Plot 2010 composite\n",
    "im2 = ax2.imshow(rgb_composite_2010)\n",
    "ax2.set_title(\"2010 Color Composite of HH and HV Images\")\n",
    "\n",
    "plt.tight_layout()\n",
    "plt.show()"
   ]
  },
  {
   "cell_type": "markdown",
   "id": "d8fb6e62",
   "metadata": {},
   "source": [
    "**Module 5: Interpreting Forest and Oil Palm Areas (Comparison with Optical Data)**\n",
    "\n",
    "Visualize the annual data for even more periods here, Let's analyze the dynamics of oil palm plantations in this area."
   ]
  },
  {
   "cell_type": "markdown",
   "id": "4105c06d",
   "metadata": {},
   "source": [
    "* 5.1 Visual Examples\n",
    "    * Comparing ALOS-2 and optical imagery of forest and oil palm ([MDPI articles](https://www.mdpi.com/search?q=ALOS-2%20forest))\n",
    "* 5.2 Interpreting ALOS-2 Data\n",
    "    * Backscatter characteristics of different land cover types\n",
    "    * Guided examples using QGIS (optional)\n",
    "* 5.3 Comparing ALOS-2 and Optical Data\n",
    "    * Visual comparison and interpretation using QGIS (optional)\n",
    "    * Understanding the differences between SAR and optical data"
   ]
  }
 ],
 "metadata": {
  "kernelspec": {
   "display_name": "Python 3 (ipykernel)",
   "language": "python",
   "name": "python3"
  },
  "language_info": {
   "codemirror_mode": {
    "name": "ipython",
    "version": 3
   },
   "file_extension": ".py",
   "mimetype": "text/x-python",
   "name": "python",
   "nbconvert_exporter": "python",
   "pygments_lexer": "ipython3",
   "version": "3.11.6"
  }
 },
 "nbformat": 4,
 "nbformat_minor": 5
}
