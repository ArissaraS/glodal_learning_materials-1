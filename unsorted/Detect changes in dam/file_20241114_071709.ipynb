{
 "cells": [
  {
   "cell_type": "markdown",
   "id": "e1ff457f",
   "metadata": {},
   "source": [
    "## Training Material Outline: SAR Data Processing and Change Detection for Dam Monitoring (Yamba Dam Case Study)"
   ]
  },
  {
   "cell_type": "markdown",
   "id": "8ef08bd5",
   "metadata": {},
   "source": [
    "This training material will equip you with the skills to process SAR data, apply noise reduction techniques, visualize dam water extents, and perform change detection analyses for dam monitoring, seasonal variation studies, and water resource management."
   ]
  },
  {
   "cell_type": "markdown",
   "id": "09470fc1",
   "metadata": {},
   "source": [
    "**Module 1: Introduction to SAR and ALOS-2 Data**"
   ]
  },
  {
   "cell_type": "markdown",
   "id": "0b9e45ca",
   "metadata": {},
   "source": [
    "* **1.1 What is SAR?** (Brief explanation of Synthetic Aperture Radar principles and advantages for dam monitoring)"
   ]
  },
  {
   "cell_type": "markdown",
   "id": "b5b8e54b",
   "metadata": {},
   "source": [
    "Synthetic Aperture Radar (SAR) is a remote sensing technique that uses radar signals to create images of the Earth's surface. Unlike optical sensors, SAR can penetrate clouds and operate day and night, making it ideal for dam monitoring, especially in frequently cloud-covered regions. SAR's sensitivity to surface roughness and moisture content allows for detailed mapping of water extents and surrounding terrain."
   ]
  },
  {
   "cell_type": "markdown",
   "id": "887294e9",
   "metadata": {},
   "source": [
    "* **1.2 Introduction to ALOS-2:**"
   ]
  },
  {
   "cell_type": "markdown",
   "id": "283ff50b",
   "metadata": {},
   "source": [
    "    * Overview of the ALOS-2 satellite mission (Reference: 8.1.1.a, 8.1.1.b)\n",
    "    * Sensor specifications and capabilities (Reference: 8.1.1.a, 8.1.1.b)\n",
    "    * Key applications of ALOS-2 data, with a focus on water resource management (Reference: 8.1.1.c, Module 8 intro)\n",
    "    * Limitations of ALOS-2 data for water detection (Reference: 8.2.1.1.a, Table 8.2.1.1.2)"
   ]
  },
  {
   "cell_type": "markdown",
   "id": "2f9e2746",
   "metadata": {},
   "source": [
    "ALOS-2 (Advanced Land Observing Satellite-2), also known as DAICHI-2, is a Japanese Earth observation satellite equipped with the PALSAR-2 L-band SAR sensor.  This sensor provides high-resolution imagery useful for various applications, including disaster monitoring, land use mapping, and resource exploration.  In water resource management, ALOS-2 data can be used to monitor dam water levels, assess flood inundation, and map changes in water bodies over time. However, limitations such as terrain shadowing and misclassification of smooth surfaces like bare land can affect water detection accuracy."
   ]
  },
  {
   "cell_type": "markdown",
   "id": "a4d6279c",
   "metadata": {},
   "source": [
    "* **1.3 Yamba Dam Case Study:**\n",
    "    * Geographic location and characteristics of Yamba Dam\n",
    "    * Importance of monitoring Yamba Dam's water extent"
   ]
  },
  {
   "cell_type": "markdown",
   "id": "e645038a",
   "metadata": {},
   "source": [
    "Yamba Dam is located in Japan and plays a crucial role in water supply, flood control, and irrigation. Monitoring its water extent is essential for effective water resource management, especially in the face of climate change and extreme weather events. Accurate monitoring enables informed decisions regarding water allocation, flood mitigation, and drought preparedness."
   ]
  },
  {
   "cell_type": "markdown",
   "id": "0f9ff6c8",
   "metadata": {},
   "source": [
    "**Module 2: SAR Data Preprocessing and Visualization**"
   ]
  },
  {
   "cell_type": "markdown",
   "id": "98ccfbfc",
   "metadata": {},
   "source": [
    "* **2.1 Data Acquisition and Format:**\n",
    "    * Accessing ALOS-2 data (Reference: Appendix)\n",
    "    * Understanding GeoTIFF format (Reference: 8.1.2.a, 8.1.2.f)\n",
    "    * Loading ALOS-2 data in Python using Rasterio (Reference: 8.1, 9.1.2, Download file from Owncloud directly)"
   ]
  },
  {
   "cell_type": "code",
   "execution_count": null,
   "id": "56fcdc9e",
   "metadata": {},
   "outputs": [],
   "source": [
    "!pip install rasterio matplotlib\n",
    "\n",
    "import rasterio\n",
    "import matplotlib.pyplot as plt\n",
    "\n",
    "# Replace with your actual file path\n",
    "alos_file = 'example.tif'\n",
    "\n",
    "with rasterio.open(alos_file) as src:\n",
    "    alos_data = src.read(1)\n",
    "    plt.imshow(alos_data, cmap='gray')\n",
    "    plt.show()"
   ]
  },
  {
   "cell_type": "markdown",
   "id": "bd7139e4",
   "metadata": {},
   "source": [
    "* **2.2 Speckle Noise Reduction:**\n",
    "    * Understanding speckle noise in SAR imagery (Reference: 8.2, Lee filter sections)\n",
    "    * Implementing the Lee filter in Python for speckle reduction (Reference: 8.2, Lee filter sections)\n",
    "    * Visualizing the effects of speckle filtering (Reference: 8.2, Lee filter sections)"
   ]
  },
  {
   "cell_type": "code",
   "execution_count": null,
   "id": "89c4bbf1",
   "metadata": {},
   "outputs": [],
   "source": [
    "import numpy as np\n",
    "from scipy.ndimage import uniform_filter\n",
    "\n",
    "def lee_filter(img, size):\n",
    "    img_mean = uniform_filter(img, (size, size))\n",
    "    img_sqr_mean = uniform_filter(img**2, (size, size))\n",
    "    img_variance = img_sqr_mean - img_mean**2\n",
    "    overall_variance = np.var(img)\n",
    "    img_weights = img_variance / (img_variance + overall_variance)\n",
    "    img_output = img_mean + img_weights * (img - img_mean)\n",
    "    return img_output\n",
    "\n",
    "filtered_alos = lee_filter(alos_data, 5) # Example size 5x5\n",
    "plt.imshow(filtered_alos, cmap='gray')\n",
    "plt.show()"
   ]
  },
  {
   "cell_type": "markdown",
   "id": "d7ce06c7",
   "metadata": {},
   "source": [
    "* **2.3 Visualizing SAR Data:**\n",
    "    * Basic visualization techniques using Matplotlib (Reference: 8.1, 9.1.2, Download file from Owncloud directly, 9.1.2 code examples)\n",
    "    * Applying colormaps for enhanced visualization (Reference: 8.1, Download file from Owncloud directly)\n",
    "    * Generating histograms of pixel values (Reference: 8.1, Download file from Owncloud directly)"
   ]
  },
  {
   "cell_type": "code",
   "execution_count": null,
   "id": "f2980448",
   "metadata": {},
   "outputs": [],
   "source": [
    "plt.imshow(alos_data, cmap='viridis')\n",
    "plt.colorbar()\n",
    "plt.show()\n",
    "\n",
    "plt.hist(alos_data.flatten(), bins=256)\n",
    "plt.show()"
   ]
  },
  {
   "cell_type": "markdown",
   "id": "ef4dd7d5",
   "metadata": {},
   "source": [
    "**Module 3: Dam Water Extent Extraction**"
   ]
  },
  {
   "cell_type": "markdown",
   "id": "1b81caf1",
   "metadata": {},
   "source": [
    "* **3.1 Principles of Water Detection in SAR:**\n",
    "    * SAR backscatter characteristics of water (Reference: 8.2.1.1.a)\n",
    "    * Differentiating water from other land cover types in SAR imagery (Reference: 8.2.1.1.a, Table 8.2.1.1.1)"
   ]
  },
  {
   "cell_type": "markdown",
   "id": "23444f32",
   "metadata": {},
   "source": [
    "Water typically appears dark in SAR imagery due to its smooth surface, which reflects radar signals away from the sensor. This low backscatter contrast with higher backscatter from rougher surfaces like vegetation or urban areas, allowing for differentiation."
   ]
  },
  {
   "cell_type": "markdown",
   "id": "292f0414",
   "metadata": {},
   "source": [
    "* **3.2 Otsu's Thresholding Method:**\n",
    "    * Introduction to Otsu's method for image segmentation (Reference: 8.2.1.2.a, 8.2.1.2.b)\n",
    "    * Implementing Otsu's method in Python using scikit-image (Reference: 8.2.1.2.c)"
   ]
  },
  {
   "cell_type": "code",
   "execution_count": null,
   "id": "2153f875",
   "metadata": {},
   "outputs": [],
   "source": [
    "from skimage.filters import threshold_otsu\n",
    "\n",
    "otsu_threshold = threshold_otsu(filtered_alos)\n",
    "water_mask = filtered_alos < otsu_threshold\n",
    "plt.imshow(water_mask)\n",
    "plt.show()"
   ]
  },
  {
   "cell_type": "markdown",
   "id": "d323c4d3",
   "metadata": {},
   "source": [
    "* **3.3 Applying Otsu's Method to ALOS-2 Data:**\n",
    "    * Hands-on exercise: Extracting water extent at Yamba Dam using Otsu's method (Reference: 8.2, Using Otsu's method to classify water area)\n",
    "    * Refining water masks using median filtering (Reference: 8.2, Remove noise section)\n",
    "    * Calculating water area (Reference: 8.2, Calculate water area section)\n",
    "    * (Optional) Converting raster to vector format (Reference: 8.2, Convert raster to vector section)"
   ]
  },
  {
   "cell_type": "code",
   "execution_count": null,
   "id": "210c1308",
   "metadata": {},
   "outputs": [],
   "source": [
    "from scipy.ndimage import median_filter\n",
    "\n",
    "refined_mask = median_filter(water_mask, size=3) # Example 3x3 filter\n",
    "\n",
    "# Assuming pixel resolution is known (e.g., 10m x 10m)\n",
    "pixel_area = 100  # square meters\n",
    "water_area = np.sum(refined_mask) * pixel_area / 10000 # hectares\n",
    "print(f\"Water area: {water_area} hectares\")"
   ]
  },
  {
   "cell_type": "markdown",
   "id": "62b3e04b",
   "metadata": {},
   "source": [
    "* **3.4 Integrating Slope Data (for Mountainous Areas):**\n",
    "    * Importance of slope data for accurate water detection in mountainous terrain (Reference: 8.2, Using Otsu's method and slope data to classify water area)\n",
    "    * Hands-on exercise: Combining Otsu's method with slope data for improved classification (Reference: 8.2, Using Otsu's method and slope data to classify water area)"
   ]
  },
  {
   "cell_type": "markdown",
   "id": "c0a1ad3d",
   "metadata": {},
   "source": [
    "In mountainous areas, slope data helps to differentiate water bodies from shadowed regions, which can have similar low backscatter in SAR imagery. By masking out steep slopes, the accuracy of water detection can be improved."
   ]
  },
  {
   "cell_type": "markdown",
   "id": "b3b26ec3",
   "metadata": {},
   "source": [
    "**Module 4: Change Detection Analysis**"
   ]
  },
  {
   "cell_type": "markdown",
   "id": "6ee91e88",
   "metadata": {},
   "source": [
    "* **4.1 Introduction to Time-Series Analysis:** (Reference: 8.3.1.a)"
   ]
  },
  {
   "cell_type": "markdown",
   "id": "aa93fba1",
   "metadata": {},
   "source": [
    "Time-series analysis involves analyzing data collected over time to identify trends, patterns, and changes. In dam monitoring, this can be used to track water level fluctuations, assess seasonal variations, and detect long-term changes in water availability."
   ]
  },
  {
   "cell_type": "markdown",
   "id": "32d69ff6",
   "metadata": {},
   "source": [
    "* **4.2 Preparing Time-Series Data:**\n",
    "    * Acquiring multi-temporal ALOS-2 data (Reference: 8.3.1.b, Appendix)\n",
    "    * Calibrating and filtering multi-temporal data (Reference: 8.3.1.b, 9.3, Prepare time-series data from ALOS-2 imagery section)\n",
    "    * Creating a stacked image with multiple time points (Reference: 8.3.1.b, Layer stacking section, 9.3, Apply Layer Stacking between 2007-2023 section)"
   ]
  },
  {
   "cell_type": "markdown",
   "id": "2f89138f",
   "metadata": {},
   "source": [
    "Multi-temporal ALOS-2 data from different acquisition dates needs to be preprocessed (calibrated and filtered) and stacked into a single multi-band image for change detection analysis."
   ]
  },
  {
   "cell_type": "markdown",
   "id": "84a40bf6",
   "metadata": {},
   "source": [
    "* **4.3 Visualizing Change:**\n",
    "    * Using QGIS Temporal/Spectral Profile tool to visualize changes at specific locations (Reference: 8.3.1.c)\n",
    "    * Generating composite images for visual comparison (Reference: 8.3.1.c)"
   ]
  },
  {
   "cell_type": "markdown",
   "id": "1777245e",
   "metadata": {},
   "source": [
    "Changes in water extent can be visualized using tools like the Temporal/Spectral Profile in QGIS, which shows changes in pixel values over time at a specific location. Composite images, created by combining different time points, provide a visual comparison of changes."
   ]
  },
  {
   "cell_type": "markdown",
   "id": "8a9ca8de",
   "metadata": {},
   "source": [
    "* **4.4 Interpreting Change Detection Results:**\n",
    "    * Analyzing temporal profiles and composite images to understand water extent changes (Reference: 8.3.2, 9.3, How to visualize and interpret the results for specific change locations section)\n",
    "    * Examples of interpreting changes at Yamba Dam due to typhoon Hagibis (Reference: 8.3.2)"
   ]
  },
  {
   "cell_type": "markdown",
   "id": "f58532a4",
   "metadata": {},
   "source": [
    "Interpreting change detection results involves analyzing temporal profiles and composite images to understand how water extent has changed over time. For example, a decrease in water extent after a typhoon might indicate increased water usage or evaporation."
   ]
  },
  {
   "cell_type": "markdown",
   "id": "976e3e64",
   "metadata": {},
   "source": [
    "* **4.5 (Optional) Accuracy Assessment:** (Reference: 8.2.1.3)\n",
    "    * Introduction to accuracy assessment and confusion matrix\n",
    "    * Example of calculating accuracy for water extent classification"
   ]
  },
  {
   "cell_type": "markdown",
   "id": "4fa3eab4",
   "metadata": {},
   "source": [
    "Accuracy assessment involves comparing the classified water extent with ground truth data to evaluate the accuracy of the classification. A confusion matrix summarizes the classification results, showing the number of true positives, true negatives, false positives, and false negatives."
   ]
  },
  {
   "cell_type": "markdown",
   "id": "b3f3fc8b",
   "metadata": {},
   "source": [
    "**Conclusion and Next Steps:**\n",
    "\n",
    "* Summary of key learnings\n",
    "* Further resources for advanced SAR data processing and analysis."
   ]
  }
 ],
 "metadata": {},
 "nbformat": 4,
 "nbformat_minor": 5
}