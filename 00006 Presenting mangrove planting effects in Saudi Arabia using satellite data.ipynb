{
 "cells": [
  {
   "cell_type": "markdown",
   "id": "219f0121-7a49-41b1-9719-6ae09cc7a8c7",
   "metadata": {},
   "source": [
    "# 6. Presenting the effects of mangrove planting in Saudi Arabia using satellite data\n",
    "\n",
    "This section is designed for learners who are interested in monitoring the effects of mangrove planting on the west coast of Saudi Arabia using satellite imagery. Based on that, learners will learn the following after practicing this material:"
   ]
  },
  {
   "cell_type": "markdown",
   "id": "0191221e-0f2d-478d-b6f0-bf5a04126567",
   "metadata": {},
   "source": [
    "1. Enable vegetation monitoring with a vegetation index using Google Earth Engine\n",
    "    * (Optional) Introduction to GEE\n",
    "    * What are vegetation indices and their applications\n",
    "    * Monitoring vegetation with vegetation indices in GEE\n",
    "3. Present satellite-based outputs with GEE apps\n",
    "4. Present time-series/thematic comparisons on GEE apps"
   ]
  },
  {
   "cell_type": "code",
   "execution_count": null,
   "id": "2c8e4442-51b9-42ae-93c1-f42e3b3e0cfe",
   "metadata": {},
   "outputs": [],
   "source": []
  }
 ],
 "metadata": {
  "kernelspec": {
   "display_name": "Python 3 (ipykernel)",
   "language": "python",
   "name": "python3"
  },
  "language_info": {
   "codemirror_mode": {
    "name": "ipython",
    "version": 3
   },
   "file_extension": ".py",
   "mimetype": "text/x-python",
   "name": "python",
   "nbconvert_exporter": "python",
   "pygments_lexer": "ipython3",
   "version": "3.11.6"
  }
 },
 "nbformat": 4,
 "nbformat_minor": 5
}
