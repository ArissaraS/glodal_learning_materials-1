{
 "cells": [
  {
   "cell_type": "markdown",
   "id": "c507cdc2",
   "metadata": {},
   "source": [
    "# Training Materials: Detecting Change with 2-Time Period Data"
   ]
  },
  {
   "cell_type": "markdown",
   "id": "d55a7cd7",
   "metadata": {},
   "source": [
    "## 1. Introduction: Change Detection Basics"
   ]
  },
  {
   "cell_type": "markdown",
   "id": "d1d934e5",
   "metadata": {},
   "source": [
    "* **What is Change Detection?** Change detection is the process of identifying differences in the state of an object or phenomenon by observing it at different times.  Its purposes include monitoring land cover changes, assessing damage from natural disasters, and tracking urban development. Applications range from deforestation monitoring and urban sprawl analysis to disaster assessment and agricultural monitoring."
   ]
  },
  {
   "cell_type": "markdown",
   "id": "66bdb778",
   "metadata": {},
   "source": [
    "* **Types of Change Detection:** Several approaches exist, including image differencing (subtracting pixel values), image ratioing (dividing pixel values), and classification-based methods (comparing land cover classifications)."
   ]
  },
  {
   "cell_type": "markdown",
   "id": "94ca21ee",
   "metadata": {},
   "source": [
    "* **Two-Time Period Analysis:** This training focuses on analyzing change between two specific points in time. Advantages include simplicity and clear visualization of change. Limitations include potential misinterpretation due to seasonal variations or short-term events."
   ]
  },
  {
   "cell_type": "markdown",
   "id": "c9b67a20-0b14-4e18-b700-8829e9b26b51",
   "metadata": {},
   "source": [
    "## 2. Change Detection Methods\n",
    "### Change detection analysis based on analysis of 2-time period data of ALOS-2/Palsa-2\n",
    "\n",
    "In this section,By analyzing the HH/HV scattering intensities during the two periods with Change Vector Analysis, the procedure for detecting and analyzing changes will be practiced. In the previous section, we analyzed land cover and land use changes by comparing color tones and patterns in color composite images from year to year.\n",
    "\n",
    "Change vector analysisis a method used to analyze changes in 2D data points and is an effective method for analyzing HH/HV changes in PALSAR-2. In this section, we will deepen our understanding of the procedures and interpretations by analyzing the 2007 and 2010 annual composite data.\n",
    "\n",
    "1. Conversion from DN values to backscatter coefficients\n",
    "2. HH/HV change analysis\n",
    "3. Change vector analysis (CVA) Data analysis\n"
   ]
  },
  {
   "cell_type": "markdown",
   "id": "20e3e028-6019-41a2-8ba8-296985616d46",
   "metadata": {},
   "source": [
    "### 2.1. Conversion from DN values to backscatter coefficients\n",
    "\n",
    "In the previous section, the pixel value（DN; digital number）was used for visualization as is, but for rigorous data analysis, it is desirable to convert the pixel values ​​into backscattering coefficients. The conversion is done using the following formula:\n",
    "\n",
    "$$ \\gamma^{0} = 10 log_{10} <DN^2> + CF $$\n",
    "\n",
    "Note that, <> represents averaging for noise reduction and -83.0 dB is used for CF. [Global 25m Resolution PALSAR-2/PALSAR Mosaic (Ver. 2.4.0) Dataset Instructions](https://www.eorc.jaxa.jp/ALOS/jp/dataset/pdf/DatasetDescription_PALSAR2_Mosaic_ver240_ja.pdf). A coding example is shown below."
   ]
  },
  {
   "cell_type": "code",
   "execution_count": null,
   "id": "f2af3dce-0bc1-4941-acc2-c56e2f917c11",
   "metadata": {},
   "outputs": [],
   "source": [
    "import rasterio\n",
    "import numpy as np\n",
    "import matplotlib.pyplot as plt\n",
    "\n",
    "def calibrate_ima(image):\n",
    "    return 10 * np.log10(image ** 2) - 83.0\n",
    "\n",
    "def ima_cal(file_path):\n",
    "    with rasterio.open(file_path) as src:\n",
    "        original = src.read(1).astype('float32')\n",
    "        calibrated = calibrate_ima(original)\n",
    "    return original, calibrated\n",
    "\n",
    "# Simplified file names\n",
    "image1 = \"image1.tif\"  # Represents Alos_2_2007_HH\n",
    "image2 = \"image2.tif\"  # Represents Alos_2_2010_HH\n",
    "image3 = \"image3.tif\"  # Represents Alos_2_2007_HV\n",
    "image4 = \"image4.tif\"  # Represents Alos_2_2010_HV\n",
    "\n",
    "# Process images\n",
    "image1_raw, image1_cal = ima_cal(image1)\n",
    "image2_raw, image2_cal = ima_cal(image2)\n",
    "image3_raw, image3_cal = ima_cal(image3)\n",
    "image4_raw, image4_cal = ima_cal(image4)\n",
    "\n",
    "# Plot results\n",
    "fig, axs = plt.subplots(4, 2, figsize=(12, 16))\n",
    "\n",
    "axs[0, 0].imshow(image1_raw, cmap='gray')\n",
    "axs[0, 0].set_title('Image 1 (Original)')\n",
    "axs[0, 1].imshow(image1_cal, cmap='gray')\n",
    "axs[0, 1].set_title('Image 1 (Calibrated)')\n",
    "\n",
    "axs[1, 0].imshow(image2_raw, cmap='gray')\n",
    "axs[1, 0].set_title('Image 2 (Original)')\n",
    "axs[1, 1].imshow(image2_cal, cmap='gray')\n",
    "axs[1, 1].set_title('Image 2 (Calibrated)')\n",
    "\n",
    "axs[2, 0].imshow(image3_raw, cmap='gray')\n",
    "axs[2, 0].set_title('Image 3 (Original)')\n",
    "axs[2, 1].imshow(image3_cal, cmap='gray')\n",
    "axs[2, 1].set_title('Image 3 (Calibrated)')\n",
    "\n",
    "axs[3, 0].imshow(image4_raw, cmap='gray')\n",
    "axs[3, 0].set_title('Image 4 (Original)')\n",
    "axs[3, 1].imshow(image4_cal, cmap='gray')\n",
    "axs[3, 1].set_title('Image 4 (Calibrated)')\n",
    "\n",
    "# Add colorbars\n",
    "for i in range(4):\n",
    "    fig.colorbar(axs[i, 0].imshow(image1_raw, cmap='gray'), ax=axs[i, 0], orientation='vertical', label='DN')\n",
    "    fig.colorbar(axs[i, 1].imshow(image1_cal, cmap='gray'), ax=axs[i, 1], orientation='vertical', label='Calibrated dB')\n",
    "\n",
    "plt.tight_layout()\n",
    "plt.show()\n"
   ]
  },
  {
   "cell_type": "markdown",
   "id": "d0fbe835-0889-4e10-9ae4-f20f5ab95709",
   "metadata": {},
   "source": [
    "### 2.3. HH/HV change analysis\n",
    "\n",
    " Calculate the difference in image data to analyze the change from 2007 to 2010 for each HH/HV."
   ]
  },
  {
   "cell_type": "code",
   "execution_count": null,
   "id": "41853453-8ff9-40cd-9d37-5ff32002866b",
   "metadata": {},
   "outputs": [],
   "source": [
    "delta_bandhv_cal = hv_2010_cal - hv_2007_cal\n",
    "delta_bandhh_cal = hh_2010_cal - hh_2007_cal\n",
    "\n",
    "fig, axs = plt.subplots(1, 2, figsize=(12, 16))\n",
    "\n",
    "axs[0].imshow(delta_bandhv_cal, cmap='gray')\n",
    "axs[0].set_title('HV change (2010 - 2007)')\n",
    "axs[1].imshow(delta_bandhh_cal, cmap='gray')\n",
    "axs[1].set_title('HH change (2010 - 2007)')\n",
    "plt.tight_layout()\n",
    "plt.show()"
   ]
  },
  {
   "cell_type": "markdown",
   "id": "c13f6427-dcf6-48ad-9b0f-828102b5fb19",
   "metadata": {},
   "source": [
    "### 2.4. Change vector analysis (CVA) Data analysis\n",
    "\n",
    "The changes that appear in the difference image calculated in the previous section can be expressed as vectors in the two-dimensional space of HH/HV pairs for each pixel.The figure below shows an example where HV has decreased significantly while HH has decreased slightly. The following code cell calculates the length of the change vector at each pixel, expressed as magnitude, and the direction as angle."
   ]
  },
  {
   "cell_type": "code",
   "execution_count": null,
   "id": "bb042e97-1bcf-4a56-b643-71fa30b323f6",
   "metadata": {},
   "outputs": [],
   "source": [
    "magnitude = np.sqrt(delta_bandhv_cal**2 + delta_bandhh_cal**2)\n",
    "angle = np.arctan2(delta_bandhv_cal, delta_bandhh_cal) #Radians: When using trigonometric functions like arctan or atan2, the default output is often in radians, where 00 to 2𝜋2π radians (approximately 00 to 6.286.28) covers the full circular range of angles."
   ]
  }
 ],
 "metadata": {
  "kernelspec": {
   "display_name": "Python 3 (ipykernel)",
   "language": "python",
   "name": "python3"
  },
  "language_info": {
   "codemirror_mode": {
    "name": "ipython",
    "version": 3
   },
   "file_extension": ".py",
   "mimetype": "text/x-python",
   "name": "python",
   "nbconvert_exporter": "python",
   "pygments_lexer": "ipython3",
   "version": "3.11.6"
  }
 },
 "nbformat": 4,
 "nbformat_minor": 5
}
