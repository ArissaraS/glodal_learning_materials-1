{
 "cells": [
  {
   "cell_type": "markdown",
   "id": "de4bc04e",
   "metadata": {},
   "source": [
    "# Training Material: Dam Water Level Change Detection with ALOS-2 SAR Data (2018-2020)"
   ]
  },
  {
   "cell_type": "markdown",
   "id": "662aae89",
   "metadata": {},
   "source": [
    "**Overall Goal:** To equip participants with the skills to detect water level changes in a dam using ALOS-2 SAR data from 2018-2020, incorporating calibration and Lee filtering before change detection analysis."
   ]
  },
  {
   "cell_type": "markdown",
   "id": "4fcfdb72",
   "metadata": {},
   "source": [
    "**Target Audience:** Individuals with basic Python knowledge and some familiarity with geospatial data."
   ]
  },
  {
   "cell_type": "markdown",
   "id": "4cd71528",
   "metadata": {},
   "source": [
    "## Module 1: Introduction to ALOS-2 and SAR Data for Water Level Monitoring"
   ]
  },
  {
   "cell_type": "markdown",
   "id": "1bd22b10",
   "metadata": {},
   "source": [
    "* 1.1 Overview of ALOS-2 Satellite and PALSAR-2 Sensor\n",
    "    * ALOS-2 mission objectives, sensor specifications, capabilities.\n",
    "    * SAR principles and advantages for water detection."
   ]
  },
  {
   "cell_type": "markdown",
   "id": "142ae531",
   "metadata": {},
   "source": [
    "* 1.2 Applications of ALOS-2 Data for Water Resource Management\n",
    "    * Examples of using ALOS-2 for flood monitoring, water extent mapping, etc.\n",
    "    * Specific advantages of ALOS-2 for dam water level monitoring."
   ]
  },
  {
   "cell_type": "markdown",
   "id": "b5145a7c",
   "metadata": {},
   "source": [
    "* 1.3 Data Acquisition and Access\n",
    "    * Sources for downloading ALOS-2 data (JAXA, ASF DAAC).\n",
    "    * Data formats and file naming conventions."
   ]
  },
  {
   "cell_type": "markdown",
   "id": "58b4658c",
   "metadata": {},
   "source": [
    "## Module 2: Python Fundamentals for EO Data Processing"
   ]
  },
  {
   "cell_type": "markdown",
   "id": "626c738a",
   "metadata": {},
   "source": [
    "* 2.1 Basic Python Review\n",
    "    * Data types, operators, control flow, functions.\n",
    "    * Working with lists, dictionaries, and other data structures."
   ]
  },
  {
   "cell_type": "code",
   "execution_count": null,
   "id": "6f950f1e",
   "metadata": {},
   "outputs": [],
   "source": [
    "my_list = [1, 2, 3]\n",
    "my_dict = {\"a\": 1, \"b\": 2}\n",
    "print(my_list)\n",
    "print(my_dict)"
   ]
  },
  {
   "cell_type": "markdown",
   "id": "984e5cf3",
   "metadata": {},
   "source": [
    "* 2.2 File Input/Output Operations\n",
    "    * Reading and writing files in Python.\n",
    "    * Handling different file formats (e.g., .tif, .csv)."
   ]
  },
  {
   "cell_type": "code",
   "execution_count": null,
   "id": "27677427",
   "metadata": {},
   "outputs": [],
   "source": [
    "with open(\"my_file.txt\", \"w\") as f:\n",
    "    f.write(\"Hello, world!\")\n",
    "\n",
    "with open(\"my_file.txt\", \"r\") as f:\n",
    "    content = f.read()\n",
    "    print(content)"
   ]
  },
  {
   "cell_type": "markdown",
   "id": "41f4a47e",
   "metadata": {},
   "source": [
    "* 2.3 Introduction to Geospatial Libraries\n",
    "    * Overview of `rasterio`, `geopandas`, `matplotlib`.\n",
    "    * Installation and basic usage."
   ]
  },
  {
   "cell_type": "code",
   "execution_count": null,
   "id": "f3b2a07a",
   "metadata": {},
   "outputs": [],
   "source": [
    "!pip install rasterio geopandas matplotlib\n",
    "\n",
    "import rasterio\n",
    "import geopandas as gpd\n",
    "import matplotlib.pyplot as plt"
   ]
  },
  {
   "cell_type": "markdown",
   "id": "091f4b71",
   "metadata": {},
   "source": [
    "## Module 3: Preprocessing ALOS-2 SAR Data"
   ]
  },
  {
   "cell_type": "markdown",
   "id": "97ff3744",
   "metadata": {},
   "source": [
    "* 3.1 Data Calibration\n",
    "    * Importance of radiometric calibration.\n",
    "    * Converting digital numbers to backscatter values using the calibration formula (20*log10(DN)-83).\n",
    "    * Hands-on exercise: Calibrating ALOS-2 data in Python."
   ]
  },
  {
   "cell_type": "code",
   "execution_count": null,
   "id": "f5fd0306",
   "metadata": {},
   "outputs": [],
   "source": [
    "import numpy as np\n",
    "\n",
    "def calibrate_alos(dn):\n",
    "    return 20 * np.log10(dn) - 83\n",
    "\n",
    "example_dn = 100\n",
    "calibrated_value = calibrate_alos(example_dn)\n",
    "print(f\"Calibrated value: {calibrated_value}\")"
   ]
  },
  {
   "cell_type": "markdown",
   "id": "3da30d37",
   "metadata": {},
   "source": [
    "* 3.2 Speckle Filtering with Lee Filter\n",
    "    * Understanding speckle noise and its impact on analysis.\n",
    "    * Implementing the Lee filter in Python using `scipy.ndimage`.\n",
    "    * Hands-on exercise: Applying the Lee filter to calibrated ALOS-2 data."
   ]
  },
  {
   "cell_type": "code",
   "execution_count": null,
   "id": "3b6b8da7",
   "metadata": {},
   "outputs": [],
   "source": [
    "import numpy as np\n",
    "from scipy.ndimage import uniform_filter\n",
    "\n",
    "def lee_filter(img, size=7):\n",
    "    img_mean = uniform_filter(img, (size, size))\n",
    "    img_sqr_mean = uniform_filter(img**2, (size, size))\n",
    "    img_variance = img_sqr_mean - img_mean**2\n",
    "    overall_variance = np.var(img)\n",
    "    img_weights = img_variance / (img_variance + overall_variance)\n",
    "    img_output = img_mean + img_weights * (img - img_mean)\n",
    "    return img_output\n",
    "\n",
    "example_img = np.random.rand(10, 10) * 100\n",
    "filtered_img = lee_filter(example_img)\n",
    "print(filtered_img)"
   ]
  },
  {
   "cell_type": "markdown",
   "id": "b31cdc75",
   "metadata": {},
   "source": [
    "## Module 4: Water Body Extraction and Change Detection"
   ]
  },
  {
   "cell_type": "markdown",
   "id": "1c824fc2",
   "metadata": {},
   "source": [
    "* 4.1 Thresholding with Otsu's Method\n",
    "    * Principles of Otsu's method for image segmentation.\n",
    "    * Implementing Otsu's method in Python using `skimage.filters`.\n",
    "    * Hands-on exercise: Extracting water bodies from filtered ALOS-2 data."
   ]
  },
  {
   "cell_type": "code",
   "execution_count": null,
   "id": "53b32e6d",
   "metadata": {},
   "outputs": [],
   "source": [
    "!pip install scikit-image\n",
    "\n",
    "from skimage.filters import threshold_otsu\n",
    "\n",
    "example_image = np.random.rand(10, 10) * 100\n",
    "threshold = threshold_otsu(example_image)\n",
    "binary_image = example_image > threshold\n",
    "print(binary_image)"
   ]
  },
  {
   "cell_type": "markdown",
   "id": "6512413a",
   "metadata": {},
   "source": [
    "* 4.2 Time-Series Analysis for Change Detection\n",
    "    * Preparing time-series data: Clipping, calibration, filtering, stacking.\n",
    "    * Visualizing change over time using graphs in QGIS.\n",
    "    * Hands-on exercise: Analyzing multi-temporal ALOS-2 data to detect water level changes."
   ]
  },
  {
   "cell_type": "markdown",
   "id": "6a35b679",
   "metadata": {},
   "source": [
    "* 4.3 (Optional) Handling Mountainous Terrain\n",
    "    * Incorporating slope data from DEM to improve water classification accuracy.\n",
    "    * Hands-on exercise: Integrating slope data with Otsu's method."
   ]
  },
  {
   "cell_type": "markdown",
   "id": "7c58340e",
   "metadata": {},
   "source": [
    "## Module 5: Accuracy Assessment and Validation (Optional)"
   ]
  },
  {
   "cell_type": "markdown",
   "id": "442d5d28",
   "metadata": {},
   "source": [
    "* 5.1 Accuracy Assessment Techniques\n",
    "    * Introduction to confusion matrix and accuracy metrics."
   ]
  },
  {
   "cell_type": "markdown",
   "id": "68283320",
   "metadata": {},
   "source": [
    "* 5.2 Calculating Accuracy and Kappa Coefficient\n",
    "    * Hands-on exercise: Assessing the accuracy of water level change detection."
   ]
  },
  {
   "cell_type": "markdown",
   "id": "66cd47cb",
   "metadata": {},
   "source": [
    "## Module 6: Visual Comparison with Optical Data (For Forest/Oil Palm Analysis)"
   ]
  },
  {
   "cell_type": "markdown",
   "id": "2924640d",
   "metadata": {},
   "source": [
    "* 6.1 Introduction to Optical Imagery\n",
    "    * Overview of optical data characteristics and advantages."
   ]
  },
  {
   "cell_type": "markdown",
   "id": "0b2bf520",
   "metadata": {},
   "source": [
    "* 6.2 Visual Comparison of ALOS-2 and Optical Data\n",
    "    * Identifying forest/oil palm areas in both SAR and optical imagery.\n",
    "    * Hands-on exercise: Comparing and interpreting ALOS-2 and optical data in QGIS."
   ]
  },
  {
   "cell_type": "markdown",
   "id": "6b9fb73e",
   "metadata": {},
   "source": [
    "* 6.3 Time-Series Analysis with Optical Data\n",
    "    * Preparing and visualizing time-series optical data.\n",
    "    * Interpreting changes in forest/oil palm areas over time."
   ]
  }
 ],
 "metadata": {},
 "nbformat": 4,
 "nbformat_minor": 5
}