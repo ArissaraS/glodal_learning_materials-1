{
 "cells": [
  {
   "cell_type": "markdown",
   "id": "3d70b773-8280-4617-9b4a-bc0630341e9d",
   "metadata": {},
   "source": [
    "# 1.3 Enable designing geospatial data analysis among multiple themes and sectors\n",
    "\n",
    "- 1.3.1 Principles of geospatial data analysis"
   ]
  },
  {
   "cell_type": "markdown",
   "id": "28795ae5-cbea-40b7-9d08-ee94e85f3d95",
   "metadata": {},
   "source": [
    "## 1.3.1 Principles of geospatial data analysis\n",
    "\n",
    "\n",
    "### (Basic) [Overlay Analysis](https://help.supermap.com/iDesktopX/1101/en/tutorial/Analyst/Vector/overlayanalyst/AboutOverlay/)\n",
    "\n",
    "An overlay analysis is a process of generating new spatial information for users through processing or analyzing spatial data. For example, if we were to understand the soil distribution for a specific administrative region, we could perform an overlay analysis on the national soil map dataset and the administrative district map dataset and get the desirable result. Overlay analyses can also be used to process various attribute information for datasets.\n",
    "\n",
    "\n",
    "- [Hands-on with codes for Overlay Analysis](code/1.3.1Overlay_Raster_and_Vector_Spatial_Data_in_A_Matplotlib_Plot.ipynb): Overlay Raster and Vector Spatial Data in A Matplotlib Plot Using Extents in Python\n",
    "\n",
    "\n",
    "### (Basic) [Spatial interpolation](https://docs.qgis.org/2.18/en/docs/gentle_gis_introduction/spatial_analysis_interpolation.html#:~:text=Spatial%20interpolation%20is%20the%20process,to%20cover%20the%20entire%20region.)\n",
    "\n",
    "Spatial interpolation is the process of using points with known values to estimate values at other unknown points. For example, to make a precipitation (rainfall) map for your country, you will not find enough evenly spread weather stations to cover the entire region.\n",
    "\n",
    "-  [Hands-on with codes for Interpolation Analysis](code/1.3.1Interpolation.ipynb): Interpolation is the process of using locations with known, sampled values (of a phenomenon) to estimate the values at unknown, unsampled areas.\n",
    "\n",
    "### (Basic)[Hotspot analysis](https://www.publichealth.columbia.edu/research/population-health-methods/hot-spot-spatial-analysis#:~:text=Hotspot%20analysis%20is%20a%20spatial,locations%20of%20events%20or%20objects)\n",
    "\n",
    "\n",
    "Hotspot analysis is a spatial analysis and mapping technique interested in the identification of clustering of spatial phenomena. These spatial phenomena are depicted as points in a map and refer to locations of events or object\n",
    "\n",
    "-  [Hands-on with codes for Hotspot Analysis](code/1.3.1Hotspot_analysis_housing.ipynb): Hotspot analysis is a spatial analysis technique used to identify areas of high and low concentration within a given dataset.\n",
    "\n",
    "\n",
    "### (Basic) [Network Analysis](https://desktop.arcgis.com/en/arcmap/latest/extensions/network-analyst/types-of-network-analyses.htm)\n",
    "\n",
    "\n",
    "\n",
    "Network Analysis is useful in many living application tasks. It helps us in deep understanding the structure of a relationship in social networks, a structure or process of change in natural phenomenons, or even the analysis of biological systems of organisms.\n",
    "\n",
    "-  [Hands-on with codes for Network Analysis](code/1.3.1Network_analysis.ipynb)"
   ]
  },
  {
   "cell_type": "code",
   "execution_count": null,
   "id": "d7068014-af69-4e78-8655-3a87e40ecd7a",
   "metadata": {},
   "outputs": [],
   "source": []
  }
 ],
 "metadata": {
  "kernelspec": {
   "display_name": "Python 3 (ipykernel)",
   "language": "python",
   "name": "python3"
  },
  "language_info": {
   "codemirror_mode": {
    "name": "ipython",
    "version": 3
   },
   "file_extension": ".py",
   "mimetype": "text/x-python",
   "name": "python",
   "nbconvert_exporter": "python",
   "pygments_lexer": "ipython3",
   "version": "3.11.6"
  }
 },
 "nbformat": 4,
 "nbformat_minor": 5
}
