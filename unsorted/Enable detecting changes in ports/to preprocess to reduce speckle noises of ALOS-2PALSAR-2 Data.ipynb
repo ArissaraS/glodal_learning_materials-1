{
 "cells": [
  {
   "cell_type": "markdown",
   "id": "dc2fc0b5",
   "metadata": {},
   "source": [
    "## Training Materials: ALOS-2/PALSAR-2 Speckle Noise Reduction"
   ]
  },
  {
   "cell_type": "markdown",
   "id": "f7b437dd",
   "metadata": {},
   "source": [
    "**I. Introduction**"
   ]
  },
  {
   "cell_type": "markdown",
   "id": "8e94a9bb",
   "metadata": {},
   "source": [
    "* **Overview of ALOS-2/PALSAR-2 Data:** ALOS-2/PALSAR-2 is a Synthetic Aperture Radar (SAR) system that provides high-resolution imagery regardless of weather conditions. However, SAR data is inherently affected by speckle noise, a granular interference pattern."
   ]
  },
  {
   "cell_type": "markdown",
   "id": "ede91e10",
   "metadata": {},
   "source": [
    "* **Importance of Speckle Filtering:** Speckle noise hinders image interpretation and analysis. Filtering reduces this noise, improving the accuracy of feature extraction, classification, and change detection."
   ]
  },
  {
   "cell_type": "markdown",
   "id": "5f8f2e20",
   "metadata": {},
   "source": [
    "* **Learning Objectives:** After this training, you will be able to understand speckle noise, apply speckle filtering techniques using Python, and evaluate the results."
   ]
  },
  {
   "cell_type": "markdown",
   "id": "3baa1628",
   "metadata": {},
   "source": [
    "**II. Speckle Noise and its Impact**"
   ]
  },
  {
   "cell_type": "markdown",
   "id": "caf27919",
   "metadata": {},
   "source": [
    "* **What is Speckle Noise?:** Speckle noise is a multiplicative noise inherent in coherent imaging systems like SAR. It appears as a grainy texture and reduces image quality."
   ]
  },
  {
   "cell_type": "markdown",
   "id": "978b6526",
   "metadata": {},
   "source": [
    "* **Visual Examples:** (Images would be inserted here in a real training scenario)"
   ]
  },
  {
   "cell_type": "markdown",
   "id": "9c91e424",
   "metadata": {},
   "source": [
    "* **Effects on Analysis:** Speckle noise can degrade the performance of image analysis algorithms, leading to inaccurate results."
   ]
  },
  {
   "cell_type": "markdown",
   "id": "772d3167",
   "metadata": {},
   "source": [
    "**III. Speckle Filtering Techniques**"
   ]
  },
  {
   "cell_type": "markdown",
   "id": "6fa9d983",
   "metadata": {},
   "source": [
    "* **Overview of Filtering Methods:** Various filters exist, including mean, median, and adaptive filters like the Lee filter."
   ]
  },
  {
   "cell_type": "markdown",
   "id": "3e46fa81",
   "metadata": {},
   "source": [
    "* **Focus on Lee Filter:** The Lee filter is an adaptive filter that preserves edges while effectively reducing speckle noise.  It estimates local statistics to adjust the filtering strength."
   ]
  },
  {
   "cell_type": "markdown",
   "id": "8a836349",
   "metadata": {},
   "source": [
    "* **Parameter Selection:** The `size` parameter in the `lee_filter` function controls the window size. Larger windows lead to stronger smoothing but may blur fine details."
   ]
  },
  {
   "cell_type": "markdown",
   "id": "4ad09efb",
   "metadata": {},
   "source": [
    "**IV. Hands-on Exercise: Speckle Filtering with Python**"
   ]
  },
  {
   "cell_type": "code",
   "execution_count": null,
   "id": "f94c60d8",
   "metadata": {},
   "outputs": [],
   "source": [
    "!pip install rasterio geopandas numpy scipy scikit-image matplotlib"
   ]
  },
  {
   "cell_type": "code",
   "execution_count": null,
   "id": "dc57bcf0",
   "metadata": {},
   "outputs": [],
   "source": [
    "import os\n",
    "import numpy as np\n",
    "import geopandas as gpd\n",
    "import rasterio\n",
    "from rasterio import mask\n",
    "from skimage.transform import resize\n",
    "import matplotlib.pyplot as plt\n",
    "from scipy.ndimage import uniform_filter"
   ]
  },
  {
   "cell_type": "code",
   "execution_count": null,
   "id": "ee5d9fab",
   "metadata": {},
   "outputs": [],
   "source": [
    "# Load the AOI shapefile (replace with your actual path)\n",
    "aoi = gpd.read_file('AOI_shapefile.shp')\n",
    "\n",
    "# Paths to the ALOS-2 images (replace with your actual paths)\n",
    "image_paths = [\n",
    "    'N36E136_18_sl_HH_FP6QAR.tif',\n",
    "    'N36E136_19_sl_HH_FP6QAR.tif'\n",
    "]\n",
    "\n",
    "# Lee filter function\n",
    "def lee_filter(image, size=3):\n",
    "    mean = uniform_filter(image, (size, size))\n",
    "    mean_sq = uniform_filter(image**2, (size, size))\n",
    "    variance = mean_sq - mean**2\n",
    "    overall_variance = np.var(image)\n",
    "    noise_variance = np.maximum(variance - overall_variance, 0)\n",
    "    weights = noise_variance / (noise_variance + variance)\n",
    "    filtered_image = mean + weights * (image - mean)\n",
    "    return filtered_image\n",
    "\n",
    "# Function to visualize images\n",
    "def visualize_images(original, filtered):\n",
    "    fig, axs = plt.subplots(1, 2, figsize=(10, 5))\n",
    "    axs[0].imshow(original, cmap='gray')\n",
    "    axs[0].set_title('Original Image')\n",
    "    axs[0].axis('off')\n",
    "    axs[1].imshow(filtered, cmap='gray')\n",
    "    axs[1].set_title('Filtered Image (Lee Filter)')\n",
    "    axs[1].axis('off')\n",
    "    plt.show()\n",
    "\n",
    "# Process each image\n",
    "for image_path in image_paths:\n",
    "    with rasterio.open(image_path) as src:\n",
    "        out_image, out_transform = mask.mask(src, aoi.geometry, crop=True)\n",
    "        clipped_image = out_image[0]\n",
    "        filtered_image = lee_filter(clipped_image)\n",
    "        visualize_images(clipped_image, filtered_image)"
   ]
  },
  {
   "cell_type": "markdown",
   "id": "7e88e70a",
   "metadata": {},
   "source": [
    "**V. Calibration and Clipping (Optional)**"
   ]
  },
  {
   "cell_type": "code",
   "execution_count": null,
   "id": "bd03491e",
   "metadata": {},
   "outputs": [],
   "source": [
    "# Calibration (replace with your actual calibration parameters)\n",
    "calibrated_image = (20 * np.log10(clipped_image)) - 83"
   ]
  },
  {
   "cell_type": "markdown",
   "id": "8963cd17",
   "metadata": {},
   "source": [
    "**VI. Analyzing Filtered Data (Optional)**"
   ]
  },
  {
   "cell_type": "code",
   "execution_count": null,
   "id": "8fba6804",
   "metadata": {},
   "outputs": [],
   "source": [
    "plt.hist(filtered_image.flatten(), bins=256)\n",
    "plt.title('Histogram of Filtered Image')\n",
    "plt.show()"
   ]
  },
  {
   "cell_type": "markdown",
   "id": "2a30515c",
   "metadata": {},
   "source": [
    "**VII. Conclusion and Resources**"
   ]
  },
  {
   "cell_type": "markdown",
   "id": "1f44aa6c",
   "metadata": {},
   "source": [
    "* **Summary:** We covered speckle noise, its impact, and how to mitigate it using the Lee filter in Python."
   ]
  },
  {
   "cell_type": "markdown",
   "id": "aa3de89f",
   "metadata": {},
   "source": [
    "* **Troubleshooting:** Ensure correct library installations and file paths."
   ]
  },
  {
   "cell_type": "markdown",
   "id": "247cecb9",
   "metadata": {},
   "source": [
    "* **Additional Resources:** (Links would be provided here)"
   ]
  }
 ],
 "metadata": {},
 "nbformat": 4,
 "nbformat_minor": 5
}