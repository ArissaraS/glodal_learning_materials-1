{
 "cells": [
  {
   "cell_type": "markdown",
   "id": "2ce2336e",
   "metadata": {},
   "source": [
    "# Training Materials: Exporting GeoTIFFs with Python and Rasterio"
   ]
  },
  {
   "cell_type": "markdown",
   "id": "988622eb",
   "metadata": {},
   "source": [
    "This training material guides you through exporting geospatial data in GeoTIFF format using Python and the `rasterio` library."
   ]
  },
  {
   "cell_type": "markdown",
   "id": "18774712",
   "metadata": {},
   "source": [
    "## I. Introduction"
   ]
  },
  {
   "cell_type": "markdown",
   "id": "d0717024",
   "metadata": {},
   "source": [
    "**What is a GeoTIFF?**\n",
    "\n",
    "GeoTIFF is a widely used format for storing geospatial raster data. It combines a standard TIFF file with georeferencing information (metadata) that allows GIS software to position the image correctly on the Earth's surface. Advantages include geospatial metadata, portability, and broad software support. Common use cases are aerial imagery, elevation models, satellite data, and thematic maps."
   ]
  },
  {
   "cell_type": "markdown",
   "id": "d3ae198d",
   "metadata": {},
   "source": [
    "**Why use Python and Rasterio?**\n",
    "\n",
    "Python is a powerful language for geospatial analysis, and `rasterio` is a robust library specifically designed for reading and writing GeoTIFFs and other geospatial raster formats. It provides a clean and efficient way to interact with geospatial data in Python."
   ]
  },
  {
   "cell_type": "markdown",
   "id": "06519b21",
   "metadata": {},
   "source": [
    "## II. Setting up your environment"
   ]
  },
  {
   "cell_type": "markdown",
   "id": "d4dfb5dd",
   "metadata": {},
   "source": [
    "**Installing necessary libraries:**\n",
    "\n",
    "Use `pip` to install the required packages. A `requirements.txt` file can list project dependencies:\n",
    "\n",
    "bash\n",
    "pip install rasterio numpy matplotlib\n"
   ]
  },
  {
   "cell_type": "markdown",
   "id": "42c1da0e",
   "metadata": {},
   "source": [
    "**Jupyter Notebooks (Optional):**\n",
    "\n",
    "Jupyter Notebooks offer a convenient environment for running Python code and visualizing results interactively."
   ]
  },
  {
   "cell_type": "markdown",
   "id": "99615dc1",
   "metadata": {},
   "source": [
    "## III. Core Concepts and Workflow"
   ]
  },
  {
   "cell_type": "markdown",
   "id": "701eb8a7",
   "metadata": {},
   "source": [
    "**Raster Data:**\n",
    "\n",
    "Raster data represents a rectangular grid of pixels, where each pixel holds a value corresponding to a specific location on Earth. Key properties include bands (e.g., Red, Green, Blue), resolution (pixel size), and coordinate systems."
   ]
  },
  {
   "cell_type": "markdown",
   "id": "d7543b06",
   "metadata": {},
   "source": [
    "**GeoTIFF Components:**\n",
    "\n",
    "A GeoTIFF contains the raster data and metadata like the Coordinate Reference System (CRS) and the affine transformation matrix (transform), which maps pixel coordinates to real-world coordinates."
   ]
  },
  {
   "cell_type": "markdown",
   "id": "caca51ce",
   "metadata": {},
   "source": [
    "**Typical Workflow:**\n",
    "\n",
    "1. **Prepare the data:** Create a NumPy array holding the raster data.\n",
    "2. **Define geospatial metadata:** Specify the CRS (e.g., EPSG:4326) and the transform using `rasterio.transform.from_origin` or `rasterio.transform.from_bounds`.\n",
    "3. **Write the GeoTIFF:** Use `rasterio.open` in write mode ('w') to create the file, providing the necessary metadata and writing the data array."
   ]
  },
  {
   "cell_type": "markdown",
   "id": "cd4b0e56",
   "metadata": {},
   "source": [
    "## IV. Hands-on Exercises: Exporting a GeoTIFF"
   ]
  },
  {
   "cell_type": "markdown",
   "id": "dd3fd643",
   "metadata": {},
   "source": [
    "**Exercise 1: Simple GeoTIFF Creation:**"
   ]
  },
  {
   "cell_type": "code",
   "execution_count": null,
   "id": "bbfc4a51",
   "metadata": {},
   "outputs": [],
   "source": [
    "import numpy as np\n",
    "import rasterio\n",
    "from rasterio.transform import from_origin\n",
    "\n",
    "# Data\n",
    "data = np.random.randint(0, 256, size=(100, 100), dtype=np.uint8)\n",
    "\n",
    "# Metadata\n",
    "crs = 'EPSG:4326'\n",
    "transform = from_origin(-180.0, 90.0, 0.5, 0.5) # Example: 0.5 degree resolution\n",
    "\n",
    "# Write GeoTIFF\n",
    "with rasterio.open('output.tif', 'w', driver='GTiff',\n",
    "                   height=data.shape[0], width=data.shape[1], count=1,\n",
    "                   dtype=data.dtype, crs=crs, transform=transform) as dst:\n",
    "    dst.write(data, 1)"
   ]
  },
  {
   "cell_type": "markdown",
   "id": "1f103e80",
   "metadata": {},
   "source": [
    "**Exercise 2: Exporting from existing data:**"
   ]
  },
  {
   "cell_type": "code",
   "execution_count": null,
   "id": "5ff3b035",
   "metadata": {},
   "outputs": [],
   "source": [
    "import numpy as np\n",
    "import rasterio\n",
    "\n",
    "# Load data (example: .npy file)\n",
    "data = np.load('existing_data.npy').astype(np.uint8) # Ensure correct data type\n",
    "\n",
    "# Extract metadata from an existing GeoTIFF (or define it)\n",
    "with rasterio.open('reference.tif') as src:\n",
    "    crs = src.crs\n",
    "    transform = src.transform\n",
    "\n",
    "# Write GeoTIFF\n",
    "with rasterio.open('output_from_existing.tif', 'w', driver='GTiff',\n",
    "                   height=data.shape[0], width=data.shape[1], count=1,\n",
    "                   dtype=data.dtype, crs=crs, transform=transform) as dst:\n",
    "    dst.write(data, 1)"
   ]
  },
  {
   "cell_type": "markdown",
   "id": "b1fbc366",
   "metadata": {},
   "source": [
    "**Exercise 3: Advanced Topics (Optional):**"
   ]
  },
  {
   "cell_type": "markdown",
   "id": "eed59468",
   "metadata": {},
   "source": [
    "**COG Creation:**\n",
    "\n",
    "Cloud Optimized GeoTIFFs (COGs) improve access to data over the internet. Create them using GDAL tools:\n",
    "\n",
    "bash\n",
    "gdal_translate input.tif output.tif -co TILED=YES -co COMPRESS=LZW\n",
    "gdaladdo -r average output.tif 2 4 8 16\n"
   ]
  },
  {
   "cell_type": "markdown",
   "id": "c9cafea2",
   "metadata": {},
   "source": [
    "**Multi-band GeoTIFFs:**\n",
    "\n",
    "Export multi-band rasters using a 3D NumPy array and adjusting the `count` parameter in `rasterio.open`."
   ]
  },
  {
   "cell_type": "markdown",
   "id": "204d8d3a",
   "metadata": {},
   "source": [
    "## V. Validation and Troubleshooting"
   ]
  },
  {
   "cell_type": "markdown",
   "id": "df2fc9aa",
   "metadata": {},
   "source": [
    "**Verifying the GeoTIFF:**\n",
    "\n",
    "Use tools like `gdalinfo` or QGIS to inspect the created GeoTIFF and verify its metadata and data integrity."
   ]
  },
  {
   "cell_type": "markdown",
   "id": "9db0a90f",
   "metadata": {},
   "source": [
    "## VI. Conclusion and Resources"
   ]
  },
  {
   "cell_type": "markdown",
   "id": "e4cf3a52",
   "metadata": {},
   "source": [
    "This material covered GeoTIFF export with Python and `rasterio`. Refer to the `rasterio` and GDAL documentation for more details."
   ]
  }
 ],
 "metadata": {},
 "nbformat": 4,
 "nbformat_minor": 5
}